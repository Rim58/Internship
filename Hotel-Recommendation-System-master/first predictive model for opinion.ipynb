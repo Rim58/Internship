{
 "cells": [
  {
   "cell_type": "markdown",
   "metadata": {},
   "source": [
    "# Predicting the positive/negative labels for movie reviews\n",
    "\n",
    "The objective of this programming work is to program a method for predicting the positive/negative label of a movie review.\n",
    "\n",
    "For that, you will use a movie review database built by Pang and Lee, in 2008. This date provides textual data for movie reviews. I give below two examples of such movie reviews :\n",
    "\n",
    "The former : \"this film is extraordinarily horrendous and I'm not going to waste any more words on it.\" is quite negative.\n",
    "\n",
    "The latter : \"this three hour movie opens up with a view of singer/guitar player/musician/composer frank zappa rehearsing with his fellow band members. All the rest displays a compilation of footage, mostly from the concert at the palladium in new york city, halloween 1979. Other footage shows backstage foolishness, and amazing clay animation by Bruce Bickford. the performance of \"titties and beer\" played in this movie is very entertaining, with drummer terry bozzio supplying the voice of the devil. Frank's guitar solos outdo any van halen or hendrix I've ever heard. Bruce Bickford's outlandish clay animation is that beyond belief with zooms, morphings, etc. and actually, it doesn't even look like clay, it looks like meat.\" gives an positive opinion on the movie.\n",
    "\n",
    "Pang and Lee labeled 1000 movie reviews with the 'positive' label and 1000 movie reviews with the 'negative' label.\n",
    "\n",
    "In this work, you will program the method described in [Dave et al., 2003].\n",
    "\n",
    "# Dealing with the movie review database\n",
    "\n",
    "Firstly, let's manipulate the movie review database with Python.\n",
    "\n",
    "This ressource is included in the nltk package:"
   ]
  },
  {
   "cell_type": "code",
   "execution_count": 2,
   "metadata": {},
   "outputs": [
    {
     "name": "stderr",
     "output_type": "stream",
     "text": [
      "[nltk_data] Downloading package movie_reviews to\n",
      "[nltk_data]     C:\\Users\\langlois\\AppData\\Roaming\\nltk_data...\n",
      "[nltk_data]   Unzipping corpora\\movie_reviews.zip.\n"
     ]
    },
    {
     "name": "stdout",
     "output_type": "stream",
     "text": [
      "neg/cv000_29416.txt\n"
     ]
    }
   ],
   "source": [
    "import nltk\n",
    "\n",
    "nltk.download(\"movie_reviews\")\n",
    "\n",
    "from nltk.corpus import movie_reviews\n",
    "\n",
    "negids = movie_reviews.fileids('neg')\n",
    "posids = movie_reviews.fileids('pos')\n",
    "\n",
    "print(negids[0])"
   ]
  },
  {
   "cell_type": "markdown",
   "metadata": {},
   "source": [
    "As you can see in this example, the package movie_reviews defines a funtion fileids which can list the id of the negative ou positive reviews.\n",
    "\n",
    "It is possible to get the text of a review:"
   ]
  },
  {
   "cell_type": "code",
   "execution_count": 3,
   "metadata": {},
   "outputs": [
    {
     "name": "stdout",
     "output_type": "stream",
     "text": [
      "plot : two teen couples go to a church party , drink and then drive . they get into an accident . one of the guys dies , but his girlfriend continues to see him in her life , and has nightmares . what ' s the deal ? watch the movie and \" sorta \" find out . . . critique : a mind - fuck movie for the teen generation that touches on a very cool idea , but presents it in a very bad package . which is what makes this review an even harder one to write , since i generally applaud films which attempt to break the mold , mess with your head and such ( lost highway & memento ) , but there are good and bad ways of making all types of films , and these folks just didn ' t snag this one correctly . they seem to have taken this pretty neat concept , but executed it terribly . so what are the problems with the movie ? well , its main problem is that it ' s simply too jumbled . it starts off \" normal \" but then downshifts into this \" fantasy \" world in which you , as an audience member , have no idea what ' s going on . there are dreams , there are characters coming back from the dead , there are others who look like the dead , there are strange apparitions , there are disappearances , there are a looooot of chase scenes , there are tons of weird things that happen , and most of it is simply not explained . now i personally don ' t mind trying to unravel a film every now and then , but when all it does is give me the same clue over and over again , i get kind of fed up after a while , which is this film ' s biggest problem . it ' s obviously got this big secret to hide , but it seems to want to hide it completely until its final five minutes . and do they make things entertaining , thrilling or even engaging , in the meantime ? not really . the sad part is that the arrow and i both dig on flicks like this , so we actually figured most of it out by the half - way point , so all of the strangeness after that did start to make a little bit of sense , but it still didn ' t the make the film all that more entertaining . i guess the bottom line with movies like this is that you should always make sure that the audience is \" into it \" even before they are given the secret password to enter your world of understanding . i mean , showing melissa sagemiller running away from visions for about 20 minutes throughout the movie is just plain lazy ! ! okay , we get it . . . there are people chasing her and we don ' t know who they are . do we really need to see it over and over again ? how about giving us different scenes offering further insight into all of the strangeness going down in the movie ? apparently , the studio took this film away from its director and chopped it up themselves , and it shows . there might ' ve been a pretty decent teen mind - fuck movie in here somewhere , but i guess \" the suits \" decided that turning it into a music video with little edge , would make more sense . the actors are pretty good for the most part , although wes bentley just seemed to be playing the exact same character that he did in american beauty , only in a new neighborhood . but my biggest kudos go out to sagemiller , who holds her own throughout the entire film , and actually has you feeling her character ' s unraveling . overall , the film doesn ' t stick because it doesn ' t entertain , it ' s confusing , it rarely excites and it feels pretty redundant for most of its runtime , despite a pretty cool ending and explanation to all of the craziness that came before it . oh , and by the way , this is not a horror or teen slasher flick . . . it ' s just packaged to look that way because someone is apparently assuming that the genre is still hot with the kids . it also wrapped production two years ago and has been sitting on the shelves ever since . whatever . . . skip it ! where ' s joblo coming from ? a nightmare of elm street 3 ( 7 / 10 ) - blair witch 2 ( 7 / 10 ) - the crow ( 9 / 10 ) - the crow : salvation ( 4 / 10 ) - lost highway ( 10 / 10 ) - memento ( 10 / 10 ) - the others ( 9 / 10 ) - stir of echoes ( 8 / 10 )\n"
     ]
    }
   ],
   "source": [
    "t = movie_reviews.words(fileids = [negids[0]])\n",
    "print(\" \".join(t))"
   ]
  },
  {
   "cell_type": "markdown",
   "metadata": {},
   "source": [
    "As you can see, the words are given inside a list, and the tokenization is yet applied.\n",
    "\n",
    "OK, now we can access to every movie review, we can access to the document content. Therefore we can compute statistics onto this textual material. Let's go!"
   ]
  },
  {
   "cell_type": "markdown",
   "metadata": {},
   "source": [
    "# Work for you\n",
    "\n",
    "Extract statistics for the negative reviews and for the positive reviews. We want the histogram of lengths of documents, by buckets of size equal to 100. Do you see a difference of distribution between negative reviews and positive reviews?"
   ]
  },
  {
   "cell_type": "code",
   "execution_count": 3,
   "metadata": {},
   "outputs": [
    {
     "name": "stdout",
     "output_type": "stream",
     "text": [
      "bucket= 2 ([100:199]) : pos = 4 neg =6\n",
      "bucket= 3 ([200:299]) : pos = 23 neg =35\n",
      "bucket= 4 ([300:399]) : pos = 56 neg =66\n",
      "bucket= 5 ([400:499]) : pos = 85 neg =83\n",
      "bucket= 6 ([500:599]) : pos = 106 neg =139\n",
      "bucket= 7 ([600:699]) : pos = 132 neg =154\n",
      "bucket= 8 ([700:799]) : pos = 120 neg =129\n",
      "bucket= 9 ([800:899]) : pos = 128 neg =126\n",
      "bucket= 10 ([900:999]) : pos = 86 neg =98\n",
      "bucket= 11 ([1000:1099]) : pos = 74 neg =48\n",
      "bucket= 12 ([1100:1199]) : pos = 48 neg =39\n",
      "bucket= 13 ([1200:1299]) : pos = 31 neg =21\n",
      "bucket= 14 ([1300:1399]) : pos = 33 neg =12\n",
      "bucket= 15 ([1400:1499]) : pos = 17 neg =13\n",
      "bucket= 16 ([1500:1599]) : pos = 14 neg =8\n",
      "bucket= 17 ([1600:1699]) : pos = 11 neg =8\n",
      "bucket= 18 ([1700:1799]) : pos = 9 neg =3\n",
      "bucket= 19 ([1800:1899]) : pos = 7 neg =4\n",
      "bucket= 20 ([1900:1999]) : pos = 4 neg =3\n",
      "bucket= 21 ([2000:2099]) : pos = 2 neg =0\n",
      "bucket= 22 ([2100:2199]) : pos = 5 neg =1\n",
      "bucket= 23 ([2200:2299]) : pos = 2 neg =2\n",
      "bucket= 27 ([2600:2699]) : pos = 1 neg =0\n",
      "bucket= 28 ([2700:2799]) : pos = 1 neg =0\n",
      "bucket= 29 ([2800:2899]) : pos = 1 neg =0\n"
     ]
    }
   ],
   "source": [
    "stats1 = {}\n",
    "for iddoc in posids:\n",
    "    t = movie_reviews.words(fileids = [iddoc])\n",
    "    bucket = len(t) // 100 + 1\n",
    "    if bucket in stats1:\n",
    "        stats1[bucket] += 1\n",
    "    else:\n",
    "        stats1[bucket] = 1\n",
    "\n",
    "stats2 = {}\n",
    "for iddoc in negids:\n",
    "    t = movie_reviews.words(fileids = [iddoc])\n",
    "    bucket = len(t) // 100 + 1\n",
    "    if bucket in stats2:\n",
    "        stats2[bucket] += 1\n",
    "    else:\n",
    "        stats2[bucket] = 1\n",
    "\n",
    "        \n",
    "        \n",
    "for b in stats1:\n",
    "    print(\"bucket=\",b,\"([\"+str((b-1)*100)+\":\"+str((b)*100-1)+\"]) : pos =\",stats1[b],\"neg =\",end=\"\")\n",
    "    if b in stats2:\n",
    "        print(stats2[b])\n",
    "    else:\n",
    "        print(\"0\")\n",
    "    "
   ]
  },
  {
   "cell_type": "markdown",
   "metadata": {},
   "source": [
    "# Segmentation of the corpus into a train part and a test part\n",
    "\n",
    "When you want to estimate a predictive model and evaluate it, you have to estimate the predictive model on a train part, and you have to evaluate the predictive performance on a __separate__ test part.\n",
    "\n",
    "For, that, I propose the folowwing code:"
   ]
  },
  {
   "cell_type": "code",
   "execution_count": 4,
   "metadata": {},
   "outputs": [
    {
     "name": "stdout",
     "output_type": "stream",
     "text": [
      "750\n",
      "250\n",
      "750\n",
      "250\n"
     ]
    }
   ],
   "source": [
    "train_negids = negids[0:int(0.75*len(negids))]\n",
    "test_negids = negids[int(0.75*len(negids)):]\n",
    "train_posids = posids[0:int(0.75*len(posids))]\n",
    "test_posids = posids[int(0.75*len(posids)):]\n",
    "\n",
    "print(len(train_negids))\n",
    "print(len(test_negids))\n",
    "print(len(train_posids))\n",
    "print(len(test_posids))"
   ]
  },
  {
   "cell_type": "markdown",
   "metadata": {},
   "source": [
    "# The predictive model\n",
    "\n",
    "[Dave et al., 2003] propose the following strategy to predict the label of a movie review :\n",
    "\n",
    "The score of a word $w$ is definid by:\n",
    "\n",
    "$$ score(w) = \\frac{P(w|P)-P(w|N)}{P(w|P)+P(w|N)}$$\n",
    "\n",
    "Then, the 'positivity' of a document $d$ is given by:\n",
    "\n",
    "$$eval(d) = \\sum_{w \\in set(d)} score(w)$$\n",
    "\n",
    "where the sum is applyed on the set of words in $d$ (a word occuring several times in $d$ is counted only once in the sum).\n",
    "\n",
    "Then, the decision follows the following condition: if  eval(d) > 0 then the document is positive else the document is negative\n",
    "\n"
   ]
  },
  {
   "cell_type": "markdown",
   "metadata": {},
   "source": [
    "# Estimating the parameters of the predictive model\n",
    "\n",
    "The parameters of this predictive model are all the $P(w|P)$ and the $P(w|N)$ for all the words $w$ in the positive and negative documents.\n",
    "\n",
    "__Work__: compute these values on the training corpus.\n",
    "\n",
    "For estimating the $P(w|P)$, iterate on all the positive documents in the train part. $P(w|P)$ is defined by:\n",
    "\n",
    "$$P(w|P) = \\frac{|sum_{d \\in \\{P\\}} \\delta(w,d)|}{|\\{P\\}|}$$\n",
    "\n",
    "where $\\{P\\}$ is the set of document in the positive train part, and  $\\delta(w,d)$ is equal to 1 if $w$ is in $d$, 0 otherwise. \n",
    "\n",
    "The formula is the same for $P(w|N)$"
   ]
  },
  {
   "cell_type": "code",
   "execution_count": 9,
   "metadata": {},
   "outputs": [
    {
     "name": "stdout",
     "output_type": "stream",
     "text": [
      "0.2613333333333333\n",
      "0.5066666666666667\n",
      "0.5853333333333334\n",
      "0.5893333333333334\n"
     ]
    }
   ],
   "source": [
    "\n",
    "## for P(w|negative)\n",
    "stats_neg_words = {}\n",
    "\n",
    "for iddoc in train_negids:\n",
    "    t = movie_reviews.words(fileids = [iddoc])\n",
    "    t = set(t) ## now a word occurs only once \n",
    "    for w in t:\n",
    "        if w in stats_neg_words:\n",
    "            stats_neg_words[w] += 1\n",
    "        else:\n",
    "            stats_neg_words[w] = 1\n",
    "\n",
    "## we divide by the number of negative docs in order to have values between 0 and 1            \n",
    "for w in stats_neg_words:\n",
    "    stats_neg_words[w] = stats_neg_words[w]/len(train_negids) \n",
    "\n",
    "## same work for positive documents\n",
    "stats_pos_words = {}\n",
    "\n",
    "for iddoc in train_posids:\n",
    "    t = movie_reviews.words(fileids = [iddoc])\n",
    "    t = set(t)\n",
    "    for w in t:\n",
    "        if w in stats_pos_words:\n",
    "            stats_pos_words[w] += 1\n",
    "        else:\n",
    "            stats_pos_words[w] = 1\n",
    "\n",
    "for w in stats_pos_words:\n",
    "    stats_pos_words[w] = stats_pos_words[w]/len(train_posids) \n",
    "    \n",
    "## we complete stats_pos_words by adding each\n",
    "## word that are in stats_neg_words and not in stats_pos_words\n",
    "## but with score 0\n",
    "for w in stats_neg_words:\n",
    "  if not w in stats_pos_words:\n",
    "    stats_pos_words[w] = 0\n",
    "\n",
    "## same work for stats_neg_words\n",
    "for w in stats_pos_words:\n",
    "  if not w in stats_neg_words:\n",
    "    stats_neg_words[w] = 0\n",
    "\n",
    "    \n",
    "## examples    \n",
    "print(stats_pos_words[\"bad\"])\n",
    "print(stats_neg_words[\"bad\"])\n",
    "print(stats_pos_words[\"good\"])\n",
    "print(stats_neg_words[\"good\"])\n",
    "\n",
    "## P(w|?) ? can be positive or negative if stats is positive dictionary or negative dictionary\n",
    "def score_word(w,stats):\n",
    "    if w not in stats:\n",
    "        return 0\n",
    "    return stats[w]\n",
    "\n",
    "## positivity of the word\n",
    "def score(w,stats_p,stats_n):\n",
    "    ## ATTENTION : I must take into account that, during test conditions,\n",
    "    ## w can be not in the training positive docs and not int the training negative docs\n",
    "    sp = score_word(w,stats_p)\n",
    "    sn = score_word(w,stats_n)\n",
    "    if sp+sn == 0:\n",
    "        ## then, by default return 0 : not negative, not positive\n",
    "        return 0\n",
    "    return (sp-sn)/(sp+sn)\n",
    "\n",
    "\n",
    "## positivity of a document\n",
    "def eval(iddoc,stats_p,stats_n,threshold):\n",
    "    t = movie_reviews.words(fileids = [iddoc])\n",
    "    t = set(t)\n",
    "    s = 0\n",
    "    ## sum for all word in the document\n",
    "    for w in t:\n",
    "        s += score(w,stats_p,stats_n)\n",
    "    ## return decision\n",
    "    if s > threshold:\n",
    "        return \"P\"\n",
    "    else:\n",
    "        return \"N\"\n",
    "\n"
   ]
  },
  {
   "cell_type": "markdown",
   "metadata": {},
   "source": [
    "# Evaluating the predictive model\n",
    "\n",
    "We want to know if, on the test corpus, the decision strategy described above works well or not. We want to know if when a document is labeled positive, the document is predicted as positive, and so on for a negative document.\n",
    "\n",
    "We are going to evaluate the following statistics on the test corpus.\n",
    "\n",
    "When the model predict P, the document could be actually P: this is a true positive ($tp$). But, the document may be actually negative: this is a false positive ($fp$).\n",
    "\n",
    "In the same way, when the model predict N, the document could be actually N: this is a true negative ($tn$). But, the document may be actually positive: this is a false negative ($fn$).\n",
    "\n",
    "Note that, there are the following constraints:\n",
    "\n",
    "+ $tp+fp=n$\n",
    "+ $fn+tn=n$\n",
    "+ $tp+fn=n$\n",
    "+ $fp+tn=n$ \n",
    "\n",
    "where $n$ is the number of documents (positive or negative).\n",
    "\n",
    "these notations can be sumarized into the following table\n",
    "\n",
    "<table>\n",
    "    <tr>\n",
    "        <td>  </td>\n",
    "        <td>  </td>\n",
    "        <td colspan=2 style=\"text-align: center\"> True label </td>\n",
    "    </tr>\n",
    "    <tr>\n",
    "        <td>  </td>\n",
    "        <td>  </td>\n",
    "        <td> positive </td>\n",
    "        <td> negative </td>\n",
    "    </tr>    \n",
    "    <tr>\n",
    "        <td rowspan=2 style=\"vertical-align: center\"> Predicted label </td>\n",
    "        <td> positive </td>\n",
    "        <td> true positive </td>\n",
    "        <td> false positive </td>\n",
    "    </tr>\n",
    "    <tr>\n",
    "        <td> negative </td>\n",
    "        <td> false negative </td>\n",
    "        <td> true negative </td>\n",
    "    </tr>\n",
    "</table>\n",
    "\n",
    "\n",
    "The recall evaluates how much the model can retrieve the correct decision:\n",
    "\n",
    "$$recall = \\frac{tp}{tp+fn}$$\n",
    "\n",
    "The precision evaluates if the model does not sur-generate the positive or negative prediction:\n",
    "\n",
    "$$precision = \\frac{tp}{tp+fp}$$\n",
    "\n",
    "Moreover, we can use the F1 measure which deal with precision and recall:\n",
    "\n",
    "$$F1 = 2 \\times \\frac{precision \\times recall}{precision + recall}$$\n",
    "\n",
    "__Work__: evaluate on the test corpus the recall, the precision and the F1 measure."
   ]
  },
  {
   "cell_type": "code",
   "execution_count": 10,
   "metadata": {},
   "outputs": [
    {
     "name": "stdout",
     "output_type": "stream",
     "text": [
      "================== 0\n",
      "recall 0.976\n",
      "precision 0.6455026455026455\n",
      "F1 0.7770700636942673\n",
      "================== 1\n",
      "recall 0.964\n",
      "precision 0.667590027700831\n",
      "F1 0.7888707037643207\n",
      "================== 2\n",
      "recall 0.952\n",
      "precision 0.695906432748538\n",
      "F1 0.8040540540540541\n",
      "================== 3\n",
      "recall 0.936\n",
      "precision 0.7069486404833837\n",
      "F1 0.8055077452667815\n",
      "================== 4\n",
      "recall 0.908\n",
      "precision 0.7138364779874213\n",
      "F1 0.7992957746478873\n",
      "================== 5\n",
      "recall 0.892\n",
      "precision 0.7216828478964401\n",
      "F1 0.7978533094812166\n",
      "================== 6\n",
      "recall 0.852\n",
      "precision 0.7344827586206897\n",
      "F1 0.788888888888889\n",
      "================== 7\n",
      "recall 0.824\n",
      "precision 0.7490909090909091\n",
      "F1 0.7847619047619048\n",
      "================== 8\n",
      "recall 0.808\n",
      "precision 0.7651515151515151\n",
      "F1 0.7859922178988327\n",
      "================== 9\n",
      "recall 0.776\n",
      "precision 0.782258064516129\n",
      "F1 0.7791164658634537\n",
      "================== 10\n",
      "recall 0.764\n",
      "precision 0.809322033898305\n",
      "F1 0.7860082304526749\n"
     ]
    }
   ],
   "source": [
    "## we predict P or N for each doc in test, and we compute tp, fp, tn and fn\n",
    "\n",
    "for t in [0,1,2,3,4,5,6,7,8,9,10]:\n",
    "    print(\"==================\",t)\n",
    "\n",
    "    tp = 0\n",
    "    fp = 0\n",
    "    tn = 0\n",
    "    fn = 0\n",
    "\n",
    "    for iddoc in test_negids:\n",
    "        if eval(iddoc,stats_pos_words,stats_neg_words,t) == \"P\":\n",
    "            fp += 1\n",
    "        else:\n",
    "            tn += 1\n",
    "\n",
    "    for iddoc in test_posids:\n",
    "        if eval(iddoc,stats_pos_words,stats_neg_words,t) == \"P\":\n",
    "            tp += 1\n",
    "        else:\n",
    "            fn += 1\n",
    "\n",
    "    recall = tp/(tp+fn)\n",
    "    precision = tp/(tp+fp)\n",
    "    F1 = 2*(precision*recall)/(precision+recall)\n",
    "\n",
    "    print(\"recall\",recall)\n",
    "    print(\"precision\",precision)\n",
    "    print(\"F1\",F1)"
   ]
  },
  {
   "cell_type": "markdown",
   "metadata": {},
   "source": [
    "The model retrieves 97.6% of the positive documents, but only 64.6% of the retrieved documents (labeled positive by the model) are actually positive."
   ]
  }
 ],
 "metadata": {
  "kernelspec": {
   "display_name": "Python 3",
   "language": "python",
   "name": "python3"
  },
  "language_info": {
   "codemirror_mode": {
    "name": "ipython",
    "version": 3
   },
   "file_extension": ".py",
   "mimetype": "text/x-python",
   "name": "python",
   "nbconvert_exporter": "python",
   "pygments_lexer": "ipython3",
   "version": "3.7.2"
  }
 },
 "nbformat": 4,
 "nbformat_minor": 2
}
