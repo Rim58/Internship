{
 "cells": [
  {
   "cell_type": "code",
   "execution_count": 39,
   "metadata": {},
   "outputs": [],
   "source": [
    "import pandas as pd\n",
    "import numpy as np\n",
    "from sklearn.decomposition import TruncatedSVD\n",
    "import sys\n",
    "from sklearn.metrics import jaccard_similarity_score\n",
    "import seaborn as sns\n",
    "import matplotlib.pyplot as plt\n",
    "import math\n",
    "import os\n",
    "import spacy\n",
    "from spacy_langdetect import LanguageDetector\n",
    "from nltk.sentiment.vader import SentimentIntensityAnalyzer\n"
   ]
  },
  {
   "cell_type": "code",
   "execution_count": 4,
   "metadata": {},
   "outputs": [
    {
     "name": "stdout",
     "output_type": "stream",
     "text": [
      "hoorah\n"
     ]
    }
   ],
   "source": [
    "input = '../hotels_data.csv'"
   ]
  },
  {
   "cell_type": "code",
   "execution_count": 40,
   "metadata": {},
   "outputs": [],
   "source": [
    "nlp = spacy.load(\"en_core_web_sm\")\n",
    "nlp.add_pipe(LanguageDetector(), name='language_detector', last=True)\n",
    "sid = SentimentIntensityAnalyzer()"
   ]
  },
  {
   "cell_type": "code",
   "execution_count": 24,
   "metadata": {},
   "outputs": [
    {
     "name": "stderr",
     "output_type": "stream",
     "text": [
      "/home/tomine/.anaconda3/lib/python3.7/site-packages/ipykernel_launcher.py:8: ParserWarning: Falling back to the 'python' engine because the 'c' engine does not support regex separators (separators > 1 char and different from '\\s+' are interpreted as regex); you can avoid this warning by specifying engine='python'.\n",
      "  \n",
      "Skipping line 50647: Expected 9 fields in line 50647, saw 11. Error could possibly be due to quotes being ignored when a multi-char delimiter is used.\n",
      "Skipping line 71068: Expected 9 fields in line 71068, saw 10. Error could possibly be due to quotes being ignored when a multi-char delimiter is used.\n",
      "Skipping line 73612: Expected 9 fields in line 73612, saw 11. Error could possibly be due to quotes being ignored when a multi-char delimiter is used.\n",
      "Skipping line 104136: Expected 9 fields in line 104136, saw 10. Error could possibly be due to quotes being ignored when a multi-char delimiter is used.\n",
      "Skipping line 122095: Expected 9 fields in line 122095, saw 13. Error could possibly be due to quotes being ignored when a multi-char delimiter is used.\n",
      "Skipping line 131883: Expected 9 fields in line 131883, saw 10. Error could possibly be due to quotes being ignored when a multi-char delimiter is used.\n",
      "Skipping line 223766: Expected 9 fields in line 223766, saw 11. Error could possibly be due to quotes being ignored when a multi-char delimiter is used.\n",
      "Skipping line 225005: Expected 9 fields in line 225005, saw 10. Error could possibly be due to quotes being ignored when a multi-char delimiter is used.\n",
      "Skipping line 227448: Expected 9 fields in line 227448, saw 10. Error could possibly be due to quotes being ignored when a multi-char delimiter is used.\n",
      "Skipping line 241246: Expected 9 fields in line 241246, saw 10. Error could possibly be due to quotes being ignored when a multi-char delimiter is used.\n",
      "Skipping line 247661: Expected 9 fields in line 247661, saw 13. Error could possibly be due to quotes being ignored when a multi-char delimiter is used.\n",
      "Skipping line 256300: Expected 9 fields in line 256300, saw 10. Error could possibly be due to quotes being ignored when a multi-char delimiter is used.\n",
      "Skipping line 404206: Expected 9 fields in line 404206, saw 10. Error could possibly be due to quotes being ignored when a multi-char delimiter is used.\n",
      "Skipping line 425331: Expected 9 fields in line 425331, saw 11. Error could possibly be due to quotes being ignored when a multi-char delimiter is used.\n",
      "Skipping line 442308: Expected 9 fields in line 442308, saw 10. Error could possibly be due to quotes being ignored when a multi-char delimiter is used.\n",
      "Skipping line 456868: Expected 9 fields in line 456868, saw 10. Error could possibly be due to quotes being ignored when a multi-char delimiter is used.\n",
      "Skipping line 494247: Expected 9 fields in line 494247, saw 10. Error could possibly be due to quotes being ignored when a multi-char delimiter is used.\n",
      "Skipping line 512290: Expected 9 fields in line 512290, saw 10. Error could possibly be due to quotes being ignored when a multi-char delimiter is used.\n",
      "Skipping line 530081: Expected 9 fields in line 530081, saw 10. Error could possibly be due to quotes being ignored when a multi-char delimiter is used.\n",
      "Skipping line 570492: Expected 9 fields in line 570492, saw 10. Error could possibly be due to quotes being ignored when a multi-char delimiter is used.\n",
      "Skipping line 589162: Expected 9 fields in line 589162, saw 10. Error could possibly be due to quotes being ignored when a multi-char delimiter is used.\n",
      "Skipping line 639489: Expected 9 fields in line 639489, saw 10. Error could possibly be due to quotes being ignored when a multi-char delimiter is used.\n",
      "Skipping line 658224: Expected 9 fields in line 658224, saw 10. Error could possibly be due to quotes being ignored when a multi-char delimiter is used.\n",
      "Skipping line 763312: Expected 9 fields in line 763312, saw 10. Error could possibly be due to quotes being ignored when a multi-char delimiter is used.\n",
      "Skipping line 826830: Expected 9 fields in line 826830, saw 10. Error could possibly be due to quotes being ignored when a multi-char delimiter is used.\n",
      "Skipping line 841518: Expected 9 fields in line 841518, saw 10. Error could possibly be due to quotes being ignored when a multi-char delimiter is used.\n",
      "Skipping line 852016: Expected 9 fields in line 852016, saw 10. Error could possibly be due to quotes being ignored when a multi-char delimiter is used.\n",
      "Skipping line 863930: Expected 9 fields in line 863930, saw 10. Error could possibly be due to quotes being ignored when a multi-char delimiter is used.\n"
     ]
    },
    {
     "name": "stdout",
     "output_type": "stream",
     "text": [
      "(878533, 10)\n",
      "3987\n"
     ]
    }
   ],
   "source": [
    "dictionary_of_lemmas = {\n",
    "    \"Reservations\": ['booking', 'front_desk', ''], \n",
    "    \"Meals\": ['food', 'breakfast', 'lunch'], \n",
    "    \"Location\": ['city_center', 'train_station'], \n",
    "    \"Services\": ['cancelation', 'roomservice']\n",
    "    }\n",
    "\n",
    "df = pd.read_csv('../Data2.txt', sep=\";;\", header=None,error_bad_lines=False)\n",
    "df.columns = [\"review_id\", \"overall_rating\", \"title_of_the_review\", \"text_of_the_review\", \"username\", \"location_of_the_user\", \n",
    "                \"hotel_id\", \"date_stayed\", \"date_of_the_review\"]\n",
    "df['text_of_the_review'] = df.apply(lambda row: '' if pd.isna(row['text_of_the_review']) is True else row['text_of_the_review'] , axis=1)\n",
    "\n",
    "# hotelDfassiging groundtruth to our dataset \n",
    "# the groundtruth is categorical variable ('positive', 'negative'). \n",
    "# If the rating score is 4 or 5, we say the ground truth is positive, otherwise we say it is negative.\n",
    "\n",
    "df['groundTruth'] = df.apply(lambda row: 'positive' if float(row['overall_rating']) > 3 else 'negative' , axis=1)\n",
    "\n",
    "\n",
    "hotel_ids = set()\n",
    "print(df.shape)\n",
    "for idx, row in df.iterrows():\n",
    "    hotel_ids.add(row['hotel_id'])\n",
    "\n",
    "print(len(hotel_ids))\n"
   ]
  },
  {
   "cell_type": "code",
   "execution_count": 25,
   "metadata": {},
   "outputs": [
    {
     "name": "stdout",
     "output_type": "stream",
     "text": [
      "3987\n"
     ]
    }
   ],
   "source": [
    "hotel_revs = {str(hotel):[] for hotel in hotel_ids}\n",
    "print(len(hotel_revs))\n"
   ]
  },
  {
   "cell_type": "code",
   "execution_count": 28,
   "metadata": {},
   "outputs": [],
   "source": [
    "for idx, row in df.iterrows():\n",
    "    if pd.isna(row['hotel_id']) is False and pd.isna(row['text_of_the_review']) is False:\n",
    "        hotel_revs[row['hotel_id']].append(row['text_of_the_review'])\n"
   ]
  },
  {
   "cell_type": "code",
   "execution_count": null,
   "metadata": {},
   "outputs": [],
   "source": [
    "info_all_hotels = {str(hotel):[] for hotel in hotel_ids}\n",
    "for hotel, reviews in hotel_revs.items():\n",
    "    info_reviews = []\n",
    "    for review in reviews:\n",
    "#         print(review)\n",
    "        doc = nlp(review)\n",
    "        sentences = doc.sents\n",
    "        info_sentences = []\n",
    "        if doc._.language['language'] == 'en':\n",
    "            for sentence in sentences:\n",
    "                info_sentence = {\"vaderScore\":0, \"lemmas\": []}\n",
    "                score = sid.polarity_scores(sentence.text)\n",
    "                info_sentence['vaderScore'] = score['compound']\n",
    "                lemmas = [tok.lemma_ for tok in sentence]\n",
    "                info_sentence[\"lemmas\"] = lemmas\n",
    "                info_sentences.append(info_sentence)\n",
    "#                 print(info_sentence)\n",
    "        info_reviews.append(info_sentences)\n",
    "    info_all_hotels[hotel].append(info_reviews)\n",
    "#     print(info_all_hotels)\n",
    "    \n",
    "\n",
    "\n",
    "\n",
    "            "
   ]
  },
  {
   "cell_type": "code",
   "execution_count": null,
   "metadata": {},
   "outputs": [],
   "source": [
    "import pickle\n",
    "with open('hotel_revs.pkl', 'wb') as f:\n",
    "    pickle.dump(info_all_hotels, f)"
   ]
  },
  {
   "cell_type": "code",
   "execution_count": null,
   "metadata": {},
   "outputs": [],
   "source": []
  }
 ],
 "metadata": {
  "kernelspec": {
   "display_name": "Python 3",
   "language": "python",
   "name": "python3"
  },
  "language_info": {
   "codemirror_mode": {
    "name": "ipython",
    "version": 3
   },
   "file_extension": ".py",
   "mimetype": "text/x-python",
   "name": "python",
   "nbconvert_exporter": "python",
   "pygments_lexer": "ipython3",
   "version": "3.7.4"
  }
 },
 "nbformat": 4,
 "nbformat_minor": 2
}
