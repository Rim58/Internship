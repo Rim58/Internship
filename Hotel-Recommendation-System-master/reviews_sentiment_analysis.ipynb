{
 "cells": [
  {
   "cell_type": "markdown",
   "metadata": {},
   "source": [
    "# Sentiment Analysis for Hotel Reviews"
   ]
  },
  {
   "cell_type": "markdown",
   "metadata": {},
   "source": [
    "## Overview\n",
    "applying sentiment analysis to hotel reviews using **Mutual Information** and **Vader Sentiment Analyzer**.\n",
    "\n",
    " **Vader sentiment analyzer, Mutual Information and Point-wise Mutual Information** are used to discover the relation between those metrics and ground-truth rating scores."
   ]
  },
  {
   "cell_type": "code",
   "execution_count": 1,
   "metadata": {},
   "outputs": [
    {
     "name": "stderr",
     "output_type": "stream",
     "text": [
      "[nltk_data] Downloading package vader_lexicon to\n",
      "[nltk_data]     /home/maria/nltk_data...\n",
      "[nltk_data]   Package vader_lexicon is already up-to-date!\n",
      "[nltk_data] Downloading package stopwords to /home/maria/nltk_data...\n",
      "[nltk_data]   Package stopwords is already up-to-date!\n"
     ]
    },
    {
     "data": {
      "text/plain": [
       "True"
      ]
     },
     "execution_count": 1,
     "metadata": {},
     "output_type": "execute_result"
    }
   ],
   "source": [
    "#Download required ntlk packages and lib\n",
    "import nltk\n",
    "nltk.download(\"vader_lexicon\")\n",
    "nltk.download(\"stopwords\")"
   ]
  },
  {
   "cell_type": "code",
   "execution_count": 2,
   "metadata": {},
   "outputs": [],
   "source": [
    "from nltk.sentiment import SentimentAnalyzer\n",
    "from nltk.sentiment.vader import SentimentIntensityAnalyzer\n",
    "from nltk.sentiment.util import *\n",
    "from nltk import tokenize\n",
    "from nltk.corpus import stopwords\n",
    "import pandas as pd\n",
    "import numpy as np\n",
    "from collections import Counter\n",
    "import re\n",
    "import math\n",
    "import html\n",
    "import sklearn\n",
    "import sklearn.metrics as metrics\n",
    "from sklearn.metrics import mutual_info_score\n",
    "from sklearn.feature_extraction.text import CountVectorizer, TfidfVectorizer, ENGLISH_STOP_WORDS\n",
    "import matplotlib.pyplot as plt\n",
    "import seaborn as sns\n",
    "from pprint import pprint\n",
    "\n",
    "%matplotlib inline"
   ]
  },
  {
   "cell_type": "code",
   "execution_count": 7,
   "metadata": {},
   "outputs": [
    {
     "name": "stderr",
     "output_type": "stream",
     "text": [
      "/home/maria/anaconda3/envs/nlp/lib/python3.6/site-packages/ipykernel_launcher.py:1: ParserWarning: Falling back to the 'python' engine because the 'c' engine does not support regex separators (separators > 1 char and different from '\\s+' are interpreted as regex); you can avoid this warning by specifying engine='python'.\n",
      "  \"\"\"Entry point for launching an IPython kernel.\n",
      "Skipping line 50647: Expected 9 fields in line 50647, saw 11. Error could possibly be due to quotes being ignored when a multi-char delimiter is used.\n",
      "Skipping line 71068: Expected 9 fields in line 71068, saw 10. Error could possibly be due to quotes being ignored when a multi-char delimiter is used.\n",
      "Skipping line 73612: Expected 9 fields in line 73612, saw 11. Error could possibly be due to quotes being ignored when a multi-char delimiter is used.\n",
      "Skipping line 104136: Expected 9 fields in line 104136, saw 10. Error could possibly be due to quotes being ignored when a multi-char delimiter is used.\n",
      "Skipping line 122095: Expected 9 fields in line 122095, saw 13. Error could possibly be due to quotes being ignored when a multi-char delimiter is used.\n",
      "Skipping line 131883: Expected 9 fields in line 131883, saw 10. Error could possibly be due to quotes being ignored when a multi-char delimiter is used.\n",
      "Skipping line 223766: Expected 9 fields in line 223766, saw 11. Error could possibly be due to quotes being ignored when a multi-char delimiter is used.\n",
      "Skipping line 225005: Expected 9 fields in line 225005, saw 10. Error could possibly be due to quotes being ignored when a multi-char delimiter is used.\n",
      "Skipping line 227448: Expected 9 fields in line 227448, saw 10. Error could possibly be due to quotes being ignored when a multi-char delimiter is used.\n",
      "Skipping line 241246: Expected 9 fields in line 241246, saw 10. Error could possibly be due to quotes being ignored when a multi-char delimiter is used.\n",
      "Skipping line 247661: Expected 9 fields in line 247661, saw 13. Error could possibly be due to quotes being ignored when a multi-char delimiter is used.\n",
      "Skipping line 256300: Expected 9 fields in line 256300, saw 10. Error could possibly be due to quotes being ignored when a multi-char delimiter is used.\n",
      "Skipping line 404206: Expected 9 fields in line 404206, saw 10. Error could possibly be due to quotes being ignored when a multi-char delimiter is used.\n",
      "Skipping line 425331: Expected 9 fields in line 425331, saw 11. Error could possibly be due to quotes being ignored when a multi-char delimiter is used.\n",
      "Skipping line 442308: Expected 9 fields in line 442308, saw 10. Error could possibly be due to quotes being ignored when a multi-char delimiter is used.\n",
      "Skipping line 456868: Expected 9 fields in line 456868, saw 10. Error could possibly be due to quotes being ignored when a multi-char delimiter is used.\n",
      "Skipping line 494247: Expected 9 fields in line 494247, saw 10. Error could possibly be due to quotes being ignored when a multi-char delimiter is used.\n",
      "Skipping line 512290: Expected 9 fields in line 512290, saw 10. Error could possibly be due to quotes being ignored when a multi-char delimiter is used.\n",
      "Skipping line 530081: Expected 9 fields in line 530081, saw 10. Error could possibly be due to quotes being ignored when a multi-char delimiter is used.\n",
      "Skipping line 570492: Expected 9 fields in line 570492, saw 10. Error could possibly be due to quotes being ignored when a multi-char delimiter is used.\n",
      "Skipping line 589162: Expected 9 fields in line 589162, saw 10. Error could possibly be due to quotes being ignored when a multi-char delimiter is used.\n",
      "Skipping line 639489: Expected 9 fields in line 639489, saw 10. Error could possibly be due to quotes being ignored when a multi-char delimiter is used.\n",
      "Skipping line 658224: Expected 9 fields in line 658224, saw 10. Error could possibly be due to quotes being ignored when a multi-char delimiter is used.\n",
      "Skipping line 763312: Expected 9 fields in line 763312, saw 10. Error could possibly be due to quotes being ignored when a multi-char delimiter is used.\n",
      "Skipping line 826830: Expected 9 fields in line 826830, saw 10. Error could possibly be due to quotes being ignored when a multi-char delimiter is used.\n",
      "Skipping line 841518: Expected 9 fields in line 841518, saw 10. Error could possibly be due to quotes being ignored when a multi-char delimiter is used.\n",
      "Skipping line 852016: Expected 9 fields in line 852016, saw 10. Error could possibly be due to quotes being ignored when a multi-char delimiter is used.\n",
      "Skipping line 863930: Expected 9 fields in line 863930, saw 10. Error could possibly be due to quotes being ignored when a multi-char delimiter is used.\n"
     ]
    }
   ],
   "source": [
    "hotelDf = pd.read_csv('Data2.txt', sep=\";;\", header=None,error_bad_lines=False)\n",
    "hotelDf.columns = [\"review_id\", \"overall_rating\", \"title_of_the_review\", \"text_of_the_review\", \"username\", \"location_of_the_user\", \n",
    "                \"hotel_id\", \"date_stayed\", \"date_of_the_review\"]\n",
    "hotelDf['text_of_the_review'] = hotelDf.apply(lambda row: '' if row['text_of_the_review'] is None else row['text_of_the_review'] , axis=1)\n",
    "\n",
    "# hotelDfassiging groundtruth to our dataset \n",
    "# the groundtruth is categorical variable ('positive', 'negative'). \n",
    "# If the rating score is 4 or 5, we say the ground truth is positive, otherwise we say it is negative.\n",
    "\n",
    "hotelDf['groundTruth'] = hotelDf.apply(lambda row: 'positive' if float(row['overall_rating']) > 3 else 'negative' , axis=1)\n",
    "\n",
    "hotelDf.to_csv('dataset.csv', sep=';')"
   ]
  },
  {
   "cell_type": "code",
   "execution_count": 3,
   "metadata": {},
   "outputs": [
    {
     "name": "stderr",
     "output_type": "stream",
     "text": [
      "/home/maria/anaconda3/envs/nlp/lib/python3.6/site-packages/IPython/core/interactiveshell.py:3051: DtypeWarning: Columns (1) have mixed types. Specify dtype option on import or set low_memory=False.\n",
      "  interactivity=interactivity, compiler=compiler, result=result)\n"
     ]
    }
   ],
   "source": [
    "hotelDf = pd.read_csv('dataset.csv', sep=\";\")"
   ]
  },
  {
   "cell_type": "code",
   "execution_count": 4,
   "metadata": {},
   "outputs": [],
   "source": [
    "hotelDf = hotelDf.sample(frac = 0.1, replace = False, random_state=42)"
   ]
  },
  {
   "cell_type": "code",
   "execution_count": 5,
   "metadata": {},
   "outputs": [
    {
     "data": {
      "text/html": [
       "<div>\n",
       "<style scoped>\n",
       "    .dataframe tbody tr th:only-of-type {\n",
       "        vertical-align: middle;\n",
       "    }\n",
       "\n",
       "    .dataframe tbody tr th {\n",
       "        vertical-align: top;\n",
       "    }\n",
       "\n",
       "    .dataframe thead th {\n",
       "        text-align: right;\n",
       "    }\n",
       "</style>\n",
       "<table border=\"1\" class=\"dataframe\">\n",
       "  <thead>\n",
       "    <tr style=\"text-align: right;\">\n",
       "      <th></th>\n",
       "      <th>Unnamed: 0</th>\n",
       "      <th>review_id</th>\n",
       "      <th>overall_rating</th>\n",
       "      <th>title_of_the_review</th>\n",
       "      <th>text_of_the_review</th>\n",
       "      <th>username</th>\n",
       "      <th>location_of_the_user</th>\n",
       "      <th>hotel_id</th>\n",
       "      <th>date_stayed</th>\n",
       "      <th>date_of_the_review</th>\n",
       "      <th>groundTruth</th>\n",
       "    </tr>\n",
       "  </thead>\n",
       "  <tbody>\n",
       "    <tr>\n",
       "      <th>659101</th>\n",
       "      <td>659101</td>\n",
       "      <td>122194164</td>\n",
       "      <td>5.0</td>\n",
       "      <td>“Really Nice People”</td>\n",
       "      <td>I am writing this review as I am sitting in th...</td>\n",
       "      <td>Debbie039</td>\n",
       "      <td>New Jersey</td>\n",
       "      <td>268533</td>\n",
       "      <td>December 2011</td>\n",
       "      <td>December 28, 2011</td>\n",
       "      <td>positive</td>\n",
       "    </tr>\n",
       "    <tr>\n",
       "      <th>709136</th>\n",
       "      <td>709136</td>\n",
       "      <td>57627158</td>\n",
       "      <td>5.0</td>\n",
       "      <td>“A nice getaway and you don't even have to lea...</td>\n",
       "      <td>This is a wonderful hotel with a very attentiv...</td>\n",
       "      <td>landofenchantment</td>\n",
       "      <td>Alamogordo, NM</td>\n",
       "      <td>98805</td>\n",
       "      <td>February 2010</td>\n",
       "      <td>March 3, 2010</td>\n",
       "      <td>positive</td>\n",
       "    </tr>\n",
       "    <tr>\n",
       "      <th>527089</th>\n",
       "      <td>527089</td>\n",
       "      <td>116062495</td>\n",
       "      <td>4.0</td>\n",
       "      <td>“kleines, ruhiges Hotel in netter Gegend”</td>\n",
       "      <td>Wir hatten Raum 325, der zur Seitenstraße gele...</td>\n",
       "      <td>WaWa2010</td>\n",
       "      <td>Düsseldorf</td>\n",
       "      <td>109345</td>\n",
       "      <td>March 2011</td>\n",
       "      <td>July 31, 2011</td>\n",
       "      <td>positive</td>\n",
       "    </tr>\n",
       "    <tr>\n",
       "      <th>310666</th>\n",
       "      <td>310666</td>\n",
       "      <td>123565612</td>\n",
       "      <td>1.0</td>\n",
       "      <td>“Two star for the hotel, one (zero, if possibl...</td>\n",
       "      <td>This is rather an old review for our stay in J...</td>\n",
       "      <td>lovebossa</td>\n",
       "      <td>East Lansing, MI</td>\n",
       "      <td>114595</td>\n",
       "      <td>June 2011</td>\n",
       "      <td>January 24, 2012</td>\n",
       "      <td>negative</td>\n",
       "    </tr>\n",
       "    <tr>\n",
       "      <th>351825</th>\n",
       "      <td>351825</td>\n",
       "      <td>116592452</td>\n",
       "      <td>5.0</td>\n",
       "      <td>“Loved the style and uniqueness of this hotel”</td>\n",
       "      <td>Stayed at the Standard for a few nights on bus...</td>\n",
       "      <td>drohecker</td>\n",
       "      <td>Vancouver, Washington</td>\n",
       "      <td>249696</td>\n",
       "      <td>June 2011</td>\n",
       "      <td>August 11, 2011</td>\n",
       "      <td>positive</td>\n",
       "    </tr>\n",
       "  </tbody>\n",
       "</table>\n",
       "</div>"
      ],
      "text/plain": [
       "        Unnamed: 0  review_id  overall_rating  \\\n",
       "659101      659101  122194164             5.0   \n",
       "709136      709136   57627158             5.0   \n",
       "527089      527089  116062495             4.0   \n",
       "310666      310666  123565612             1.0   \n",
       "351825      351825  116592452             5.0   \n",
       "\n",
       "                                      title_of_the_review  \\\n",
       "659101                               “Really Nice People”   \n",
       "709136  “A nice getaway and you don't even have to lea...   \n",
       "527089          “kleines, ruhiges Hotel in netter Gegend”   \n",
       "310666  “Two star for the hotel, one (zero, if possibl...   \n",
       "351825     “Loved the style and uniqueness of this hotel”   \n",
       "\n",
       "                                       text_of_the_review           username  \\\n",
       "659101  I am writing this review as I am sitting in th...          Debbie039   \n",
       "709136  This is a wonderful hotel with a very attentiv...  landofenchantment   \n",
       "527089  Wir hatten Raum 325, der zur Seitenstraße gele...           WaWa2010   \n",
       "310666  This is rather an old review for our stay in J...          lovebossa   \n",
       "351825  Stayed at the Standard for a few nights on bus...          drohecker   \n",
       "\n",
       "         location_of_the_user hotel_id    date_stayed date_of_the_review  \\\n",
       "659101             New Jersey   268533  December 2011  December 28, 2011   \n",
       "709136         Alamogordo, NM    98805  February 2010      March 3, 2010   \n",
       "527089             Düsseldorf   109345     March 2011      July 31, 2011   \n",
       "310666       East Lansing, MI   114595      June 2011   January 24, 2012   \n",
       "351825  Vancouver, Washington   249696      June 2011    August 11, 2011   \n",
       "\n",
       "       groundTruth  \n",
       "659101    positive  \n",
       "709136    positive  \n",
       "527089    positive  \n",
       "310666    negative  \n",
       "351825    positive  "
      ]
     },
     "execution_count": 5,
     "metadata": {},
     "output_type": "execute_result"
    }
   ],
   "source": [
    "hotelDf.head()"
   ]
  },
  {
   "cell_type": "code",
   "execution_count": 18,
   "metadata": {},
   "outputs": [],
   "source": [
    "# Instantiate the sentiment Analyzer\n",
    "sid = SentimentIntensityAnalyzer()"
   ]
  },
  {
   "cell_type": "code",
   "execution_count": 19,
   "metadata": {},
   "outputs": [
    {
     "name": "stdout",
     "output_type": "stream",
     "text": [
      "completed\n"
     ]
    }
   ],
   "source": [
    "\n",
    "vaderScores = []\n",
    "#Assign Vader score to individual review using Vader compound score\n",
    "for rownum, review in enumerate(hotelDf['text_of_the_review']):\n",
    "    \n",
    "    if review is None:\n",
    "        review=\"\"\n",
    "    scores = sid.polarity_scores(review)\n",
    "\n",
    "    vaderScores.append(scores['compound'])\n",
    "#     if (rownum % 5000 == 0):\n",
    "#             print(\"processed %d reviews\" % (rownum+1))\n",
    "print(\"completed\")"
   ]
  },
  {
   "cell_type": "code",
   "execution_count": 20,
   "metadata": {},
   "outputs": [
    {
     "data": {
      "text/html": [
       "<div>\n",
       "<style scoped>\n",
       "    .dataframe tbody tr th:only-of-type {\n",
       "        vertical-align: middle;\n",
       "    }\n",
       "\n",
       "    .dataframe tbody tr th {\n",
       "        vertical-align: top;\n",
       "    }\n",
       "\n",
       "    .dataframe thead th {\n",
       "        text-align: right;\n",
       "    }\n",
       "</style>\n",
       "<table border=\"1\" class=\"dataframe\">\n",
       "  <thead>\n",
       "    <tr style=\"text-align: right;\">\n",
       "      <th></th>\n",
       "      <th>Unnamed: 0</th>\n",
       "      <th>review_id</th>\n",
       "      <th>overall_rating</th>\n",
       "      <th>title_of_the_review</th>\n",
       "      <th>text_of_the_review</th>\n",
       "      <th>username</th>\n",
       "      <th>location_of_the_user</th>\n",
       "      <th>hotel_id</th>\n",
       "      <th>date_stayed</th>\n",
       "      <th>date_of_the_review</th>\n",
       "      <th>groundTruth</th>\n",
       "      <th>vaderScore</th>\n",
       "    </tr>\n",
       "  </thead>\n",
       "  <tbody>\n",
       "    <tr>\n",
       "      <th>659101</th>\n",
       "      <td>659101</td>\n",
       "      <td>122194164</td>\n",
       "      <td>5.0</td>\n",
       "      <td>“Really Nice People”</td>\n",
       "      <td>I am writing this review as I am sitting in th...</td>\n",
       "      <td>Debbie039</td>\n",
       "      <td>New Jersey</td>\n",
       "      <td>268533</td>\n",
       "      <td>December 2011</td>\n",
       "      <td>December 28, 2011</td>\n",
       "      <td>positive</td>\n",
       "      <td>0.6141</td>\n",
       "    </tr>\n",
       "    <tr>\n",
       "      <th>709136</th>\n",
       "      <td>709136</td>\n",
       "      <td>57627158</td>\n",
       "      <td>5.0</td>\n",
       "      <td>“A nice getaway and you don't even have to lea...</td>\n",
       "      <td>This is a wonderful hotel with a very attentiv...</td>\n",
       "      <td>landofenchantment</td>\n",
       "      <td>Alamogordo, NM</td>\n",
       "      <td>98805</td>\n",
       "      <td>February 2010</td>\n",
       "      <td>March 3, 2010</td>\n",
       "      <td>positive</td>\n",
       "      <td>0.6591</td>\n",
       "    </tr>\n",
       "    <tr>\n",
       "      <th>527089</th>\n",
       "      <td>527089</td>\n",
       "      <td>116062495</td>\n",
       "      <td>4.0</td>\n",
       "      <td>“kleines, ruhiges Hotel in netter Gegend”</td>\n",
       "      <td>Wir hatten Raum 325, der zur Seitenstraße gele...</td>\n",
       "      <td>WaWa2010</td>\n",
       "      <td>Düsseldorf</td>\n",
       "      <td>109345</td>\n",
       "      <td>March 2011</td>\n",
       "      <td>July 31, 2011</td>\n",
       "      <td>positive</td>\n",
       "      <td>-0.9818</td>\n",
       "    </tr>\n",
       "    <tr>\n",
       "      <th>310666</th>\n",
       "      <td>310666</td>\n",
       "      <td>123565612</td>\n",
       "      <td>1.0</td>\n",
       "      <td>“Two star for the hotel, one (zero, if possibl...</td>\n",
       "      <td>This is rather an old review for our stay in J...</td>\n",
       "      <td>lovebossa</td>\n",
       "      <td>East Lansing, MI</td>\n",
       "      <td>114595</td>\n",
       "      <td>June 2011</td>\n",
       "      <td>January 24, 2012</td>\n",
       "      <td>negative</td>\n",
       "      <td>0.9715</td>\n",
       "    </tr>\n",
       "    <tr>\n",
       "      <th>351825</th>\n",
       "      <td>351825</td>\n",
       "      <td>116592452</td>\n",
       "      <td>5.0</td>\n",
       "      <td>“Loved the style and uniqueness of this hotel”</td>\n",
       "      <td>Stayed at the Standard for a few nights on bus...</td>\n",
       "      <td>drohecker</td>\n",
       "      <td>Vancouver, Washington</td>\n",
       "      <td>249696</td>\n",
       "      <td>June 2011</td>\n",
       "      <td>August 11, 2011</td>\n",
       "      <td>positive</td>\n",
       "      <td>0.9920</td>\n",
       "    </tr>\n",
       "  </tbody>\n",
       "</table>\n",
       "</div>"
      ],
      "text/plain": [
       "        Unnamed: 0  review_id  overall_rating  \\\n",
       "659101      659101  122194164             5.0   \n",
       "709136      709136   57627158             5.0   \n",
       "527089      527089  116062495             4.0   \n",
       "310666      310666  123565612             1.0   \n",
       "351825      351825  116592452             5.0   \n",
       "\n",
       "                                      title_of_the_review  \\\n",
       "659101                               “Really Nice People”   \n",
       "709136  “A nice getaway and you don't even have to lea...   \n",
       "527089          “kleines, ruhiges Hotel in netter Gegend”   \n",
       "310666  “Two star for the hotel, one (zero, if possibl...   \n",
       "351825     “Loved the style and uniqueness of this hotel”   \n",
       "\n",
       "                                       text_of_the_review           username  \\\n",
       "659101  I am writing this review as I am sitting in th...          Debbie039   \n",
       "709136  This is a wonderful hotel with a very attentiv...  landofenchantment   \n",
       "527089  Wir hatten Raum 325, der zur Seitenstraße gele...           WaWa2010   \n",
       "310666  This is rather an old review for our stay in J...          lovebossa   \n",
       "351825  Stayed at the Standard for a few nights on bus...          drohecker   \n",
       "\n",
       "         location_of_the_user hotel_id    date_stayed date_of_the_review  \\\n",
       "659101             New Jersey   268533  December 2011  December 28, 2011   \n",
       "709136         Alamogordo, NM    98805  February 2010      March 3, 2010   \n",
       "527089             Düsseldorf   109345     March 2011      July 31, 2011   \n",
       "310666       East Lansing, MI   114595      June 2011   January 24, 2012   \n",
       "351825  Vancouver, Washington   249696      June 2011    August 11, 2011   \n",
       "\n",
       "       groundTruth  vaderScore  \n",
       "659101    positive      0.6141  \n",
       "709136    positive      0.6591  \n",
       "527089    positive     -0.9818  \n",
       "310666    negative      0.9715  \n",
       "351825    positive      0.9920  "
      ]
     },
     "execution_count": 20,
     "metadata": {},
     "output_type": "execute_result"
    }
   ],
   "source": [
    "# Assign vader scores in the original df\n",
    "hotelDf = hotelDf.assign(vaderScore = vaderScores)\n",
    "hotelDf.head()"
   ]
  },
  {
   "cell_type": "code",
   "execution_count": null,
   "metadata": {},
   "outputs": [],
   "source": []
  },
  {
   "cell_type": "code",
   "execution_count": 21,
   "metadata": {},
   "outputs": [
    {
     "data": {
      "text/html": [
       "<div>\n",
       "<style scoped>\n",
       "    .dataframe tbody tr th:only-of-type {\n",
       "        vertical-align: middle;\n",
       "    }\n",
       "\n",
       "    .dataframe tbody tr th {\n",
       "        vertical-align: top;\n",
       "    }\n",
       "\n",
       "    .dataframe thead th {\n",
       "        text-align: right;\n",
       "    }\n",
       "</style>\n",
       "<table border=\"1\" class=\"dataframe\">\n",
       "  <thead>\n",
       "    <tr style=\"text-align: right;\">\n",
       "      <th></th>\n",
       "      <th>Unnamed: 0</th>\n",
       "      <th>review_id</th>\n",
       "      <th>overall_rating</th>\n",
       "      <th>title_of_the_review</th>\n",
       "      <th>text_of_the_review</th>\n",
       "      <th>username</th>\n",
       "      <th>location_of_the_user</th>\n",
       "      <th>hotel_id</th>\n",
       "      <th>date_stayed</th>\n",
       "      <th>date_of_the_review</th>\n",
       "      <th>groundTruth</th>\n",
       "      <th>vaderScore</th>\n",
       "    </tr>\n",
       "  </thead>\n",
       "  <tbody>\n",
       "    <tr>\n",
       "      <th>659101</th>\n",
       "      <td>659101</td>\n",
       "      <td>122194164</td>\n",
       "      <td>5.0</td>\n",
       "      <td>“Really Nice People”</td>\n",
       "      <td>I am writing this review as I am sitting in th...</td>\n",
       "      <td>Debbie039</td>\n",
       "      <td>New Jersey</td>\n",
       "      <td>268533</td>\n",
       "      <td>December 2011</td>\n",
       "      <td>December 28, 2011</td>\n",
       "      <td>positive</td>\n",
       "      <td>0.6141</td>\n",
       "    </tr>\n",
       "    <tr>\n",
       "      <th>709136</th>\n",
       "      <td>709136</td>\n",
       "      <td>57627158</td>\n",
       "      <td>5.0</td>\n",
       "      <td>“A nice getaway and you don't even have to lea...</td>\n",
       "      <td>This is a wonderful hotel with a very attentiv...</td>\n",
       "      <td>landofenchantment</td>\n",
       "      <td>Alamogordo, NM</td>\n",
       "      <td>98805</td>\n",
       "      <td>February 2010</td>\n",
       "      <td>March 3, 2010</td>\n",
       "      <td>positive</td>\n",
       "      <td>0.6591</td>\n",
       "    </tr>\n",
       "    <tr>\n",
       "      <th>527089</th>\n",
       "      <td>527089</td>\n",
       "      <td>116062495</td>\n",
       "      <td>4.0</td>\n",
       "      <td>“kleines, ruhiges Hotel in netter Gegend”</td>\n",
       "      <td>Wir hatten Raum 325, der zur Seitenstraße gele...</td>\n",
       "      <td>WaWa2010</td>\n",
       "      <td>Düsseldorf</td>\n",
       "      <td>109345</td>\n",
       "      <td>March 2011</td>\n",
       "      <td>July 31, 2011</td>\n",
       "      <td>positive</td>\n",
       "      <td>-0.9818</td>\n",
       "    </tr>\n",
       "    <tr>\n",
       "      <th>310666</th>\n",
       "      <td>310666</td>\n",
       "      <td>123565612</td>\n",
       "      <td>1.0</td>\n",
       "      <td>“Two star for the hotel, one (zero, if possibl...</td>\n",
       "      <td>This is rather an old review for our stay in J...</td>\n",
       "      <td>lovebossa</td>\n",
       "      <td>East Lansing, MI</td>\n",
       "      <td>114595</td>\n",
       "      <td>June 2011</td>\n",
       "      <td>January 24, 2012</td>\n",
       "      <td>negative</td>\n",
       "      <td>0.9715</td>\n",
       "    </tr>\n",
       "    <tr>\n",
       "      <th>351825</th>\n",
       "      <td>351825</td>\n",
       "      <td>116592452</td>\n",
       "      <td>5.0</td>\n",
       "      <td>“Loved the style and uniqueness of this hotel”</td>\n",
       "      <td>Stayed at the Standard for a few nights on bus...</td>\n",
       "      <td>drohecker</td>\n",
       "      <td>Vancouver, Washington</td>\n",
       "      <td>249696</td>\n",
       "      <td>June 2011</td>\n",
       "      <td>August 11, 2011</td>\n",
       "      <td>positive</td>\n",
       "      <td>0.9920</td>\n",
       "    </tr>\n",
       "  </tbody>\n",
       "</table>\n",
       "</div>"
      ],
      "text/plain": [
       "        Unnamed: 0  review_id  overall_rating  \\\n",
       "659101      659101  122194164             5.0   \n",
       "709136      709136   57627158             5.0   \n",
       "527089      527089  116062495             4.0   \n",
       "310666      310666  123565612             1.0   \n",
       "351825      351825  116592452             5.0   \n",
       "\n",
       "                                      title_of_the_review  \\\n",
       "659101                               “Really Nice People”   \n",
       "709136  “A nice getaway and you don't even have to lea...   \n",
       "527089          “kleines, ruhiges Hotel in netter Gegend”   \n",
       "310666  “Two star for the hotel, one (zero, if possibl...   \n",
       "351825     “Loved the style and uniqueness of this hotel”   \n",
       "\n",
       "                                       text_of_the_review           username  \\\n",
       "659101  I am writing this review as I am sitting in th...          Debbie039   \n",
       "709136  This is a wonderful hotel with a very attentiv...  landofenchantment   \n",
       "527089  Wir hatten Raum 325, der zur Seitenstraße gele...           WaWa2010   \n",
       "310666  This is rather an old review for our stay in J...          lovebossa   \n",
       "351825  Stayed at the Standard for a few nights on bus...          drohecker   \n",
       "\n",
       "         location_of_the_user hotel_id    date_stayed date_of_the_review  \\\n",
       "659101             New Jersey   268533  December 2011  December 28, 2011   \n",
       "709136         Alamogordo, NM    98805  February 2010      March 3, 2010   \n",
       "527089             Düsseldorf   109345     March 2011      July 31, 2011   \n",
       "310666       East Lansing, MI   114595      June 2011   January 24, 2012   \n",
       "351825  Vancouver, Washington   249696      June 2011    August 11, 2011   \n",
       "\n",
       "       groundTruth  vaderScore  \n",
       "659101    positive      0.6141  \n",
       "709136    positive      0.6591  \n",
       "527089    positive     -0.9818  \n",
       "310666    negative      0.9715  \n",
       "351825    positive      0.9920  "
      ]
     },
     "execution_count": 21,
     "metadata": {},
     "output_type": "execute_result"
    }
   ],
   "source": [
    "hotelDf.head(5)"
   ]
  },
  {
   "cell_type": "markdown",
   "metadata": {},
   "source": [
    "## Can we learn something about the true ratings from Vader scores?\n",
    "In other words, can we build infer true review ratings by using vader score? and why even would we be intereted in that?\n",
    "\n",
    "Usually, we have many other options for the regression problem. *Linear Regression*, *Decision Tree* and etc.\n",
    "\n",
    "But using Vader analyzer is **simple and fast**. We can use it as an initial tool before building a heavy machine learning model to figure out the trend in the data."
   ]
  },
  {
   "cell_type": "markdown",
   "metadata": {},
   "source": [
    "#### Top 5 reviews hotel by *ratings*"
   ]
  },
  {
   "cell_type": "code",
   "execution_count": 22,
   "metadata": {},
   "outputs": [],
   "source": [
    "ratingByHotel = hotelDf.groupby(['hotel_id']).mean()['overall_rating'].reset_index()\n",
    "vaderByHotel = hotelDf.groupby(['hotel_id']).mean()['vaderScore'].reset_index()"
   ]
  },
  {
   "cell_type": "code",
   "execution_count": 23,
   "metadata": {},
   "outputs": [
    {
     "data": {
      "text/html": [
       "<div>\n",
       "<style scoped>\n",
       "    .dataframe tbody tr th:only-of-type {\n",
       "        vertical-align: middle;\n",
       "    }\n",
       "\n",
       "    .dataframe tbody tr th {\n",
       "        vertical-align: top;\n",
       "    }\n",
       "\n",
       "    .dataframe thead th {\n",
       "        text-align: right;\n",
       "    }\n",
       "</style>\n",
       "<table border=\"1\" class=\"dataframe\">\n",
       "  <thead>\n",
       "    <tr style=\"text-align: right;\">\n",
       "      <th></th>\n",
       "      <th>hotel_id</th>\n",
       "      <th>overall_rating</th>\n",
       "    </tr>\n",
       "  </thead>\n",
       "  <tbody>\n",
       "    <tr>\n",
       "      <th>3463</th>\n",
       "      <td>;93569</td>\n",
       "      <td>5.0</td>\n",
       "    </tr>\n",
       "    <tr>\n",
       "      <th>1737</th>\n",
       "      <td>258634</td>\n",
       "      <td>5.0</td>\n",
       "    </tr>\n",
       "    <tr>\n",
       "      <th>1270</th>\n",
       "      <td>223027</td>\n",
       "      <td>5.0</td>\n",
       "    </tr>\n",
       "    <tr>\n",
       "      <th>1213</th>\n",
       "      <td>217717</td>\n",
       "      <td>5.0</td>\n",
       "    </tr>\n",
       "    <tr>\n",
       "      <th>1188</th>\n",
       "      <td>217199</td>\n",
       "      <td>5.0</td>\n",
       "    </tr>\n",
       "    <tr>\n",
       "      <th>1187</th>\n",
       "      <td>217193</td>\n",
       "      <td>5.0</td>\n",
       "    </tr>\n",
       "    <tr>\n",
       "      <th>1175</th>\n",
       "      <td>2151620</td>\n",
       "      <td>5.0</td>\n",
       "    </tr>\n",
       "    <tr>\n",
       "      <th>1170</th>\n",
       "      <td>2145772</td>\n",
       "      <td>5.0</td>\n",
       "    </tr>\n",
       "    <tr>\n",
       "      <th>1149</th>\n",
       "      <td>2027969</td>\n",
       "      <td>5.0</td>\n",
       "    </tr>\n",
       "    <tr>\n",
       "      <th>1141</th>\n",
       "      <td>1963064</td>\n",
       "      <td>5.0</td>\n",
       "    </tr>\n",
       "    <tr>\n",
       "      <th>1140</th>\n",
       "      <td>1961981</td>\n",
       "      <td>5.0</td>\n",
       "    </tr>\n",
       "    <tr>\n",
       "      <th>1132</th>\n",
       "      <td>1929352</td>\n",
       "      <td>5.0</td>\n",
       "    </tr>\n",
       "    <tr>\n",
       "      <th>1122</th>\n",
       "      <td>1878688</td>\n",
       "      <td>5.0</td>\n",
       "    </tr>\n",
       "    <tr>\n",
       "      <th>172</th>\n",
       "      <td>107867</td>\n",
       "      <td>5.0</td>\n",
       "    </tr>\n",
       "    <tr>\n",
       "      <th>173</th>\n",
       "      <td>107884</td>\n",
       "      <td>5.0</td>\n",
       "    </tr>\n",
       "    <tr>\n",
       "      <th>1113</th>\n",
       "      <td>1858821</td>\n",
       "      <td>5.0</td>\n",
       "    </tr>\n",
       "    <tr>\n",
       "      <th>1109</th>\n",
       "      <td>1852898</td>\n",
       "      <td>5.0</td>\n",
       "    </tr>\n",
       "    <tr>\n",
       "      <th>1089</th>\n",
       "      <td>1778319</td>\n",
       "      <td>5.0</td>\n",
       "    </tr>\n",
       "    <tr>\n",
       "      <th>183</th>\n",
       "      <td>107956</td>\n",
       "      <td>5.0</td>\n",
       "    </tr>\n",
       "    <tr>\n",
       "      <th>184</th>\n",
       "      <td>107957</td>\n",
       "      <td>5.0</td>\n",
       "    </tr>\n",
       "  </tbody>\n",
       "</table>\n",
       "</div>"
      ],
      "text/plain": [
       "     hotel_id  overall_rating\n",
       "3463   ;93569             5.0\n",
       "1737   258634             5.0\n",
       "1270   223027             5.0\n",
       "1213   217717             5.0\n",
       "1188   217199             5.0\n",
       "1187   217193             5.0\n",
       "1175  2151620             5.0\n",
       "1170  2145772             5.0\n",
       "1149  2027969             5.0\n",
       "1141  1963064             5.0\n",
       "1140  1961981             5.0\n",
       "1132  1929352             5.0\n",
       "1122  1878688             5.0\n",
       "172    107867             5.0\n",
       "173    107884             5.0\n",
       "1113  1858821             5.0\n",
       "1109  1852898             5.0\n",
       "1089  1778319             5.0\n",
       "183    107956             5.0\n",
       "184    107957             5.0"
      ]
     },
     "execution_count": 23,
     "metadata": {},
     "output_type": "execute_result"
    }
   ],
   "source": [
    "ratingByHotel = ratingByHotel.sort_values('overall_rating', ascending=False)\n",
    "ratingByHotel.head(20)"
   ]
  },
  {
   "cell_type": "markdown",
   "metadata": {},
   "source": [
    "#### Top 5 reviews hotel by *vader score*"
   ]
  },
  {
   "cell_type": "code",
   "execution_count": 24,
   "metadata": {},
   "outputs": [
    {
     "data": {
      "text/html": [
       "<div>\n",
       "<style scoped>\n",
       "    .dataframe tbody tr th:only-of-type {\n",
       "        vertical-align: middle;\n",
       "    }\n",
       "\n",
       "    .dataframe tbody tr th {\n",
       "        vertical-align: top;\n",
       "    }\n",
       "\n",
       "    .dataframe thead th {\n",
       "        text-align: right;\n",
       "    }\n",
       "</style>\n",
       "<table border=\"1\" class=\"dataframe\">\n",
       "  <thead>\n",
       "    <tr style=\"text-align: right;\">\n",
       "      <th></th>\n",
       "      <th>hotel_id</th>\n",
       "      <th>vaderScore</th>\n",
       "    </tr>\n",
       "  </thead>\n",
       "  <tbody>\n",
       "    <tr>\n",
       "      <th>1380</th>\n",
       "      <td>223708</td>\n",
       "      <td>0.998900</td>\n",
       "    </tr>\n",
       "    <tr>\n",
       "      <th>543</th>\n",
       "      <td>115612</td>\n",
       "      <td>0.998600</td>\n",
       "    </tr>\n",
       "    <tr>\n",
       "      <th>775</th>\n",
       "      <td>121999</td>\n",
       "      <td>0.998200</td>\n",
       "    </tr>\n",
       "    <tr>\n",
       "      <th>1930</th>\n",
       "      <td>3405788</td>\n",
       "      <td>0.997600</td>\n",
       "    </tr>\n",
       "    <tr>\n",
       "      <th>2037</th>\n",
       "      <td>574244</td>\n",
       "      <td>0.996000</td>\n",
       "    </tr>\n",
       "    <tr>\n",
       "      <th>23</th>\n",
       "      <td>100559</td>\n",
       "      <td>0.995900</td>\n",
       "    </tr>\n",
       "    <tr>\n",
       "      <th>2031</th>\n",
       "      <td>570515</td>\n",
       "      <td>0.994700</td>\n",
       "    </tr>\n",
       "    <tr>\n",
       "      <th>904</th>\n",
       "      <td>1382102</td>\n",
       "      <td>0.993900</td>\n",
       "    </tr>\n",
       "    <tr>\n",
       "      <th>1683</th>\n",
       "      <td>249576</td>\n",
       "      <td>0.993900</td>\n",
       "    </tr>\n",
       "    <tr>\n",
       "      <th>555</th>\n",
       "      <td>1158744</td>\n",
       "      <td>0.993500</td>\n",
       "    </tr>\n",
       "    <tr>\n",
       "      <th>872</th>\n",
       "      <td>1239568</td>\n",
       "      <td>0.993200</td>\n",
       "    </tr>\n",
       "    <tr>\n",
       "      <th>1018</th>\n",
       "      <td>1556786</td>\n",
       "      <td>0.992900</td>\n",
       "    </tr>\n",
       "    <tr>\n",
       "      <th>2128</th>\n",
       "      <td>622920</td>\n",
       "      <td>0.992475</td>\n",
       "    </tr>\n",
       "    <tr>\n",
       "      <th>84</th>\n",
       "      <td>101647</td>\n",
       "      <td>0.992000</td>\n",
       "    </tr>\n",
       "    <tr>\n",
       "      <th>514</th>\n",
       "      <td>1146072</td>\n",
       "      <td>0.991800</td>\n",
       "    </tr>\n",
       "    <tr>\n",
       "      <th>2087</th>\n",
       "      <td>603022</td>\n",
       "      <td>0.991400</td>\n",
       "    </tr>\n",
       "    <tr>\n",
       "      <th>1927</th>\n",
       "      <td>3369752</td>\n",
       "      <td>0.991350</td>\n",
       "    </tr>\n",
       "    <tr>\n",
       "      <th>1758</th>\n",
       "      <td>2622936</td>\n",
       "      <td>0.991000</td>\n",
       "    </tr>\n",
       "    <tr>\n",
       "      <th>352</th>\n",
       "      <td>109407</td>\n",
       "      <td>0.990800</td>\n",
       "    </tr>\n",
       "    <tr>\n",
       "      <th>1913</th>\n",
       "      <td>3191802</td>\n",
       "      <td>0.990700</td>\n",
       "    </tr>\n",
       "  </tbody>\n",
       "</table>\n",
       "</div>"
      ],
      "text/plain": [
       "     hotel_id  vaderScore\n",
       "1380   223708    0.998900\n",
       "543    115612    0.998600\n",
       "775    121999    0.998200\n",
       "1930  3405788    0.997600\n",
       "2037   574244    0.996000\n",
       "23     100559    0.995900\n",
       "2031   570515    0.994700\n",
       "904   1382102    0.993900\n",
       "1683   249576    0.993900\n",
       "555   1158744    0.993500\n",
       "872   1239568    0.993200\n",
       "1018  1556786    0.992900\n",
       "2128   622920    0.992475\n",
       "84     101647    0.992000\n",
       "514   1146072    0.991800\n",
       "2087   603022    0.991400\n",
       "1927  3369752    0.991350\n",
       "1758  2622936    0.991000\n",
       "352    109407    0.990800\n",
       "1913  3191802    0.990700"
      ]
     },
     "execution_count": 24,
     "metadata": {},
     "output_type": "execute_result"
    }
   ],
   "source": [
    "vaderByHotel = vaderByHotel.sort_values('vaderScore', ascending=False)\n",
    "vaderByHotel.head(20)"
   ]
  },
  {
   "cell_type": "markdown",
   "metadata": {},
   "source": [
    "### The two lists are very similar!\n",
    "Vader scores are highly correlated with the true rating scores."
   ]
  },
  {
   "cell_type": "markdown",
   "metadata": {},
   "source": [
    "## Which words were most sentiment-bearing in the reviews?\n",
    "#### To explore this question, we will calculate the following 3 factors.\n",
    "1. Word Frequency\n",
    "2. Mutual Information\n",
    "3. Pointwise Mutual Information (PMI)"
   ]
  },
  {
   "cell_type": "markdown",
   "metadata": {},
   "source": [
    "### 1. Word Frequency\n",
    "Can word frequency in review data tell us how the customers felt about the hotels?\n",
    "\n",
    "\n",
    "Let's get the most frequently observed words from the *positive reviews* and *negative reviews*, respectively, to see the difference, if any."
   ]
  },
  {
   "cell_type": "code",
   "execution_count": null,
   "metadata": {},
   "outputs": [],
   "source": []
  },
  {
   "cell_type": "code",
   "execution_count": 25,
   "metadata": {},
   "outputs": [],
   "source": [
    "def get_topk_ngram(df, ngram_range=(1,1), k=None, stopwords=True, with_count=False):\n",
    "    '''\n",
    "    k is for max features value\n",
    "    Extract the most frequently occurred words in countvector\n",
    "    the ngram range of (1,1) is unigram\n",
    "    (1,2) meana unigram and bigram\n",
    "    (2,2) means only bigrams \n",
    "    \n",
    "    max_features parameter in count vectorizer int or None, default=None\n",
    "    If not None, build a vocabulary that only consider the top max_features (((((ordered by term frequency across the corpus.)))))\n",
    "\n",
    "    This parameter is ignored if vocabulary is not None.\n",
    "    '''\n",
    "\n",
    "    my_stop_words = ENGLISH_STOP_WORDS\n",
    "    vectorizer = CountVectorizer(ngram_range=ngram_range, stop_words=my_stop_words, max_features=k)\n",
    "        \n",
    "\n",
    "        \n",
    "    countvector = vectorizer.fit_transform(df['text_of_the_review'])\n",
    "\n",
    "    # Get topk occurred ngrams\n",
    "    topk_words = []\n",
    "    sortedindices = countvector.toarray().sum(axis=0).argsort()[::-1][:k]\n",
    "    counts = countvector.toarray().sum(axis=0)\n",
    "    \n",
    "    for i in sortedindices:\n",
    "        word = vectorizer.get_feature_names()[i]\n",
    "        \n",
    "        if with_count:\n",
    "            count = counts[i]\n",
    "            topk_words.append((word, count))\n",
    "        else:\n",
    "            topk_words.append(word)\n",
    "            \n",
    "    return topk_words"
   ]
  },
  {
   "cell_type": "markdown",
   "metadata": {},
   "source": [
    "#### Top 10 Words with High Frequency in *Positive* and *Negative* reviews."
   ]
  },
  {
   "cell_type": "code",
   "execution_count": 26,
   "metadata": {},
   "outputs": [
    {
     "name": "stdout",
     "output_type": "stream",
     "text": [
      "The most frequently occured top 10 words in positive reviews\n",
      "       Word   Count\n",
      "0     hotel  109757\n",
      "1      room   75514\n",
      "2     great   45321\n",
      "3      stay   38652\n",
      "4     staff   38545\n",
      "5  location   28143\n",
      "6      nice   27917\n",
      "7     rooms   26916\n",
      "8      good   26916\n",
      "9     clean   25353\n",
      "\n",
      "The most frequently occured top 10 words in negative reviews\n",
      "     Word  Count\n",
      "0    room  44918\n",
      "1   hotel  44917\n",
      "2    stay  14301\n",
      "3   rooms  12608\n",
      "4   night  12261\n",
      "5    good  10746\n",
      "6   staff  10485\n",
      "7    just   9565\n",
      "8    desk   9146\n",
      "9  stayed   8793\n",
      "\n",
      "The most frequently occured top 10 bigrams in positive reviews\n",
      "               Word  Count\n",
      "0          new york   6740\n",
      "1      times square   5954\n",
      "2    staff friendly   5884\n",
      "3  walking distance   5476\n",
      "4    great location   4731\n",
      "5  friendly helpful   4322\n",
      "6        room clean   3740\n",
      "7   recommend hotel   3381\n",
      "8   definitely stay   3189\n",
      "9       hotel great   3130\n",
      "\n",
      "The most frequently occured top 10 bigrams in negative reviews\n",
      "               Word  Count\n",
      "0          new york   1734\n",
      "1      room service   1505\n",
      "2      times square   1225\n",
      "3    staff friendly   1156\n",
      "4    great location   1136\n",
      "5        room clean   1108\n",
      "6        hotel room   1020\n",
      "7        stay hotel    979\n",
      "8  walking distance    935\n",
      "9      stayed hotel    932\n"
     ]
    }
   ],
   "source": [
    "topkTotal = get_topk_ngram(hotelDf, k=100)\n",
    "topkTotal_bigram = get_topk_ngram(hotelDf, ngram_range=(2,2), k=100)\n",
    "topkPos = get_topk_ngram(hotelDf.loc[hotelDf['groundTruth']=='positive'], ngram_range=(1,1), k=10, with_count=True)\n",
    "topkNeg = get_topk_ngram(hotelDf.loc[hotelDf['groundTruth']=='negative'], ngram_range=(1,1), k=10, with_count=True)\n",
    "topkPos_bigram = get_topk_ngram(hotelDf.loc[hotelDf['groundTruth']=='positive'], ngram_range=(2,2), k=10, with_count=True)\n",
    "topkNeg_bigram = get_topk_ngram(hotelDf.loc[hotelDf['groundTruth']=='negative'], ngram_range=(2,2), k=10, with_count=True)\n",
    "\n",
    "print(\"The most frequently occured top 10 words in positive reviews\")\n",
    "pprint(pd.DataFrame(topkPos, columns=['Word', 'Count']))\n",
    "\n",
    "print(\"\\nThe most frequently occured top 10 words in negative reviews\")\n",
    "pprint(pd.DataFrame(topkNeg, columns=['Word', 'Count']))\n",
    "\n",
    "print(\"\\nThe most frequently occured top 10 bigrams in positive reviews\")\n",
    "pprint(pd.DataFrame(topkPos_bigram, columns=['Word', 'Count']))\n",
    "\n",
    "print(\"\\nThe most frequently occured top 10 bigrams in negative reviews\")\n",
    "pprint(pd.DataFrame(topkNeg_bigram, columns=['Word', 'Count']))"
   ]
  },
  {
   "cell_type": "markdown",
   "metadata": {},
   "source": [
    "### Uh.. almost same?\n",
    "It seems like the term frequency doesn't tell us anything about the text. We can observe that there is no difference between the top-k word list for both positive reviews and negative reviews.\n",
    "\n",
    "If we think about it, this result seems obvious. If a customer was really satistied with the staff in the hotel, they would mention the word, 'staff', in their review. Even if a customer didn't like the staff working in the hotel, they also would mention the word, 'staff', in their review (with some bad words)."
   ]
  },
  {
   "cell_type": "markdown",
   "metadata": {},
   "source": [
    "### 2. Mutual Information"
   ]
  },
  {
   "cell_type": "markdown",
   "metadata": {},
   "source": [
    "**Mutual information tells you how much you learn about X from knowing the value of Y (on average over the choice of Y).** \n",
    "\n",
    "\n",
    "Since we found the word frequency is not a good indicator for the sentiment analysis, we will examine *mutual information*  for an alternative metric.\n",
    "\n",
    "http://scikit-learn.org/stable/modules/generated/sklearn.metrics.mutual_info_score.html"
   ]
  },
  {
   "cell_type": "code",
   "execution_count": 8,
   "metadata": {},
   "outputs": [],
   "source": [
    "# positive = 1 / negative = 0\n",
    "gtScore = []\n",
    "for i in range(len(hotelDf)):\n",
    "    if hotelDf['groundTruth'][i] == 'positive':\n",
    "        gtScore.append(1)\n",
    "    else:\n",
    "        gtScore.append(0)"
   ]
  },
  {
   "cell_type": "code",
   "execution_count": null,
   "metadata": {},
   "outputs": [],
   "source": []
  },
  {
   "cell_type": "code",
   "execution_count": null,
   "metadata": {},
   "outputs": [],
   "source": [
    "# max feature was 500 i had to ake it 100 because of RAM issues"
   ]
  },
  {
   "cell_type": "code",
   "execution_count": null,
   "metadata": {},
   "outputs": [],
   "source": []
  },
  {
   "cell_type": "code",
   "execution_count": 9,
   "metadata": {},
   "outputs": [],
   "source": [
    "# let's calculate Mutual Information for unigrams and bigrams\n",
    "vectorizer = CountVectorizer(ngram_range=(1,1), stop_words='english', max_features=100)\n",
    "countvector = vectorizer.fit_transform(hotelDf['text_of_the_review'])\n",
    "densevector = np.array(countvector.todense())\n",
    "    \n",
    "# miScore_unigram = pd.DataFrame(data = {'word': vectorizer.get_feature_names(),\n",
    "#              'MI Score': [mutual_info_score(gtScore, densevector[:,i].squeeze()) for i in range(500)]})\n",
    "\n",
    "miScore_unigram = pd.DataFrame(data =\n",
    "                               {'MI Score': [mutual_info_score(gtScore, densevector[:,i].squeeze()) for i in range(100)]}\n",
    "                              , index = vectorizer.get_feature_names())\n",
    "\n"
   ]
  },
  {
   "cell_type": "code",
   "execution_count": 11,
   "metadata": {},
   "outputs": [],
   "source": [
    "# Bigram version\n",
    "vectorizer = CountVectorizer(ngram_range=(2,2), stop_words='english', max_features=100)\n",
    "countvector = vectorizer.fit_transform(hotelDf['text_of_the_review'])\n",
    "densevector = np.array(countvector.todense())\n",
    "miScore_bigram = pd.DataFrame(data =\n",
    "                    {'MI Score': [mutual_info_score(gtScore, densevector[:,i].squeeze()) for i in range(100)]},\n",
    "                    index = vectorizer.get_feature_names())"
   ]
  },
  {
   "cell_type": "code",
   "execution_count": 10,
   "metadata": {},
   "outputs": [
    {
     "name": "stdout",
     "output_type": "stream",
     "text": [
      "Mutual Information - Unigram\n"
     ]
    },
    {
     "data": {
      "text/html": [
       "<div>\n",
       "<style scoped>\n",
       "    .dataframe tbody tr th:only-of-type {\n",
       "        vertical-align: middle;\n",
       "    }\n",
       "\n",
       "    .dataframe tbody tr th {\n",
       "        vertical-align: top;\n",
       "    }\n",
       "\n",
       "    .dataframe thead th {\n",
       "        text-align: right;\n",
       "    }\n",
       "</style>\n",
       "<table border=\"1\" class=\"dataframe\">\n",
       "  <thead>\n",
       "    <tr style=\"text-align: right;\">\n",
       "      <th></th>\n",
       "      <th>MI Score</th>\n",
       "    </tr>\n",
       "  </thead>\n",
       "  <tbody>\n",
       "    <tr>\n",
       "      <th>great</th>\n",
       "      <td>0.021238</td>\n",
       "    </tr>\n",
       "    <tr>\n",
       "      <th>room</th>\n",
       "      <td>0.014240</td>\n",
       "    </tr>\n",
       "    <tr>\n",
       "      <th>helpful</th>\n",
       "      <td>0.010228</td>\n",
       "    </tr>\n",
       "    <tr>\n",
       "      <th>comfortable</th>\n",
       "      <td>0.009535</td>\n",
       "    </tr>\n",
       "    <tr>\n",
       "      <th>staff</th>\n",
       "      <td>0.009438</td>\n",
       "    </tr>\n",
       "    <tr>\n",
       "      <th>excellent</th>\n",
       "      <td>0.009372</td>\n",
       "    </tr>\n",
       "    <tr>\n",
       "      <th>friendly</th>\n",
       "      <td>0.009314</td>\n",
       "    </tr>\n",
       "    <tr>\n",
       "      <th>night</th>\n",
       "      <td>0.008957</td>\n",
       "    </tr>\n",
       "    <tr>\n",
       "      <th>wonderful</th>\n",
       "      <td>0.008631</td>\n",
       "    </tr>\n",
       "    <tr>\n",
       "      <th>desk</th>\n",
       "      <td>0.008145</td>\n",
       "    </tr>\n",
       "  </tbody>\n",
       "</table>\n",
       "</div>"
      ],
      "text/plain": [
       "             MI Score\n",
       "great        0.021238\n",
       "room         0.014240\n",
       "helpful      0.010228\n",
       "comfortable  0.009535\n",
       "staff        0.009438\n",
       "excellent    0.009372\n",
       "friendly     0.009314\n",
       "night        0.008957\n",
       "wonderful    0.008631\n",
       "desk         0.008145"
      ]
     },
     "execution_count": 10,
     "metadata": {},
     "output_type": "execute_result"
    }
   ],
   "source": [
    "miScore_unigram.sort_values('MI Score', inplace=True, ascending=False)\n",
    "print('Mutual Information - Unigram')\n",
    "miScore_unigram.head(10)"
   ]
  },
  {
   "cell_type": "code",
   "execution_count": 12,
   "metadata": {},
   "outputs": [
    {
     "name": "stdout",
     "output_type": "stream",
     "text": [
      "Mutual Information - Bigram\n"
     ]
    },
    {
     "data": {
      "text/html": [
       "<div>\n",
       "<style scoped>\n",
       "    .dataframe tbody tr th:only-of-type {\n",
       "        vertical-align: middle;\n",
       "    }\n",
       "\n",
       "    .dataframe tbody tr th {\n",
       "        vertical-align: top;\n",
       "    }\n",
       "\n",
       "    .dataframe thead th {\n",
       "        text-align: right;\n",
       "    }\n",
       "</style>\n",
       "<table border=\"1\" class=\"dataframe\">\n",
       "  <thead>\n",
       "    <tr style=\"text-align: right;\">\n",
       "      <th></th>\n",
       "      <th>MI Score</th>\n",
       "    </tr>\n",
       "  </thead>\n",
       "  <tbody>\n",
       "    <tr>\n",
       "      <th>definitely stay</th>\n",
       "      <td>0.007820</td>\n",
       "    </tr>\n",
       "    <tr>\n",
       "      <th>highly recommend</th>\n",
       "      <td>0.006378</td>\n",
       "    </tr>\n",
       "    <tr>\n",
       "      <th>friendly helpful</th>\n",
       "      <td>0.003727</td>\n",
       "    </tr>\n",
       "    <tr>\n",
       "      <th>walking distance</th>\n",
       "      <td>0.003193</td>\n",
       "    </tr>\n",
       "    <tr>\n",
       "      <th>staff friendly</th>\n",
       "      <td>0.002306</td>\n",
       "    </tr>\n",
       "    <tr>\n",
       "      <th>great hotel</th>\n",
       "      <td>0.002255</td>\n",
       "    </tr>\n",
       "    <tr>\n",
       "      <th>times square</th>\n",
       "      <td>0.002018</td>\n",
       "    </tr>\n",
       "    <tr>\n",
       "      <th>enjoyed stay</th>\n",
       "      <td>0.002015</td>\n",
       "    </tr>\n",
       "    <tr>\n",
       "      <th>clean comfortable</th>\n",
       "      <td>0.001939</td>\n",
       "    </tr>\n",
       "    <tr>\n",
       "      <th>great place</th>\n",
       "      <td>0.001883</td>\n",
       "    </tr>\n",
       "  </tbody>\n",
       "</table>\n",
       "</div>"
      ],
      "text/plain": [
       "                   MI Score\n",
       "definitely stay    0.007820\n",
       "highly recommend   0.006378\n",
       "friendly helpful   0.003727\n",
       "walking distance   0.003193\n",
       "staff friendly     0.002306\n",
       "great hotel        0.002255\n",
       "times square       0.002018\n",
       "enjoyed stay       0.002015\n",
       "clean comfortable  0.001939\n",
       "great place        0.001883"
      ]
     },
     "execution_count": 12,
     "metadata": {},
     "output_type": "execute_result"
    }
   ],
   "source": [
    "miScore_bigram.sort_values('MI Score', inplace=True, ascending=False)\n",
    "print('Mutual Information - Bigram')\n",
    "miScore_bigram.head(10)"
   ]
  },
  {
   "cell_type": "markdown",
   "metadata": {},
   "source": [
    "### What does it mean?\n",
    "If we observe words having high Mutual Information scores in a review, we would learn a lot about the sentiment of review, (positive or negative)."
   ]
  },
  {
   "cell_type": "markdown",
   "metadata": {},
   "source": [
    "###  3. Pointwise Mutual Information"
   ]
  },
  {
   "cell_type": "markdown",
   "metadata": {},
   "source": [
    "Similar to MI, PMI is measuring for single event where MI is the average of all possible event.\n",
    "\n",
    "The events P(x,y) = P(0,1) means the event of the review is negative but the specific word is existing in that review"
   ]
  },
  {
   "cell_type": "markdown",
   "metadata": {},
   "source": [
    "#### Let's see how Pointwise Mutual Information calculated. The PMI of a pair of outcomes x and y belonging to discrete random variables X and Y quantifies the discrepancy between the probability of their coincidence given their joint distribution and their individual distributions, assuming independence.\n",
    "#### To study more about Pointwise Mutual Information, see [Wikipedia](https://en.wikipedia.org/wiki/Pointwise_mutual_information) "
   ]
  },
  {
   "cell_type": "markdown",
   "metadata": {},
   "source": [
    "![image](https://wikimedia.org/api/rest_v1/media/math/render/svg/ff54cfce726857db855d4dd0a9dee2c6a5e7be99)"
   ]
  },
  {
   "cell_type": "code",
   "execution_count": 6,
   "metadata": {},
   "outputs": [],
   "source": [
    "def getPMI_ngram(df, gt, ngram_range=(1,1), max_features=100):\n",
    "    vectorizer = CountVectorizer(ngram_range=ngram_range, stop_words='english', max_features=max_features)\n",
    "    countvector = vectorizer.fit_transform(hotelDf['text_of_the_review'])\n",
    "    densevector = np.array(countvector.todense())\n",
    "    \n",
    "    px = sum(df['groundTruth'] == gt) / len(df)\n",
    "    pmis = []\n",
    "    \n",
    "    for i in range(max_features):\n",
    "        py = sum(densevector[:,i] == 1) / len(df)\n",
    "        pxy = len(df[(df['groundTruth'] == gt) & (densevector[:,i] == 1)]) / len(df)\n",
    "        \n",
    "        if pxy == 0:\n",
    "            pmi = math.log10((pxy + 0.0001) / (px * py))\n",
    "        else:\n",
    "            pmi = math.log10(pxy / (px * py))\n",
    "            \n",
    "        pmis.append(pmi)\n",
    "        \n",
    "    pmis = pd.DataFrame(data = {'pmi' + gt: pmis}, index = vectorizer.get_feature_names())\n",
    "    return pmis.sort_values('pmi' + gt, ascending=False)"
   ]
  },
  {
   "cell_type": "markdown",
   "metadata": {},
   "source": [
    "From the table above, we can see the word, 'dirty', has negatively correlated with 'positive' label because the pmi value for 'positive' label is the smallest value (-0.69) among the four values."
   ]
  },
  {
   "cell_type": "code",
   "execution_count": 7,
   "metadata": {},
   "outputs": [],
   "source": [
    "pmiPos_unigram = getPMI_ngram(hotelDf, 'positive')\n",
    "pmiNeg_unigram = getPMI_ngram(hotelDf, 'negative')\n"
   ]
  },
  {
   "cell_type": "code",
   "execution_count": 8,
   "metadata": {},
   "outputs": [],
   "source": [
    "pmiPos_bigram = getPMI_ngram(hotelDf, 'positive', ngram_range=(2,2))\n",
    "pmiNeg_bigram = getPMI_ngram(hotelDf, 'negative', ngram_range=(2,2))"
   ]
  },
  {
   "cell_type": "markdown",
   "metadata": {},
   "source": [
    "### Let's see what PMI values tell us about the reviews"
   ]
  },
  {
   "cell_type": "code",
   "execution_count": 9,
   "metadata": {},
   "outputs": [
    {
     "name": "stdout",
     "output_type": "stream",
     "text": [
      "PMI for positive reviews - Unigram\n"
     ]
    },
    {
     "data": {
      "text/html": [
       "<div>\n",
       "<style scoped>\n",
       "    .dataframe tbody tr th:only-of-type {\n",
       "        vertical-align: middle;\n",
       "    }\n",
       "\n",
       "    .dataframe tbody tr th {\n",
       "        vertical-align: top;\n",
       "    }\n",
       "\n",
       "    .dataframe thead th {\n",
       "        text-align: right;\n",
       "    }\n",
       "</style>\n",
       "<table border=\"1\" class=\"dataframe\">\n",
       "  <thead>\n",
       "    <tr style=\"text-align: right;\">\n",
       "      <th></th>\n",
       "      <th>pmipositive</th>\n",
       "    </tr>\n",
       "  </thead>\n",
       "  <tbody>\n",
       "    <tr>\n",
       "      <th>wonderful</th>\n",
       "      <td>0.092638</td>\n",
       "    </tr>\n",
       "    <tr>\n",
       "      <th>excellent</th>\n",
       "      <td>0.082713</td>\n",
       "    </tr>\n",
       "    <tr>\n",
       "      <th>definitely</th>\n",
       "      <td>0.077036</td>\n",
       "    </tr>\n",
       "    <tr>\n",
       "      <th>helpful</th>\n",
       "      <td>0.069001</td>\n",
       "    </tr>\n",
       "    <tr>\n",
       "      <th>restaurants</th>\n",
       "      <td>0.065742</td>\n",
       "    </tr>\n",
       "    <tr>\n",
       "      <th>quiet</th>\n",
       "      <td>0.065660</td>\n",
       "    </tr>\n",
       "    <tr>\n",
       "      <th>comfortable</th>\n",
       "      <td>0.062230</td>\n",
       "    </tr>\n",
       "    <tr>\n",
       "      <th>friendly</th>\n",
       "      <td>0.058853</td>\n",
       "    </tr>\n",
       "    <tr>\n",
       "      <th>suite</th>\n",
       "      <td>0.056537</td>\n",
       "    </tr>\n",
       "    <tr>\n",
       "      <th>recommend</th>\n",
       "      <td>0.053145</td>\n",
       "    </tr>\n",
       "  </tbody>\n",
       "</table>\n",
       "</div>"
      ],
      "text/plain": [
       "             pmipositive\n",
       "wonderful       0.092638\n",
       "excellent       0.082713\n",
       "definitely      0.077036\n",
       "helpful         0.069001\n",
       "restaurants     0.065742\n",
       "quiet           0.065660\n",
       "comfortable     0.062230\n",
       "friendly        0.058853\n",
       "suite           0.056537\n",
       "recommend       0.053145"
      ]
     },
     "execution_count": 9,
     "metadata": {},
     "output_type": "execute_result"
    }
   ],
   "source": [
    "print('PMI for positive reviews - Unigram')\n",
    "pmiPos_unigram.head(10)"
   ]
  },
  {
   "cell_type": "code",
   "execution_count": 10,
   "metadata": {},
   "outputs": [
    {
     "name": "stdout",
     "output_type": "stream",
     "text": [
      "PMI for positive reviews - Bigram\n"
     ]
    },
    {
     "data": {
      "text/html": [
       "<div>\n",
       "<style scoped>\n",
       "    .dataframe tbody tr th:only-of-type {\n",
       "        vertical-align: middle;\n",
       "    }\n",
       "\n",
       "    .dataframe tbody tr th {\n",
       "        vertical-align: top;\n",
       "    }\n",
       "\n",
       "    .dataframe thead th {\n",
       "        text-align: right;\n",
       "    }\n",
       "</style>\n",
       "<table border=\"1\" class=\"dataframe\">\n",
       "  <thead>\n",
       "    <tr style=\"text-align: right;\">\n",
       "      <th></th>\n",
       "      <th>pmipositive</th>\n",
       "    </tr>\n",
       "  </thead>\n",
       "  <tbody>\n",
       "    <tr>\n",
       "      <th>definitely stay</th>\n",
       "      <td>0.122378</td>\n",
       "    </tr>\n",
       "    <tr>\n",
       "      <th>highly recommend</th>\n",
       "      <td>0.121792</td>\n",
       "    </tr>\n",
       "    <tr>\n",
       "      <th>great stay</th>\n",
       "      <td>0.110282</td>\n",
       "    </tr>\n",
       "    <tr>\n",
       "      <th>enjoyed stay</th>\n",
       "      <td>0.101417</td>\n",
       "    </tr>\n",
       "    <tr>\n",
       "      <th>location perfect</th>\n",
       "      <td>0.097511</td>\n",
       "    </tr>\n",
       "    <tr>\n",
       "      <th>great hotel</th>\n",
       "      <td>0.095214</td>\n",
       "    </tr>\n",
       "    <tr>\n",
       "      <th>great place</th>\n",
       "      <td>0.091987</td>\n",
       "    </tr>\n",
       "    <tr>\n",
       "      <th>great service</th>\n",
       "      <td>0.089629</td>\n",
       "    </tr>\n",
       "    <tr>\n",
       "      <th>staff great</th>\n",
       "      <td>0.084544</td>\n",
       "    </tr>\n",
       "    <tr>\n",
       "      <th>helpful friendly</th>\n",
       "      <td>0.083019</td>\n",
       "    </tr>\n",
       "  </tbody>\n",
       "</table>\n",
       "</div>"
      ],
      "text/plain": [
       "                  pmipositive\n",
       "definitely stay      0.122378\n",
       "highly recommend     0.121792\n",
       "great stay           0.110282\n",
       "enjoyed stay         0.101417\n",
       "location perfect     0.097511\n",
       "great hotel          0.095214\n",
       "great place          0.091987\n",
       "great service        0.089629\n",
       "staff great          0.084544\n",
       "helpful friendly     0.083019"
      ]
     },
     "execution_count": 10,
     "metadata": {},
     "output_type": "execute_result"
    }
   ],
   "source": [
    "print('PMI for positive reviews - Bigram')\n",
    "pmiPos_bigram.head(10)"
   ]
  },
  {
   "cell_type": "code",
   "execution_count": 11,
   "metadata": {},
   "outputs": [
    {
     "name": "stdout",
     "output_type": "stream",
     "text": [
      "PMI for negative reviews - Unigram\n"
     ]
    },
    {
     "data": {
      "text/html": [
       "<div>\n",
       "<style scoped>\n",
       "    .dataframe tbody tr th:only-of-type {\n",
       "        vertical-align: middle;\n",
       "    }\n",
       "\n",
       "    .dataframe tbody tr th {\n",
       "        vertical-align: top;\n",
       "    }\n",
       "\n",
       "    .dataframe thead th {\n",
       "        text-align: right;\n",
       "    }\n",
       "</style>\n",
       "<table border=\"1\" class=\"dataframe\">\n",
       "  <thead>\n",
       "    <tr style=\"text-align: right;\">\n",
       "      <th></th>\n",
       "      <th>pminegative</th>\n",
       "    </tr>\n",
       "  </thead>\n",
       "  <tbody>\n",
       "    <tr>\n",
       "      <th>old</th>\n",
       "      <td>0.186201</td>\n",
       "    </tr>\n",
       "    <tr>\n",
       "      <th>don</th>\n",
       "      <td>0.173011</td>\n",
       "    </tr>\n",
       "    <tr>\n",
       "      <th>better</th>\n",
       "      <td>0.152130</td>\n",
       "    </tr>\n",
       "    <tr>\n",
       "      <th>people</th>\n",
       "      <td>0.133461</td>\n",
       "    </tr>\n",
       "    <tr>\n",
       "      <th>did</th>\n",
       "      <td>0.132020</td>\n",
       "    </tr>\n",
       "    <tr>\n",
       "      <th>door</th>\n",
       "      <td>0.129459</td>\n",
       "    </tr>\n",
       "    <tr>\n",
       "      <th>didn</th>\n",
       "      <td>0.128238</td>\n",
       "    </tr>\n",
       "    <tr>\n",
       "      <th>shower</th>\n",
       "      <td>0.127285</td>\n",
       "    </tr>\n",
       "    <tr>\n",
       "      <th>got</th>\n",
       "      <td>0.110409</td>\n",
       "    </tr>\n",
       "    <tr>\n",
       "      <th>need</th>\n",
       "      <td>0.107237</td>\n",
       "    </tr>\n",
       "  </tbody>\n",
       "</table>\n",
       "</div>"
      ],
      "text/plain": [
       "        pminegative\n",
       "old        0.186201\n",
       "don        0.173011\n",
       "better     0.152130\n",
       "people     0.133461\n",
       "did        0.132020\n",
       "door       0.129459\n",
       "didn       0.128238\n",
       "shower     0.127285\n",
       "got        0.110409\n",
       "need       0.107237"
      ]
     },
     "execution_count": 11,
     "metadata": {},
     "output_type": "execute_result"
    }
   ],
   "source": [
    "print('PMI for negative reviews - Unigram')\n",
    "pmiNeg_unigram.head(10)"
   ]
  },
  {
   "cell_type": "code",
   "execution_count": 12,
   "metadata": {},
   "outputs": [
    {
     "name": "stdout",
     "output_type": "stream",
     "text": [
      "PMI for negative reviews - Bigram\n"
     ]
    },
    {
     "data": {
      "text/html": [
       "<div>\n",
       "<style scoped>\n",
       "    .dataframe tbody tr th:only-of-type {\n",
       "        vertical-align: middle;\n",
       "    }\n",
       "\n",
       "    .dataframe tbody tr th {\n",
       "        vertical-align: top;\n",
       "    }\n",
       "\n",
       "    .dataframe thead th {\n",
       "        text-align: right;\n",
       "    }\n",
       "</style>\n",
       "<table border=\"1\" class=\"dataframe\">\n",
       "  <thead>\n",
       "    <tr style=\"text-align: right;\">\n",
       "      <th></th>\n",
       "      <th>pminegative</th>\n",
       "    </tr>\n",
       "  </thead>\n",
       "  <tbody>\n",
       "    <tr>\n",
       "      <th>got room</th>\n",
       "      <td>0.259273</td>\n",
       "    </tr>\n",
       "    <tr>\n",
       "      <th>star hotel</th>\n",
       "      <td>0.237313</td>\n",
       "    </tr>\n",
       "    <tr>\n",
       "      <th>holiday inn</th>\n",
       "      <td>0.214530</td>\n",
       "    </tr>\n",
       "    <tr>\n",
       "      <th>room room</th>\n",
       "      <td>0.196829</td>\n",
       "    </tr>\n",
       "    <tr>\n",
       "      <th>parking lot</th>\n",
       "      <td>0.182978</td>\n",
       "    </tr>\n",
       "    <tr>\n",
       "      <th>room small</th>\n",
       "      <td>0.180265</td>\n",
       "    </tr>\n",
       "    <tr>\n",
       "      <th>booked hotel</th>\n",
       "      <td>0.160072</td>\n",
       "    </tr>\n",
       "    <tr>\n",
       "      <th>customer service</th>\n",
       "      <td>0.141623</td>\n",
       "    </tr>\n",
       "    <tr>\n",
       "      <th>good location</th>\n",
       "      <td>0.123736</td>\n",
       "    </tr>\n",
       "    <tr>\n",
       "      <th>10 minutes</th>\n",
       "      <td>0.120026</td>\n",
       "    </tr>\n",
       "  </tbody>\n",
       "</table>\n",
       "</div>"
      ],
      "text/plain": [
       "                  pminegative\n",
       "got room             0.259273\n",
       "star hotel           0.237313\n",
       "holiday inn          0.214530\n",
       "room room            0.196829\n",
       "parking lot          0.182978\n",
       "room small           0.180265\n",
       "booked hotel         0.160072\n",
       "customer service     0.141623\n",
       "good location        0.123736\n",
       "10 minutes           0.120026"
      ]
     },
     "execution_count": 12,
     "metadata": {},
     "output_type": "execute_result"
    }
   ],
   "source": [
    "print('PMI for negative reviews - Bigram')\n",
    "pmiNeg_bigram.head(10)"
   ]
  },
  {
   "cell_type": "code",
   "execution_count": 13,
   "metadata": {},
   "outputs": [
    {
     "data": {
      "image/png": "[encoded data removed]",
      "text/plain": [
       "<Figure size 432x288 with 1 Axes>"
      ]
     },
     "metadata": {
      "needs_background": "light"
     },
     "output_type": "display_data"
    },
    {
     "data": {
      "image/png": "[encoded data removed]",
      "text/plain": [
       "<Figure size 432x288 with 1 Axes>"
      ]
     },
     "metadata": {
      "needs_background": "light"
     },
     "output_type": "display_data"
    }
   ],
   "source": [
    "pmiPos_unigram.head(10).plot.bar(rot=40, color='b',\n",
    "                                 title='Top 10 words in Positive Reviews based on PMI scores')\n",
    "pmiNeg_unigram.head(10).plot.bar(rot=40, color='r',\n",
    "                                 title='Top 10 words in Negative Reviews based on PMI scores')\n",
    "plt.show()"
   ]
  },
  {
   "cell_type": "code",
   "execution_count": 14,
   "metadata": {},
   "outputs": [
    {
     "data": {
      "image/png": "[encoded data removed]",
      "text/plain": [
       "<Figure size 432x288 with 1 Axes>"
      ]
     },
     "metadata": {
      "needs_background": "light"
     },
     "output_type": "display_data"
    },
    {
     "data": {
      "image/png": "[encoded data removed]",
      "text/plain": [
       "<Figure size 432x288 with 1 Axes>"
      ]
     },
     "metadata": {
      "needs_background": "light"
     },
     "output_type": "display_data"
    }
   ],
   "source": [
    "pmiPos_bigram.head(10).plot.bar(rot=40, color='b',\n",
    "                                 title='Top 10 words in Positive Reviews based on PMI scores')\n",
    "pmiNeg_bigram.head(10).plot.bar(rot=40, color='r',\n",
    "                                 title='Top 10 words in Negative Reviews based on PMI scores')\n",
    "plt.show()"
   ]
  },
  {
   "cell_type": "markdown",
   "metadata": {},
   "source": [
    "### Pointwise Mutual Information seems like a good metric to summarize the reviews in n-gram tokens!\n",
    "### By reading the n-gram tokens with high PMI scores for target variable, we can get a sense how much the reviewer did or didn't like the hotels. "
   ]
  },
  {
   "cell_type": "markdown",
   "metadata": {},
   "source": [
    "# Visualization\n",
    "Sometimes, we can learn a lot about the data by visualizing."
   ]
  },
  {
   "cell_type": "markdown",
   "metadata": {},
   "source": [
    "## Historgrams"
   ]
  },
  {
   "cell_type": "code",
   "execution_count": 15,
   "metadata": {},
   "outputs": [
    {
     "data": {
      "image/png": "[encoded data removed]",
      "text/plain": [
       "<Figure size 432x288 with 1 Axes>"
      ]
     },
     "metadata": {
      "needs_background": "light"
     },
     "output_type": "display_data"
    }
   ],
   "source": [
    "plt.xlabel('Rating Score')\n",
    "hotelDf['overall_rating'].plot(kind='hist', title='Histogram - Rating Scores',\n",
    "                            bins=np.arange(1,7)-0.5)\n",
    "plt.show()"
   ]
  },
  {
   "cell_type": "code",
   "execution_count": 27,
   "metadata": {},
   "outputs": [
    {
     "data": {
      "image/png": "[encoded data removed]",
      "text/plain": [
       "<Figure size 432x288 with 1 Axes>"
      ]
     },
     "metadata": {
      "needs_background": "light"
     },
     "output_type": "display_data"
    }
   ],
   "source": [
    "plt.xlabel('Vader Sentiment Score')\n",
    "hotelDf['vaderScore'].plot(kind='hist', title='Histogram - Vader Scores', \n",
    "                           xticks=[-1.0, -0.5, 0.0, 0.5, 1.0])\n",
    "plt.show()"
   ]
  },
  {
   "cell_type": "code",
   "execution_count": 28,
   "metadata": {},
   "outputs": [
    {
     "name": "stderr",
     "output_type": "stream",
     "text": [
      "/home/maria/anaconda3/envs/nlp/lib/python3.6/site-packages/ipykernel_launcher.py:3: FutureWarning: Method .as_matrix will be removed in a future version. Use .values instead.\n",
      "  This is separate from the ipykernel package so we can avoid doing imports until\n",
      "/home/maria/anaconda3/envs/nlp/lib/python3.6/site-packages/ipykernel_launcher.py:4: FutureWarning: Method .as_matrix will be removed in a future version. Use .values instead.\n",
      "  after removing the cwd from sys.path.\n"
     ]
    },
    {
     "data": {
      "image/png": "[encoded data removed]",
      "text/plain": [
       "<Figure size 432x288 with 1 Axes>"
      ]
     },
     "metadata": {
      "needs_background": "light"
     },
     "output_type": "display_data"
    }
   ],
   "source": [
    "#Overlayed Histogram for GT rating and VD score\n",
    "#Just for demonstrating, I am dividing the rating score by 5\n",
    "x = [hotelDf['overall_rating'].as_matrix() / 5]\n",
    "y = [(hotelDf['vaderScore'].as_matrix() + 1 )/ 2]\n",
    "bins = np.linspace(0, 1, 100)\n",
    "plt.hist(x, bins, label='Rescaled True Ratings')\n",
    "plt.hist(y, bins, label='Rescaled Vader Scores')\n",
    "plt.title('Histogram - Rescaled')\n",
    "plt.xlabel('Score')\n",
    "plt.ylabel('Frequency')\n",
    "plt.legend(loc='upper left')\n",
    "plt.show()"
   ]
  },
  {
   "cell_type": "markdown",
   "metadata": {},
   "source": [
    "## Boxplots"
   ]
  },
  {
   "cell_type": "markdown",
   "metadata": {},
   "source": [
    "## Scatterplots"
   ]
  },
  {
   "cell_type": "code",
   "execution_count": 45,
   "metadata": {},
   "outputs": [
    {
     "data": {
      "image/png": "[encoded data removed]",
      "text/plain": [
       "<Figure size 432x288 with 1 Axes>"
      ]
     },
     "metadata": {
      "needs_background": "light"
     },
     "output_type": "display_data"
    }
   ],
   "source": [
    "y = hotelDf['overall_rating'].values\n",
    "x = hotelDf['vaderScore'].values\n",
    "plt.title('Vader score vs. True Ratings')\n",
    "plt.xlabel('Vader Scores')\n",
    "plt.ylabel('True Ratings')\n",
    "plt.xticks([-1, -0.5, 0, 0.5, 1])\n",
    "plt.yticks([1,2,3,4,5])\n",
    "plt.plot(x, y, \"o\", ms=3, color='b')\n",
    "plt.show()"
   ]
  },
  {
   "cell_type": "code",
   "execution_count": null,
   "metadata": {
    "collapsed": true,
    "jupyter": {
     "outputs_hidden": true
    }
   },
   "outputs": [],
   "source": []
  }
 ],
 "metadata": {
  "anaconda-cloud": {},
  "kernelspec": {
   "display_name": "Python 3",
   "language": "python",
   "name": "python3"
  },
  "language_info": {
   "codemirror_mode": {
    "name": "ipython",
    "version": 3
   },
   "file_extension": ".py",
   "mimetype": "text/x-python",
   "name": "python",
   "nbconvert_exporter": "python",
   "pygments_lexer": "ipython3",
   "version": "3.7.4"
  },
  "varInspector": {
   "cols": {
    "lenName": 16,
    "lenType": 16,
    "lenVar": 40
   },
   "kernels_config": {
    "python": {
     "delete_cmd_postfix": "",
     "delete_cmd_prefix": "del ",
     "library": "var_list.py",
     "varRefreshCmd": "print(var_dic_list())"
    },
    "r": {
     "delete_cmd_postfix": ") ",
     "delete_cmd_prefix": "rm(",
     "library": "var_list.r",
     "varRefreshCmd": "cat(var_dic_list()) "
    }
   },
   "types_to_exclude": [
    "module",
    "function",
    "builtin_function_or_method",
    "instance",
    "_Feature"
   ],
   "window_display": false
  }
 },
 "nbformat": 4,
 "nbformat_minor": 4
}
