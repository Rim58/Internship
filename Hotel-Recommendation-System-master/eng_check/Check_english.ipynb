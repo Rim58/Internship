{
 "cells": [
  {
   "cell_type": "code",
   "execution_count": 2,
   "metadata": {},
   "outputs": [],
   "source": [
    "# !pip install spacy_langdetect\n",
    "\n",
    "import spacy\n",
    "from spacy_langdetect import LanguageDetector\n",
    "nlp = spacy.load('en_core_web_sm')\n",
    "\n",
    "\n",
    "en = [\"My name is Bob.\",\n",
    "    \"Bob is in thekitchen.\",\n",
    "    \"Bob loves Marie.\"]\n",
    "fr = [\"Je m'appele Bob.\", \n",
    "      \"Bob est dans la cuisine.\", \n",
    "      \"Bob aime Marie.\"]\n",
    "es = [\"Mi nombre es Bob.\", \n",
    "      \"Bob esta en la cocina.\", \n",
    "      \"Bob ama a Marie.\"]\n",
    "ge = [\"Mijn naam is Bob.\",\n",
    "    \"Bob is in de keuken.\",\n",
    "    \"Bob houdt van Marie.\"]\n",
    "catalan = [\"Em dic Bob.\",\n",
    "    \"El Bob és a thekitchen.\",\n",
    "    \"Bob estima Marie.\"]\n",
    "\n"
   ]
  },
  {
   "cell_type": "code",
   "execution_count": 3,
   "metadata": {},
   "outputs": [
    {
     "name": "stdout",
     "output_type": "stream",
     "text": [
      "en\n",
      "en\n",
      "fr\n",
      "fr\n",
      "fr\n",
      "ro\n",
      "fr\n",
      "es\n",
      "pt\n",
      "nl\n",
      "nl\n",
      "nl\n",
      "ca\n",
      "en\n",
      "ro\n"
     ]
    }
   ],
   "source": [
    "nlp.add_pipe(LanguageDetector(), name='language_detector', last=True)\n",
    "sents = [en, fr, es, ge, catalan]\n",
    "for language in sents:\n",
    "    for sentence in language:\n",
    "        doc = nlp(sentence)\n",
    "        print(doc._.language['language'])"
   ]
  },
  {
   "cell_type": "code",
   "execution_count": null,
   "metadata": {},
   "outputs": [],
   "source": []
  }
 ],
 "metadata": {
  "kernelspec": {
   "display_name": "Python 3",
   "language": "python",
   "name": "python3"
  },
  "language_info": {
   "codemirror_mode": {
    "name": "ipython",
    "version": 3
   },
   "file_extension": ".py",
   "mimetype": "text/x-python",
   "name": "python",
   "nbconvert_exporter": "python",
   "pygments_lexer": "ipython3",
   "version": "3.7.4"
  }
 },
 "nbformat": 4,
 "nbformat_minor": 4
}
