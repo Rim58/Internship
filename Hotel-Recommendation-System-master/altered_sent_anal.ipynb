{
 "cells": [
  {
   "cell_type": "markdown",
   "metadata": {},
   "source": [
    "# Sentiment Analysis for Hotel Reviews"
   ]
  },
  {
   "cell_type": "markdown",
   "metadata": {},
   "source": [
    "## Overview\n",
    "This project is analyzing sentiment in hotel reviews using **Mutual Information** and **Vader Sentiment Analyzer**.\n",
    "\n",
    "We use **Vader sentiment analyzer, Mutual Information and Point-wise Mutual Information** to discover the relation between those metrics and ground-truth rating scores."
   ]
  },
  {
   "cell_type": "markdown",
   "metadata": {},
   "source": [
    "## What we are going to do\n",
    "\n",
    "1. Read the data (.csv format) into **pandas dataframe**\n",
    "\n",
    "2. Use **Vader sentiment analyzer****bag-of-words model** (unigram)\n",
    "\n",
    "VADER (Valence Aware Dictionary and sEntiment Reasoner) is a lexicon and rule-based sentiment analysis tool that is specifically attuned to sentiments expressed in social media, and works well on texts from other domains.\n",
    "\n",
    "3. Calculate **word frequency**, **mutual information** and **pointwise mutual information** for the unigrams to see how they relate with the review scores\n",
    "\n",
    "4. **Visualize** the distribution of the ground-truth scores and Vader scores\n",
    "5. Discuss"
   ]
  },
  {
   "cell_type": "markdown",
   "metadata": {},
   "source": [
    "### Install and import the packages"
   ]
  },
  {
   "cell_type": "code",
   "execution_count": 2,
   "metadata": {},
   "outputs": [],
   "source": [
    "#Download required ntlk packages and lib\n",
    "import nltk\n",
    "# nltk.download(\"vader_lexicon\")\n",
    "# nltk.download(\"stopwords\")"
   ]
  },
  {
   "cell_type": "code",
   "execution_count": 3,
   "metadata": {},
   "outputs": [],
   "source": [
    "from nltk.sentiment import SentimentAnalyzer\n",
    "from nltk.sentiment.vader import SentimentIntensityAnalyzer\n",
    "from nltk.sentiment.util import *\n",
    "from nltk import tokenize\n",
    "from nltk.corpus import stopwords\n",
    "import pandas as pd\n",
    "import numpy as np\n",
    "from collections import Counter\n",
    "import re\n",
    "import sys\n",
    "import math\n",
    "import html\n",
    "import sklearn\n",
    "import sklearn.metrics as metrics\n",
    "from sklearn.metrics import mutual_info_score\n",
    "from sklearn.feature_extraction.text import CountVectorizer, TfidfVectorizer, ENGLISH_STOP_WORDS\n",
    "import matplotlib.pyplot as plt\n",
    "import seaborn as sns\n",
    "from pprint import pprint\n",
    "\n",
    "%matplotlib inline"
   ]
  },
  {
   "cell_type": "markdown",
   "metadata": {},
   "source": [
    "### Test the Vader analyzer"
   ]
  },
  {
   "cell_type": "code",
   "execution_count": 3,
   "metadata": {},
   "outputs": [],
   "source": [
    "#Sentences to try with vader\n",
    "# sentences = [\"VADER is smart, handsome, and funny.\",\n",
    "#              \"Data Scientists are sexy!\",\n",
    "#              \"The room was dirty and small\",\n",
    "#              \"They had excellent facilities!\",\n",
    "#              \"This hotel is the worst hotel in the city\"]"
   ]
  },
  {
   "cell_type": "code",
   "execution_count": 4,
   "metadata": {},
   "outputs": [],
   "source": [
    "#Instantiate an instance to access SentimentIntensityAnalyzer class\n",
    "# sid = SentimentIntensityAnalyzer()"
   ]
  },
  {
   "cell_type": "code",
   "execution_count": 5,
   "metadata": {},
   "outputs": [
    {
     "name": "stdout",
     "output_type": "stream",
     "text": [
      "VADER is smart, handsome, and funny.\n",
      "compound: 0.8316, neg: 0.0, neu: 0.254, pos: 0.746, \n",
      "\n",
      "Data Scientists are sexy!\n",
      "compound: 0.5707, neg: 0.0, neu: 0.448, pos: 0.552, \n",
      "\n",
      "The room was dirty and small\n",
      "compound: -0.4404, neg: 0.367, neu: 0.633, pos: 0.0, \n",
      "\n",
      "They had excellent facilities!\n",
      "compound: 0.6114, neg: 0.0, neu: 0.429, pos: 0.571, \n",
      "\n",
      "This hotel is the worst hotel in the city\n",
      "compound: -0.6249, neg: 0.339, neu: 0.661, pos: 0.0, \n",
      "\n"
     ]
    }
   ],
   "source": [
    "#Vader output\n",
    "# for sentence in sentences:\n",
    "#     print(sentence)\n",
    "#     ss = sid.polarity_scores(sentence)\n",
    "#     for k in sorted(ss):\n",
    "#          print('{0}: {1}, '.format(k, ss[k]), end='')\n",
    "#     print('\\n')"
   ]
  },
  {
   "cell_type": "markdown",
   "metadata": {},
   "source": [
    "It can be seen from the previous examples that **Vader sentiment analyzer** does good job in identifying polarity of the sentences and give us **compound** score which is in range of [-1, 1]. As compound is close to +1.0, the sentence has positive words and mood."
   ]
  },
  {
   "cell_type": "markdown",
   "metadata": {},
   "source": [
    "## Let's read the .csv data we scrapped from Trip Advisor"
   ]
  },
  {
   "cell_type": "code",
   "execution_count": 26,
   "metadata": {},
   "outputs": [],
   "source": [
    "# Read in from pandas\n",
    "\n",
    "# hotelDf = pd.read_csv('../hotels_data.csv', sep=\";\")\n",
    "# hotelDf.columns = ['idx', 'rev_id', 'rating', 'title', 'text', 'username', 'user_loc', 'hotel_id', 'date_stay', 'date_review']\n",
    "# hotelDf['text'] = hotelDf.apply(lambda row: '' if row['text'] is None else row['text'] , axis=1)\n",
    "\n",
    "# hotelDfassiging groundtruth to our dataset \n",
    "# the groundtruth is categorical variable ('positive', 'negative'). \n",
    "# If the rating score is 4 or 5, we say the ground truth is positive, otherwise we say it is negative.\n",
    "\n",
    "# hotelDf['groundTruth'] = hotelDf.apply(lambda row: 'positive' if float(row['rating']) > 3 else 'negative' , axis=1)\n"
   ]
  },
  {
   "cell_type": "code",
   "execution_count": 27,
   "metadata": {},
   "outputs": [
    {
     "data": {
      "text/html": [
       "<div>\n",
       "<style scoped>\n",
       "    .dataframe tbody tr th:only-of-type {\n",
       "        vertical-align: middle;\n",
       "    }\n",
       "\n",
       "    .dataframe tbody tr th {\n",
       "        vertical-align: top;\n",
       "    }\n",
       "\n",
       "    .dataframe thead th {\n",
       "        text-align: right;\n",
       "    }\n",
       "</style>\n",
       "<table border=\"1\" class=\"dataframe\">\n",
       "  <thead>\n",
       "    <tr style=\"text-align: right;\">\n",
       "      <th></th>\n",
       "      <th>idx</th>\n",
       "      <th>rev_id</th>\n",
       "      <th>rating</th>\n",
       "      <th>title</th>\n",
       "      <th>text</th>\n",
       "      <th>username</th>\n",
       "      <th>user_loc</th>\n",
       "      <th>hotel_id</th>\n",
       "      <th>date_stay</th>\n",
       "      <th>date_review</th>\n",
       "      <th>groundTruth</th>\n",
       "    </tr>\n",
       "  </thead>\n",
       "  <tbody>\n",
       "    <tr>\n",
       "      <td>0</td>\n",
       "      <td>0</td>\n",
       "      <td>147643103.0</td>\n",
       "      <td>5.0</td>\n",
       "      <td>“Truly is \"Jewel of the Upper Wets Side\"”</td>\n",
       "      <td>Stayed in a king suite for 11 nights and yes i...</td>\n",
       "      <td>Papa_Panda</td>\n",
       "      <td>Gold Coast</td>\n",
       "      <td>93338</td>\n",
       "      <td>December 2012</td>\n",
       "      <td>December 17, 2012</td>\n",
       "      <td>positive</td>\n",
       "    </tr>\n",
       "    <tr>\n",
       "      <td>1</td>\n",
       "      <td>1</td>\n",
       "      <td>147639004.0</td>\n",
       "      <td>5.0</td>\n",
       "      <td>“My home away from home!”</td>\n",
       "      <td>On every visit to NYC, the Hotel Beacon is the...</td>\n",
       "      <td>Maureen V</td>\n",
       "      <td>Sydney, New South Wales, Australia</td>\n",
       "      <td>93338</td>\n",
       "      <td>December 2012</td>\n",
       "      <td>December 17, 2012</td>\n",
       "      <td>positive</td>\n",
       "    </tr>\n",
       "    <tr>\n",
       "      <td>2</td>\n",
       "      <td>2</td>\n",
       "      <td>147697954.0</td>\n",
       "      <td>4.0</td>\n",
       "      <td>“Great Stay”</td>\n",
       "      <td>This is a great property in Midtown. We two di...</td>\n",
       "      <td>vuguru</td>\n",
       "      <td>Houston</td>\n",
       "      <td>1762573</td>\n",
       "      <td>December 2012</td>\n",
       "      <td>December 18, 2012</td>\n",
       "      <td>positive</td>\n",
       "    </tr>\n",
       "    <tr>\n",
       "      <td>3</td>\n",
       "      <td>3</td>\n",
       "      <td>147625723.0</td>\n",
       "      <td>4.0</td>\n",
       "      <td>“Modern Convenience”</td>\n",
       "      <td>The Andaz is a nice hotel in a central locatio...</td>\n",
       "      <td>Hotel-Designer</td>\n",
       "      <td>Laguna Beach, CA</td>\n",
       "      <td>1762573</td>\n",
       "      <td>August 2012</td>\n",
       "      <td>December 17, 2012</td>\n",
       "      <td>positive</td>\n",
       "    </tr>\n",
       "    <tr>\n",
       "      <td>4</td>\n",
       "      <td>4</td>\n",
       "      <td>147612823.0</td>\n",
       "      <td>4.0</td>\n",
       "      <td>“Its the best of the Andaz Brand in the US....”</td>\n",
       "      <td>I have stayed at each of the US Andaz properti...</td>\n",
       "      <td>JamesE339</td>\n",
       "      <td>Saint Louis, Missouri</td>\n",
       "      <td>1762573</td>\n",
       "      <td>December 2012</td>\n",
       "      <td>December 17, 2012</td>\n",
       "      <td>positive</td>\n",
       "    </tr>\n",
       "  </tbody>\n",
       "</table>\n",
       "</div>"
      ],
      "text/plain": [
       "   idx       rev_id  rating                                            title  \\\n",
       "0    0  147643103.0     5.0        “Truly is \"Jewel of the Upper Wets Side\"”   \n",
       "1    1  147639004.0     5.0                        “My home away from home!”   \n",
       "2    2  147697954.0     4.0                                     “Great Stay”   \n",
       "3    3  147625723.0     4.0                             “Modern Convenience”   \n",
       "4    4  147612823.0     4.0  “Its the best of the Andaz Brand in the US....”   \n",
       "\n",
       "                                                text        username  \\\n",
       "0  Stayed in a king suite for 11 nights and yes i...      Papa_Panda   \n",
       "1  On every visit to NYC, the Hotel Beacon is the...       Maureen V   \n",
       "2  This is a great property in Midtown. We two di...          vuguru   \n",
       "3  The Andaz is a nice hotel in a central locatio...  Hotel-Designer   \n",
       "4  I have stayed at each of the US Andaz properti...       JamesE339   \n",
       "\n",
       "                             user_loc hotel_id      date_stay  \\\n",
       "0                          Gold Coast    93338  December 2012   \n",
       "1  Sydney, New South Wales, Australia    93338  December 2012   \n",
       "2                             Houston  1762573  December 2012   \n",
       "3                    Laguna Beach, CA  1762573    August 2012   \n",
       "4               Saint Louis, Missouri  1762573  December 2012   \n",
       "\n",
       "         date_review groundTruth  \n",
       "0  December 17, 2012    positive  \n",
       "1  December 17, 2012    positive  \n",
       "2  December 18, 2012    positive  \n",
       "3  December 17, 2012    positive  \n",
       "4  December 17, 2012    positive  "
      ]
     },
     "execution_count": 27,
     "metadata": {},
     "output_type": "execute_result"
    }
   ],
   "source": [
    "# hotelDf.head()"
   ]
  },
  {
   "cell_type": "code",
   "execution_count": null,
   "metadata": {},
   "outputs": [],
   "source": []
  },
  {
   "cell_type": "code",
   "execution_count": 28,
   "metadata": {},
   "outputs": [],
   "source": [
    "# Instantiate the sentiment Analyzer\n",
    "# sid = SentimentIntensityAnalyzer()"
   ]
  },
  {
   "cell_type": "code",
   "execution_count": 32,
   "metadata": {},
   "outputs": [
    {
     "name": "stdout",
     "output_type": "stream",
     "text": [
      "completed\n"
     ]
    }
   ],
   "source": [
    "\n",
    "# vaderScores = []\n",
    "# #Assign Vader score to individual review using Vader compound score\n",
    "# for rownum, review in enumerate(hotelDf['text']):\n",
    "    \n",
    "#     if review is None:\n",
    "#         review=\"\"\n",
    "#     if isinstance(review, str) == False:\n",
    "#         review = \"\"\n",
    "#     scores = sid.polarity_scores(review)\n",
    "\n",
    "#     vaderScores.append(scores['compound'])\n",
    "# #     if (rownum % 5000 == 0):\n",
    "# #             print(\"processed %d reviews\" % (rownum+1))\n",
    "# print(\"completed\")"
   ]
  },
  {
   "cell_type": "code",
   "execution_count": 33,
   "metadata": {},
   "outputs": [
    {
     "data": {
      "text/html": [
       "<div>\n",
       "<style scoped>\n",
       "    .dataframe tbody tr th:only-of-type {\n",
       "        vertical-align: middle;\n",
       "    }\n",
       "\n",
       "    .dataframe tbody tr th {\n",
       "        vertical-align: top;\n",
       "    }\n",
       "\n",
       "    .dataframe thead th {\n",
       "        text-align: right;\n",
       "    }\n",
       "</style>\n",
       "<table border=\"1\" class=\"dataframe\">\n",
       "  <thead>\n",
       "    <tr style=\"text-align: right;\">\n",
       "      <th></th>\n",
       "      <th>idx</th>\n",
       "      <th>rev_id</th>\n",
       "      <th>rating</th>\n",
       "      <th>title</th>\n",
       "      <th>text</th>\n",
       "      <th>username</th>\n",
       "      <th>user_loc</th>\n",
       "      <th>hotel_id</th>\n",
       "      <th>date_stay</th>\n",
       "      <th>date_review</th>\n",
       "      <th>groundTruth</th>\n",
       "      <th>vaderScore</th>\n",
       "    </tr>\n",
       "  </thead>\n",
       "  <tbody>\n",
       "    <tr>\n",
       "      <td>0</td>\n",
       "      <td>0</td>\n",
       "      <td>147643103.0</td>\n",
       "      <td>5.0</td>\n",
       "      <td>“Truly is \"Jewel of the Upper Wets Side\"”</td>\n",
       "      <td>Stayed in a king suite for 11 nights and yes i...</td>\n",
       "      <td>Papa_Panda</td>\n",
       "      <td>Gold Coast</td>\n",
       "      <td>93338</td>\n",
       "      <td>December 2012</td>\n",
       "      <td>December 17, 2012</td>\n",
       "      <td>positive</td>\n",
       "      <td>0.9966</td>\n",
       "    </tr>\n",
       "    <tr>\n",
       "      <td>1</td>\n",
       "      <td>1</td>\n",
       "      <td>147639004.0</td>\n",
       "      <td>5.0</td>\n",
       "      <td>“My home away from home!”</td>\n",
       "      <td>On every visit to NYC, the Hotel Beacon is the...</td>\n",
       "      <td>Maureen V</td>\n",
       "      <td>Sydney, New South Wales, Australia</td>\n",
       "      <td>93338</td>\n",
       "      <td>December 2012</td>\n",
       "      <td>December 17, 2012</td>\n",
       "      <td>positive</td>\n",
       "      <td>0.9783</td>\n",
       "    </tr>\n",
       "    <tr>\n",
       "      <td>2</td>\n",
       "      <td>2</td>\n",
       "      <td>147697954.0</td>\n",
       "      <td>4.0</td>\n",
       "      <td>“Great Stay”</td>\n",
       "      <td>This is a great property in Midtown. We two di...</td>\n",
       "      <td>vuguru</td>\n",
       "      <td>Houston</td>\n",
       "      <td>1762573</td>\n",
       "      <td>December 2012</td>\n",
       "      <td>December 18, 2012</td>\n",
       "      <td>positive</td>\n",
       "      <td>0.9726</td>\n",
       "    </tr>\n",
       "    <tr>\n",
       "      <td>3</td>\n",
       "      <td>3</td>\n",
       "      <td>147625723.0</td>\n",
       "      <td>4.0</td>\n",
       "      <td>“Modern Convenience”</td>\n",
       "      <td>The Andaz is a nice hotel in a central locatio...</td>\n",
       "      <td>Hotel-Designer</td>\n",
       "      <td>Laguna Beach, CA</td>\n",
       "      <td>1762573</td>\n",
       "      <td>August 2012</td>\n",
       "      <td>December 17, 2012</td>\n",
       "      <td>positive</td>\n",
       "      <td>0.9570</td>\n",
       "    </tr>\n",
       "    <tr>\n",
       "      <td>4</td>\n",
       "      <td>4</td>\n",
       "      <td>147612823.0</td>\n",
       "      <td>4.0</td>\n",
       "      <td>“Its the best of the Andaz Brand in the US....”</td>\n",
       "      <td>I have stayed at each of the US Andaz properti...</td>\n",
       "      <td>JamesE339</td>\n",
       "      <td>Saint Louis, Missouri</td>\n",
       "      <td>1762573</td>\n",
       "      <td>December 2012</td>\n",
       "      <td>December 17, 2012</td>\n",
       "      <td>positive</td>\n",
       "      <td>0.9919</td>\n",
       "    </tr>\n",
       "  </tbody>\n",
       "</table>\n",
       "</div>"
      ],
      "text/plain": [
       "   idx       rev_id  rating                                            title  \\\n",
       "0    0  147643103.0     5.0        “Truly is \"Jewel of the Upper Wets Side\"”   \n",
       "1    1  147639004.0     5.0                        “My home away from home!”   \n",
       "2    2  147697954.0     4.0                                     “Great Stay”   \n",
       "3    3  147625723.0     4.0                             “Modern Convenience”   \n",
       "4    4  147612823.0     4.0  “Its the best of the Andaz Brand in the US....”   \n",
       "\n",
       "                                                text        username  \\\n",
       "0  Stayed in a king suite for 11 nights and yes i...      Papa_Panda   \n",
       "1  On every visit to NYC, the Hotel Beacon is the...       Maureen V   \n",
       "2  This is a great property in Midtown. We two di...          vuguru   \n",
       "3  The Andaz is a nice hotel in a central locatio...  Hotel-Designer   \n",
       "4  I have stayed at each of the US Andaz properti...       JamesE339   \n",
       "\n",
       "                             user_loc hotel_id      date_stay  \\\n",
       "0                          Gold Coast    93338  December 2012   \n",
       "1  Sydney, New South Wales, Australia    93338  December 2012   \n",
       "2                             Houston  1762573  December 2012   \n",
       "3                    Laguna Beach, CA  1762573    August 2012   \n",
       "4               Saint Louis, Missouri  1762573  December 2012   \n",
       "\n",
       "         date_review groundTruth  vaderScore  \n",
       "0  December 17, 2012    positive      0.9966  \n",
       "1  December 17, 2012    positive      0.9783  \n",
       "2  December 18, 2012    positive      0.9726  \n",
       "3  December 17, 2012    positive      0.9570  \n",
       "4  December 17, 2012    positive      0.9919  "
      ]
     },
     "execution_count": 33,
     "metadata": {},
     "output_type": "execute_result"
    }
   ],
   "source": [
    "# Assign vader scores in the original df\n",
    "# hotelDf = hotelDf.assign(vaderScore = vaderScores)\n",
    "# hotelDf.head()"
   ]
  },
  {
   "cell_type": "code",
   "execution_count": 35,
   "metadata": {},
   "outputs": [],
   "source": [
    "# hotelDf.to_csv('hotels_with_vader.csv', sep=';')"
   ]
  },
  {
   "cell_type": "code",
   "execution_count": 7,
   "metadata": {},
   "outputs": [
    {
     "ename": "NameError",
     "evalue": "name 'hotelDf' is not defined",
     "output_type": "error",
     "traceback": [
      "\u001b[0;31m---------------------------------------------------------------------------\u001b[0m",
      "\u001b[0;31mNameError\u001b[0m                                 Traceback (most recent call last)",
      "\u001b[0;32m<ipython-input-7-d26f688e42cd>\u001b[0m in \u001b[0;36m<module>\u001b[0;34m\u001b[0m\n\u001b[0;32m----> 1\u001b[0;31m \u001b[0mhotelDf\u001b[0m\u001b[0;34m.\u001b[0m\u001b[0mhead\u001b[0m\u001b[0;34m(\u001b[0m\u001b[0;36m5\u001b[0m\u001b[0;34m)\u001b[0m\u001b[0;34m\u001b[0m\u001b[0;34m\u001b[0m\u001b[0m\n\u001b[0m",
      "\u001b[0;31mNameError\u001b[0m: name 'hotelDf' is not defined"
     ]
    }
   ],
   "source": [
    "# hotelDf.head(5)"
   ]
  },
  {
   "cell_type": "markdown",
   "metadata": {},
   "source": [
    "## Can we learn something about the true ratings from Vader scores?\n",
    "In other words, can we build infer true review ratings by using vader score? and why even would we be intereted in that?\n",
    "\n",
    "Usually, we have many other options for the regression problem. *Linear Regression*, *Decision Tree* and etc.\n",
    "\n",
    "But using Vader analyzer is **simple and fast**. We can use it as an initial tool before building a heavy machine learning model to figure out the trend in the data."
   ]
  },
  {
   "cell_type": "markdown",
   "metadata": {},
   "source": [
    "#### Top 5 reviews hotel by *ratings*"
   ]
  },
  {
   "cell_type": "code",
   "execution_count": 4,
   "metadata": {},
   "outputs": [],
   "source": [
    "hotelDf = pd.read_csv('hotels_with_vader.csv', sep=';')"
   ]
  },
  {
   "cell_type": "code",
   "execution_count": 5,
   "metadata": {},
   "outputs": [],
   "source": [
    "ratingByHotel = hotelDf.groupby(['hotel_id']).mean()['rating'].reset_index()\n",
    "vaderByHotel = hotelDf.groupby(['hotel_id']).mean()['vaderScore'].reset_index()"
   ]
  },
  {
   "cell_type": "code",
   "execution_count": 6,
   "metadata": {},
   "outputs": [
    {
     "data": {
      "text/html": [
       "<div>\n",
       "<style scoped>\n",
       "    .dataframe tbody tr th:only-of-type {\n",
       "        vertical-align: middle;\n",
       "    }\n",
       "\n",
       "    .dataframe tbody tr th {\n",
       "        vertical-align: top;\n",
       "    }\n",
       "\n",
       "    .dataframe thead th {\n",
       "        text-align: right;\n",
       "    }\n",
       "</style>\n",
       "<table border=\"1\" class=\"dataframe\">\n",
       "  <thead>\n",
       "    <tr style=\"text-align: right;\">\n",
       "      <th></th>\n",
       "      <th>hotel_id</th>\n",
       "      <th>rating</th>\n",
       "    </tr>\n",
       "  </thead>\n",
       "  <tbody>\n",
       "    <tr>\n",
       "      <td>3985</td>\n",
       "      <td>;99766</td>\n",
       "      <td>5.0</td>\n",
       "    </tr>\n",
       "    <tr>\n",
       "      <td>2088</td>\n",
       "      <td>268217</td>\n",
       "      <td>5.0</td>\n",
       "    </tr>\n",
       "    <tr>\n",
       "      <td>1236</td>\n",
       "      <td>1643250</td>\n",
       "      <td>5.0</td>\n",
       "    </tr>\n",
       "    <tr>\n",
       "      <td>1316</td>\n",
       "      <td>1858908</td>\n",
       "      <td>5.0</td>\n",
       "    </tr>\n",
       "    <tr>\n",
       "      <td>1325</td>\n",
       "      <td>1872507</td>\n",
       "      <td>5.0</td>\n",
       "    </tr>\n",
       "    <tr>\n",
       "      <td>1333</td>\n",
       "      <td>1889985</td>\n",
       "      <td>5.0</td>\n",
       "    </tr>\n",
       "    <tr>\n",
       "      <td>1395</td>\n",
       "      <td>2160816</td>\n",
       "      <td>5.0</td>\n",
       "    </tr>\n",
       "    <tr>\n",
       "      <td>1606</td>\n",
       "      <td>223685</td>\n",
       "      <td>5.0</td>\n",
       "    </tr>\n",
       "    <tr>\n",
       "      <td>354</td>\n",
       "      <td>109075</td>\n",
       "      <td>5.0</td>\n",
       "    </tr>\n",
       "    <tr>\n",
       "      <td>1855</td>\n",
       "      <td>239848</td>\n",
       "      <td>5.0</td>\n",
       "    </tr>\n",
       "    <tr>\n",
       "      <td>1901</td>\n",
       "      <td>240457</td>\n",
       "      <td>5.0</td>\n",
       "    </tr>\n",
       "    <tr>\n",
       "      <td>2101</td>\n",
       "      <td>2712053</td>\n",
       "      <td>5.0</td>\n",
       "    </tr>\n",
       "    <tr>\n",
       "      <td>950</td>\n",
       "      <td>1225443</td>\n",
       "      <td>5.0</td>\n",
       "    </tr>\n",
       "    <tr>\n",
       "      <td>2194</td>\n",
       "      <td>288742</td>\n",
       "      <td>5.0</td>\n",
       "    </tr>\n",
       "    <tr>\n",
       "      <td>2246</td>\n",
       "      <td>3191802</td>\n",
       "      <td>5.0</td>\n",
       "    </tr>\n",
       "    <tr>\n",
       "      <td>2262</td>\n",
       "      <td>3337599</td>\n",
       "      <td>5.0</td>\n",
       "    </tr>\n",
       "    <tr>\n",
       "      <td>2266</td>\n",
       "      <td>3393901</td>\n",
       "      <td>5.0</td>\n",
       "    </tr>\n",
       "    <tr>\n",
       "      <td>2294</td>\n",
       "      <td>488773</td>\n",
       "      <td>5.0</td>\n",
       "    </tr>\n",
       "    <tr>\n",
       "      <td>2358</td>\n",
       "      <td>550891</td>\n",
       "      <td>5.0</td>\n",
       "    </tr>\n",
       "    <tr>\n",
       "      <td>2371</td>\n",
       "      <td>557401</td>\n",
       "      <td>5.0</td>\n",
       "    </tr>\n",
       "  </tbody>\n",
       "</table>\n",
       "</div>"
      ],
      "text/plain": [
       "     hotel_id  rating\n",
       "3985   ;99766     5.0\n",
       "2088   268217     5.0\n",
       "1236  1643250     5.0\n",
       "1316  1858908     5.0\n",
       "1325  1872507     5.0\n",
       "1333  1889985     5.0\n",
       "1395  2160816     5.0\n",
       "1606   223685     5.0\n",
       "354    109075     5.0\n",
       "1855   239848     5.0\n",
       "1901   240457     5.0\n",
       "2101  2712053     5.0\n",
       "950   1225443     5.0\n",
       "2194   288742     5.0\n",
       "2246  3191802     5.0\n",
       "2262  3337599     5.0\n",
       "2266  3393901     5.0\n",
       "2294   488773     5.0\n",
       "2358   550891     5.0\n",
       "2371   557401     5.0"
      ]
     },
     "execution_count": 6,
     "metadata": {},
     "output_type": "execute_result"
    }
   ],
   "source": [
    "ratingByHotel = ratingByHotel.sort_values('rating', ascending=False)\n",
    "ratingByHotel.head(20)"
   ]
  },
  {
   "cell_type": "markdown",
   "metadata": {},
   "source": [
    "#### Top 5 reviews hotel by *vader score*"
   ]
  },
  {
   "cell_type": "code",
   "execution_count": 7,
   "metadata": {},
   "outputs": [
    {
     "data": {
      "text/html": [
       "<div>\n",
       "<style scoped>\n",
       "    .dataframe tbody tr th:only-of-type {\n",
       "        vertical-align: middle;\n",
       "    }\n",
       "\n",
       "    .dataframe tbody tr th {\n",
       "        vertical-align: top;\n",
       "    }\n",
       "\n",
       "    .dataframe thead th {\n",
       "        text-align: right;\n",
       "    }\n",
       "</style>\n",
       "<table border=\"1\" class=\"dataframe\">\n",
       "  <thead>\n",
       "    <tr style=\"text-align: right;\">\n",
       "      <th></th>\n",
       "      <th>hotel_id</th>\n",
       "      <th>vaderScore</th>\n",
       "    </tr>\n",
       "  </thead>\n",
       "  <tbody>\n",
       "    <tr>\n",
       "      <td>2269</td>\n",
       "      <td>3405788</td>\n",
       "      <td>0.99760</td>\n",
       "    </tr>\n",
       "    <tr>\n",
       "      <td>2119</td>\n",
       "      <td>273366</td>\n",
       "      <td>0.99620</td>\n",
       "    </tr>\n",
       "    <tr>\n",
       "      <td>3964</td>\n",
       "      <td>;308189</td>\n",
       "      <td>0.99270</td>\n",
       "    </tr>\n",
       "    <tr>\n",
       "      <td>853</td>\n",
       "      <td>1206970</td>\n",
       "      <td>0.99230</td>\n",
       "    </tr>\n",
       "    <tr>\n",
       "      <td>3006</td>\n",
       "      <td>815515</td>\n",
       "      <td>0.99120</td>\n",
       "    </tr>\n",
       "    <tr>\n",
       "      <td>1130</td>\n",
       "      <td>1474749</td>\n",
       "      <td>0.98955</td>\n",
       "    </tr>\n",
       "    <tr>\n",
       "      <td>2596</td>\n",
       "      <td>662519</td>\n",
       "      <td>0.98920</td>\n",
       "    </tr>\n",
       "    <tr>\n",
       "      <td>2103</td>\n",
       "      <td>271481</td>\n",
       "      <td>0.98910</td>\n",
       "    </tr>\n",
       "    <tr>\n",
       "      <td>2527</td>\n",
       "      <td>631351</td>\n",
       "      <td>0.98480</td>\n",
       "    </tr>\n",
       "    <tr>\n",
       "      <td>1037</td>\n",
       "      <td>124066</td>\n",
       "      <td>0.98430</td>\n",
       "    </tr>\n",
       "    <tr>\n",
       "      <td>1855</td>\n",
       "      <td>239848</td>\n",
       "      <td>0.98140</td>\n",
       "    </tr>\n",
       "    <tr>\n",
       "      <td>2334</td>\n",
       "      <td>530265</td>\n",
       "      <td>0.98020</td>\n",
       "    </tr>\n",
       "    <tr>\n",
       "      <td>2088</td>\n",
       "      <td>268217</td>\n",
       "      <td>0.97940</td>\n",
       "    </tr>\n",
       "    <tr>\n",
       "      <td>3959</td>\n",
       "      <td>;224956</td>\n",
       "      <td>0.97900</td>\n",
       "    </tr>\n",
       "    <tr>\n",
       "      <td>2194</td>\n",
       "      <td>288742</td>\n",
       "      <td>0.97880</td>\n",
       "    </tr>\n",
       "    <tr>\n",
       "      <td>824</td>\n",
       "      <td>120141</td>\n",
       "      <td>0.97760</td>\n",
       "    </tr>\n",
       "    <tr>\n",
       "      <td>15</td>\n",
       "      <td>100535</td>\n",
       "      <td>0.97710</td>\n",
       "    </tr>\n",
       "    <tr>\n",
       "      <td>26</td>\n",
       "      <td>100556</td>\n",
       "      <td>0.97610</td>\n",
       "    </tr>\n",
       "    <tr>\n",
       "      <td>1333</td>\n",
       "      <td>1889985</td>\n",
       "      <td>0.97260</td>\n",
       "    </tr>\n",
       "    <tr>\n",
       "      <td>2393</td>\n",
       "      <td>570092</td>\n",
       "      <td>0.97200</td>\n",
       "    </tr>\n",
       "  </tbody>\n",
       "</table>\n",
       "</div>"
      ],
      "text/plain": [
       "     hotel_id  vaderScore\n",
       "2269  3405788     0.99760\n",
       "2119   273366     0.99620\n",
       "3964  ;308189     0.99270\n",
       "853   1206970     0.99230\n",
       "3006   815515     0.99120\n",
       "1130  1474749     0.98955\n",
       "2596   662519     0.98920\n",
       "2103   271481     0.98910\n",
       "2527   631351     0.98480\n",
       "1037   124066     0.98430\n",
       "1855   239848     0.98140\n",
       "2334   530265     0.98020\n",
       "2088   268217     0.97940\n",
       "3959  ;224956     0.97900\n",
       "2194   288742     0.97880\n",
       "824    120141     0.97760\n",
       "15     100535     0.97710\n",
       "26     100556     0.97610\n",
       "1333  1889985     0.97260\n",
       "2393   570092     0.97200"
      ]
     },
     "execution_count": 7,
     "metadata": {},
     "output_type": "execute_result"
    }
   ],
   "source": [
    "vaderByHotel = vaderByHotel.sort_values('vaderScore', ascending=False)\n",
    "vaderByHotel.head(20)"
   ]
  },
  {
   "cell_type": "markdown",
   "metadata": {},
   "source": [
    "### The two lists are very similar!\n",
    "Vader scores are highly correlated with the true rating scores."
   ]
  },
  {
   "cell_type": "markdown",
   "metadata": {},
   "source": [
    "## Which words were most sentiment-bearing in the reviews?\n",
    "#### To explore this question, we will calculate the following 3 factors.\n",
    "1. Word Frequency\n",
    "2. Mutual Information\n",
    "3. Pointwise Mutual Information (PMI)"
   ]
  },
  {
   "cell_type": "markdown",
   "metadata": {},
   "source": [
    "### 1. Word Frequency\n",
    "Can word frequency in review data tell us how the customers felt about the hotels?\n",
    "\n",
    "\n",
    "Let's get the most frequently observed words from the *positive reviews* and *negative reviews*, respectively, to see the difference, if any."
   ]
  },
  {
   "cell_type": "code",
   "execution_count": 15,
   "metadata": {},
   "outputs": [
    {
     "data": {
      "text/html": [
       "<div>\n",
       "<style scoped>\n",
       "    .dataframe tbody tr th:only-of-type {\n",
       "        vertical-align: middle;\n",
       "    }\n",
       "\n",
       "    .dataframe tbody tr th {\n",
       "        vertical-align: top;\n",
       "    }\n",
       "\n",
       "    .dataframe thead th {\n",
       "        text-align: right;\n",
       "    }\n",
       "</style>\n",
       "<table border=\"1\" class=\"dataframe\">\n",
       "  <thead>\n",
       "    <tr style=\"text-align: right;\">\n",
       "      <th></th>\n",
       "      <th>Unnamed: 0</th>\n",
       "      <th>idx</th>\n",
       "      <th>rev_id</th>\n",
       "      <th>rating</th>\n",
       "      <th>title</th>\n",
       "      <th>text</th>\n",
       "      <th>username</th>\n",
       "      <th>user_loc</th>\n",
       "      <th>hotel_id</th>\n",
       "      <th>date_stay</th>\n",
       "      <th>date_review</th>\n",
       "      <th>groundTruth</th>\n",
       "      <th>vaderScore</th>\n",
       "    </tr>\n",
       "  </thead>\n",
       "  <tbody>\n",
       "    <tr>\n",
       "      <td>0</td>\n",
       "      <td>0</td>\n",
       "      <td>0</td>\n",
       "      <td>147643103.0</td>\n",
       "      <td>5.0</td>\n",
       "      <td>“Truly is \"Jewel of the Upper Wets Side\"”</td>\n",
       "      <td>Stayed in a king suite for 11 nights and yes i...</td>\n",
       "      <td>Papa_Panda</td>\n",
       "      <td>Gold Coast</td>\n",
       "      <td>93338</td>\n",
       "      <td>December 2012</td>\n",
       "      <td>December 17, 2012</td>\n",
       "      <td>positive</td>\n",
       "      <td>0.9966</td>\n",
       "    </tr>\n",
       "    <tr>\n",
       "      <td>1</td>\n",
       "      <td>1</td>\n",
       "      <td>1</td>\n",
       "      <td>147639004.0</td>\n",
       "      <td>5.0</td>\n",
       "      <td>“My home away from home!”</td>\n",
       "      <td>On every visit to NYC, the Hotel Beacon is the...</td>\n",
       "      <td>Maureen V</td>\n",
       "      <td>Sydney, New South Wales, Australia</td>\n",
       "      <td>93338</td>\n",
       "      <td>December 2012</td>\n",
       "      <td>December 17, 2012</td>\n",
       "      <td>positive</td>\n",
       "      <td>0.9783</td>\n",
       "    </tr>\n",
       "    <tr>\n",
       "      <td>2</td>\n",
       "      <td>2</td>\n",
       "      <td>2</td>\n",
       "      <td>147697954.0</td>\n",
       "      <td>4.0</td>\n",
       "      <td>“Great Stay”</td>\n",
       "      <td>This is a great property in Midtown. We two di...</td>\n",
       "      <td>vuguru</td>\n",
       "      <td>Houston</td>\n",
       "      <td>1762573</td>\n",
       "      <td>December 2012</td>\n",
       "      <td>December 18, 2012</td>\n",
       "      <td>positive</td>\n",
       "      <td>0.9726</td>\n",
       "    </tr>\n",
       "    <tr>\n",
       "      <td>3</td>\n",
       "      <td>3</td>\n",
       "      <td>3</td>\n",
       "      <td>147625723.0</td>\n",
       "      <td>4.0</td>\n",
       "      <td>“Modern Convenience”</td>\n",
       "      <td>The Andaz is a nice hotel in a central locatio...</td>\n",
       "      <td>Hotel-Designer</td>\n",
       "      <td>Laguna Beach, CA</td>\n",
       "      <td>1762573</td>\n",
       "      <td>August 2012</td>\n",
       "      <td>December 17, 2012</td>\n",
       "      <td>positive</td>\n",
       "      <td>0.9570</td>\n",
       "    </tr>\n",
       "    <tr>\n",
       "      <td>4</td>\n",
       "      <td>4</td>\n",
       "      <td>4</td>\n",
       "      <td>147612823.0</td>\n",
       "      <td>4.0</td>\n",
       "      <td>“Its the best of the Andaz Brand in the US....”</td>\n",
       "      <td>I have stayed at each of the US Andaz properti...</td>\n",
       "      <td>JamesE339</td>\n",
       "      <td>Saint Louis, Missouri</td>\n",
       "      <td>1762573</td>\n",
       "      <td>December 2012</td>\n",
       "      <td>December 17, 2012</td>\n",
       "      <td>positive</td>\n",
       "      <td>0.9919</td>\n",
       "    </tr>\n",
       "  </tbody>\n",
       "</table>\n",
       "</div>"
      ],
      "text/plain": [
       "   Unnamed: 0  idx       rev_id  rating  \\\n",
       "0           0    0  147643103.0     5.0   \n",
       "1           1    1  147639004.0     5.0   \n",
       "2           2    2  147697954.0     4.0   \n",
       "3           3    3  147625723.0     4.0   \n",
       "4           4    4  147612823.0     4.0   \n",
       "\n",
       "                                             title  \\\n",
       "0        “Truly is \"Jewel of the Upper Wets Side\"”   \n",
       "1                        “My home away from home!”   \n",
       "2                                     “Great Stay”   \n",
       "3                             “Modern Convenience”   \n",
       "4  “Its the best of the Andaz Brand in the US....”   \n",
       "\n",
       "                                                text        username  \\\n",
       "0  Stayed in a king suite for 11 nights and yes i...      Papa_Panda   \n",
       "1  On every visit to NYC, the Hotel Beacon is the...       Maureen V   \n",
       "2  This is a great property in Midtown. We two di...          vuguru   \n",
       "3  The Andaz is a nice hotel in a central locatio...  Hotel-Designer   \n",
       "4  I have stayed at each of the US Andaz properti...       JamesE339   \n",
       "\n",
       "                             user_loc hotel_id      date_stay  \\\n",
       "0                          Gold Coast    93338  December 2012   \n",
       "1  Sydney, New South Wales, Australia    93338  December 2012   \n",
       "2                             Houston  1762573  December 2012   \n",
       "3                    Laguna Beach, CA  1762573    August 2012   \n",
       "4               Saint Louis, Missouri  1762573  December 2012   \n",
       "\n",
       "         date_review groundTruth  vaderScore  \n",
       "0  December 17, 2012    positive      0.9966  \n",
       "1  December 17, 2012    positive      0.9783  \n",
       "2  December 18, 2012    positive      0.9726  \n",
       "3  December 17, 2012    positive      0.9570  \n",
       "4  December 17, 2012    positive      0.9919  "
      ]
     },
     "execution_count": 15,
     "metadata": {},
     "output_type": "execute_result"
    }
   ],
   "source": [
    "hotelDf['text'] = hotelDf.apply(lambda row: '' if pd.isna(row['text']) is True else row['text'] , axis=1)\n",
    "hotelDf.head()"
   ]
  },
  {
   "cell_type": "code",
   "execution_count": 10,
   "metadata": {},
   "outputs": [],
   "source": [
    "def get_topk_ngram(df, ngram_range=(1,1), k=None, stopwords=True, with_count=False):\n",
    "    '''\n",
    "    k is for max features value\n",
    "    Extract the most frequently occurred words in countvector\n",
    "    the ngram range of (1,1) is unigram\n",
    "    (1,2) meana unigram and bigram\n",
    "    (2,2) means only bigrams \n",
    "    \n",
    "    max_features parameter in count vectorizer int or None, default=None\n",
    "    If not None, build a vocabulary that only consider the top max_features (((((ordered by term frequency across the corpus.)))))\n",
    "\n",
    "    This parameter is ignored if vocabulary is not None.\n",
    "    '''\n",
    "\n",
    "    my_stop_words = ENGLISH_STOP_WORDS\n",
    "    vectorizer = CountVectorizer(ngram_range=ngram_range, stop_words=my_stop_words, max_features=k)\n",
    "        \n",
    "#     def conv_string(x):\n",
    "#         if isinstance(x, str) == False:\n",
    "#             return ''\n",
    "#         else:\n",
    "#             return x\n",
    "        \n",
    "#     df['text'] = df['text'].apply(lambda x : conv_string(x))\n",
    "        \n",
    "    countvector = vectorizer.fit_transform(df['text'])\n",
    "\n",
    "    # Get topk occurred ngrams\n",
    "    topk_words = []\n",
    "    sortedindices = countvector.toarray().sum(axis=0).argsort()[::-1][:k]\n",
    "    counts = countvector.toarray().sum(axis=0)\n",
    "    print('processing...')\n",
    "    for i in sortedindices:\n",
    "        word = vectorizer.get_feature_names()[i]\n",
    "        \n",
    "        if with_count:\n",
    "            count = counts[i]\n",
    "            topk_words.append((word, count))\n",
    "        else:\n",
    "            topk_words.append(word)\n",
    "            \n",
    "    return topk_words"
   ]
  },
  {
   "cell_type": "markdown",
   "metadata": {},
   "source": [
    "#### Top 10 Words with High Frequency in *Positive* and *Negative* reviews."
   ]
  },
  {
   "cell_type": "code",
   "execution_count": 18,
   "metadata": {},
   "outputs": [
    {
     "name": "stdout",
     "output_type": "stream",
     "text": [
      "processing...\n",
      "\n",
      "The most frequently occured top 10 bigrams in negative reviews\n"
     ]
    }
   ],
   "source": [
    "# topkTotal = get_topk_ngram(hotelDf, k=100)\n",
    "# print('complete topTotal')\n",
    "# topkTotal_bigram = get_topk_ngram(hotelDf, ngram_range=(2,2), k=100)\n",
    "# print('complete topToal)\n",
    "# topkPos = get_topk_ngram(hotelDf.loc[hotelDf['groundTruth']=='positive'], ngram_range=(1,1), k=200, with_count=True)\n",
    "# print('first finished')\n",
    "# topkNeg = get_topk_ngram(hotelDf.loc[hotelDf['groundTruth']=='negative'], ngram_range=(1,1), k=200, with_count=True)\n",
    "# print('second finished')\n",
    "# topkPos_bigram = get_topk_ngram(hotelDf.loc[hotelDf['groundTruth']=='positive'], ngram_range=(2,2), k=200, with_count=True)\n",
    "# print('third finished')\n",
    "# topkNeg_bigram = get_topk_ngram(hotelDf.loc[hotelDf['groundTruth']=='negative'], ngram_range=(2,2), k=200, with_count=True)\n",
    "\n",
    "# print(\"The most frequently occured top 10 words in positive reviews\")\n",
    "# top_pos = pd.DataFrame(topkPos, columns=['Word', 'Count'])\n",
    "# top_pos.to_csv('top_pos.csv', sep = '\\t')\n",
    "# print(\"\\nThe most frequently occured top 10 words in negative reviews\")\n",
    "# top_neg = pd.DataFrame(topkNeg, columns=['Word', 'Count'])\n",
    "# top_neg.to_csv('top_neg.csv', sep = '\\t')\n",
    "# print(\"\\nThe most frequently occured top 10 bigrams in positive reviews\")\n",
    "# top_pos_bi = pd.DataFrame(topkPos_bigram, columns=['Word', 'Count'])\n",
    "# top_pos_bi.to_csv('top_pos_bi.csv', sep = '\\t')\n",
    "# print(\"\\nThe most frequently occured top 10 bigrams in negative reviews\")\n",
    "# top_neg_bi = pd.DataFrame(topkNeg_bigram, columns=['Word', 'Count'])\n",
    "# top_neg_bi.to_csv('top_neg_bi.csv', sep = '\\t')"
   ]
  },
  {
   "cell_type": "markdown",
   "metadata": {},
   "source": [
    "### Uh.. almost same?\n",
    "It seems like the term frequency doesn't tell us anything about the text. We can observe that there is no difference between the top-k word list for both positive reviews and negative reviews.\n",
    "\n",
    "If we think about it, this result seems obvious. If a customer was really satistied with the staff in the hotel, they would mention the word, 'staff', in their review. Even if a customer didn't like the staff working in the hotel, they also would mention the word, 'staff', in their review (with some bad words)."
   ]
  },
  {
   "cell_type": "markdown",
   "metadata": {},
   "source": [
    "### 2. Mutual Information"
   ]
  },
  {
   "cell_type": "markdown",
   "metadata": {},
   "source": [
    "**Mutual information tells you how much you learn about X from knowing the value of Y (on average over the choice of Y).** \n",
    "\n",
    "\n",
    "Since we found the word frequency is not a good indicator for the sentiment analysis, we will examine *mutual information*  for an alternative metric.\n",
    "\n",
    "http://scikit-learn.org/stable/modules/generated/sklearn.metrics.mutual_info_score.html"
   ]
  },
  {
   "cell_type": "code",
   "execution_count": 19,
   "metadata": {},
   "outputs": [],
   "source": [
    "# positive = 1 / negative = 0\n",
    "gtScore = []\n",
    "for i in range(len(hotelDf)):\n",
    "    if hotelDf['groundTruth'][i] == 'positive':\n",
    "        gtScore.append(1)\n",
    "    else:\n",
    "        gtScore.append(0)"
   ]
  },
  {
   "cell_type": "code",
   "execution_count": null,
   "metadata": {},
   "outputs": [],
   "source": []
  },
  {
   "cell_type": "code",
   "execution_count": 20,
   "metadata": {},
   "outputs": [],
   "source": [
    "# max feature was 500 i had to ake it 100 because of RAM issues"
   ]
  },
  {
   "cell_type": "code",
   "execution_count": null,
   "metadata": {},
   "outputs": [],
   "source": []
  },
  {
   "cell_type": "code",
   "execution_count": 21,
   "metadata": {},
   "outputs": [],
   "source": [
    "# let's calculate Mutual Information for unigrams and bigrams\n",
    "vectorizer = CountVectorizer(ngram_range=(1,1), stop_words='english', max_features=100)\n",
    "countvector = vectorizer.fit_transform(hotelDf['text'])\n",
    "densevector = np.array(countvector.todense())\n",
    "    \n",
    "# miScore_unigram = pd.DataFrame(data = {'word': vectorizer.get_feature_names(),\n",
    "#              'MI Score': [mutual_info_score(gtScore, densevector[:,i].squeeze()) for i in range(500)]})\n",
    "\n",
    "miScore_unigram = pd.DataFrame(data =\n",
    "                               {'MI Score': [mutual_info_score(gtScore, densevector[:,i].squeeze()) for i in range(100)]}\n",
    "                              , index = vectorizer.get_feature_names())\n",
    "\n"
   ]
  },
  {
   "cell_type": "code",
   "execution_count": 22,
   "metadata": {},
   "outputs": [
    {
     "ename": "MemoryError",
     "evalue": "",
     "output_type": "error",
     "traceback": [
      "\u001b[0;31m---------------------------------------------------------------------------\u001b[0m",
      "\u001b[0;31mMemoryError\u001b[0m                               Traceback (most recent call last)",
      "\u001b[0;32m<ipython-input-22-10583d5425ee>\u001b[0m in \u001b[0;36m<module>\u001b[0;34m\u001b[0m\n\u001b[1;32m      1\u001b[0m \u001b[0;31m# Bigram version\u001b[0m\u001b[0;34m\u001b[0m\u001b[0;34m\u001b[0m\u001b[0;34m\u001b[0m\u001b[0m\n\u001b[1;32m      2\u001b[0m \u001b[0mvectorizer\u001b[0m \u001b[0;34m=\u001b[0m \u001b[0mCountVectorizer\u001b[0m\u001b[0;34m(\u001b[0m\u001b[0mngram_range\u001b[0m\u001b[0;34m=\u001b[0m\u001b[0;34m(\u001b[0m\u001b[0;36m2\u001b[0m\u001b[0;34m,\u001b[0m\u001b[0;36m2\u001b[0m\u001b[0;34m)\u001b[0m\u001b[0;34m,\u001b[0m \u001b[0mstop_words\u001b[0m\u001b[0;34m=\u001b[0m\u001b[0;34m'english'\u001b[0m\u001b[0;34m,\u001b[0m \u001b[0mmax_features\u001b[0m\u001b[0;34m=\u001b[0m\u001b[0;36m100\u001b[0m\u001b[0;34m)\u001b[0m\u001b[0;34m\u001b[0m\u001b[0;34m\u001b[0m\u001b[0m\n\u001b[0;32m----> 3\u001b[0;31m \u001b[0mcountvector\u001b[0m \u001b[0;34m=\u001b[0m \u001b[0mvectorizer\u001b[0m\u001b[0;34m.\u001b[0m\u001b[0mfit_transform\u001b[0m\u001b[0;34m(\u001b[0m\u001b[0mhotelDf\u001b[0m\u001b[0;34m[\u001b[0m\u001b[0;34m'text'\u001b[0m\u001b[0;34m]\u001b[0m\u001b[0;34m)\u001b[0m\u001b[0;34m\u001b[0m\u001b[0;34m\u001b[0m\u001b[0m\n\u001b[0m\u001b[1;32m      4\u001b[0m \u001b[0mdensevector\u001b[0m \u001b[0;34m=\u001b[0m \u001b[0mnp\u001b[0m\u001b[0;34m.\u001b[0m\u001b[0marray\u001b[0m\u001b[0;34m(\u001b[0m\u001b[0mcountvector\u001b[0m\u001b[0;34m.\u001b[0m\u001b[0mtodense\u001b[0m\u001b[0;34m(\u001b[0m\u001b[0;34m)\u001b[0m\u001b[0;34m)\u001b[0m\u001b[0;34m\u001b[0m\u001b[0;34m\u001b[0m\u001b[0m\n\u001b[1;32m      5\u001b[0m miScore_bigram = pd.DataFrame(data =\n",
      "\u001b[0;32m~/.anaconda3/lib/python3.7/site-packages/sklearn/feature_extraction/text.py\u001b[0m in \u001b[0;36mfit_transform\u001b[0;34m(self, raw_documents, y)\u001b[0m\n\u001b[1;32m   1051\u001b[0m                                                        \u001b[0mmax_doc_count\u001b[0m\u001b[0;34m,\u001b[0m\u001b[0;34m\u001b[0m\u001b[0;34m\u001b[0m\u001b[0m\n\u001b[1;32m   1052\u001b[0m                                                        \u001b[0mmin_doc_count\u001b[0m\u001b[0;34m,\u001b[0m\u001b[0;34m\u001b[0m\u001b[0;34m\u001b[0m\u001b[0m\n\u001b[0;32m-> 1053\u001b[0;31m                                                        max_features)\n\u001b[0m\u001b[1;32m   1054\u001b[0m \u001b[0;34m\u001b[0m\u001b[0m\n\u001b[1;32m   1055\u001b[0m             \u001b[0mself\u001b[0m\u001b[0;34m.\u001b[0m\u001b[0mvocabulary_\u001b[0m \u001b[0;34m=\u001b[0m \u001b[0mvocabulary\u001b[0m\u001b[0;34m\u001b[0m\u001b[0;34m\u001b[0m\u001b[0m\n",
      "\u001b[0;32m~/.anaconda3/lib/python3.7/site-packages/sklearn/feature_extraction/text.py\u001b[0m in \u001b[0;36m_limit_features\u001b[0;34m(self, X, vocabulary, high, low, limit)\u001b[0m\n\u001b[1;32m    915\u001b[0m             \u001b[0;32melse\u001b[0m\u001b[0;34m:\u001b[0m\u001b[0;34m\u001b[0m\u001b[0;34m\u001b[0m\u001b[0m\n\u001b[1;32m    916\u001b[0m                 \u001b[0;32mdel\u001b[0m \u001b[0mvocabulary\u001b[0m\u001b[0;34m[\u001b[0m\u001b[0mterm\u001b[0m\u001b[0;34m]\u001b[0m\u001b[0;34m\u001b[0m\u001b[0;34m\u001b[0m\u001b[0m\n\u001b[0;32m--> 917\u001b[0;31m                 \u001b[0mremoved_terms\u001b[0m\u001b[0;34m.\u001b[0m\u001b[0madd\u001b[0m\u001b[0;34m(\u001b[0m\u001b[0mterm\u001b[0m\u001b[0;34m)\u001b[0m\u001b[0;34m\u001b[0m\u001b[0;34m\u001b[0m\u001b[0m\n\u001b[0m\u001b[1;32m    918\u001b[0m         \u001b[0mkept_indices\u001b[0m \u001b[0;34m=\u001b[0m \u001b[0mnp\u001b[0m\u001b[0;34m.\u001b[0m\u001b[0mwhere\u001b[0m\u001b[0;34m(\u001b[0m\u001b[0mmask\u001b[0m\u001b[0;34m)\u001b[0m\u001b[0;34m[\u001b[0m\u001b[0;36m0\u001b[0m\u001b[0;34m]\u001b[0m\u001b[0;34m\u001b[0m\u001b[0;34m\u001b[0m\u001b[0m\n\u001b[1;32m    919\u001b[0m         \u001b[0;32mif\u001b[0m \u001b[0mlen\u001b[0m\u001b[0;34m(\u001b[0m\u001b[0mkept_indices\u001b[0m\u001b[0;34m)\u001b[0m \u001b[0;34m==\u001b[0m \u001b[0;36m0\u001b[0m\u001b[0;34m:\u001b[0m\u001b[0;34m\u001b[0m\u001b[0;34m\u001b[0m\u001b[0m\n",
      "\u001b[0;31mMemoryError\u001b[0m: "
     ]
    }
   ],
   "source": [
    "# Bigram version\n",
    "vectorizer = CountVectorizer(ngram_range=(2,2), stop_words='english', max_features=100)\n",
    "countvector = vectorizer.fit_transform(hotelDf['text'])\n",
    "densevector = np.array(countvector.todense())\n",
    "miScore_bigram = pd.DataFrame(data =\n",
    "                    {'MI Score': [mutual_info_score(gtScore, densevector[:,i].squeeze()) for i in range(100)]},\n",
    "                    index = vectorizer.get_feature_names())\n",
    "miScore_bigram.sort_values('MI Score', inplace = True, ascending = False)\n",
    "miScore_bigram.to_csv('miScorebi.csv', sep = '\\t')"
   ]
  },
  {
   "cell_type": "code",
   "execution_count": null,
   "metadata": {},
   "outputs": [],
   "source": [
    "miScore_unigram.sort_values('MI Score', inplace=True, ascending=False)\n",
    "print('Mutual Information - Unigram')\n",
    "miScore_unigram.head(10)"
   ]
  },
  {
   "cell_type": "code",
   "execution_count": null,
   "metadata": {},
   "outputs": [],
   "source": [
    "miScore_bigram.sort_values('MI Score', inplace=True, ascending=False)\n",
    "print('Mutual Information - Bigram')\n",
    "miScore_bigram.head(10)"
   ]
  },
  {
   "cell_type": "markdown",
   "metadata": {},
   "source": [
    "### What does it mean?\n",
    "If we observe words having high Mutual Information scores in a review, we would learn a lot about the sentiment of review, (positive or negative)."
   ]
  },
  {
   "cell_type": "markdown",
   "metadata": {},
   "source": [
    "###  3. Pointwise Mutual Information"
   ]
  },
  {
   "cell_type": "markdown",
   "metadata": {},
   "source": [
    "Similar to MI, PMI is measuring for single event where MI is the average of all possible event.\n",
    "\n",
    "The events P(x,y) = P(0,1) means the event of the review is negative but the specific word is existing in that review"
   ]
  },
  {
   "cell_type": "markdown",
   "metadata": {},
   "source": [
    "#### Let's see how Pointwise Mutual Information calculated. The PMI of a pair of outcomes x and y belonging to discrete random variables X and Y quantifies the discrepancy between the probability of their coincidence given their joint distribution and their individual distributions, assuming independence.\n",
    "#### To study more about Pointwise Mutual Information, see [Wikipedia](https://en.wikipedia.org/wiki/Pointwise_mutual_information) "
   ]
  },
  {
   "cell_type": "markdown",
   "metadata": {},
   "source": [
    "![image](https://wikimedia.org/api/rest_v1/media/math/render/svg/ff54cfce726857db855d4dd0a9dee2c6a5e7be99)"
   ]
  },
  {
   "cell_type": "code",
   "execution_count": 25,
   "metadata": {},
   "outputs": [],
   "source": [
    "def getPMI_ngram(df, gt, uni_bi, ngram_range=(1,1), max_features=500):\n",
    "    vectorizer = CountVectorizer(ngram_range=ngram_range, stop_words='english', max_features=max_features)\n",
    "    countvector = vectorizer.fit_transform(hotelDf['text'])\n",
    "    densevector = np.array(countvector.todense())\n",
    "    \n",
    "    px = sum(df['groundTruth'] == gt) / len(df)\n",
    "    pmis = []\n",
    "    \n",
    "    for i in range(max_features):\n",
    "        py = sum(densevector[:,i] == 1) / len(df)\n",
    "        pxy = len(df[(df['groundTruth'] == gt) & (densevector[:,i] == 1)]) / len(df)\n",
    "        \n",
    "        if pxy == 0:\n",
    "            pmi = math.log10((pxy + 0.0001) / (px * py))\n",
    "        else:\n",
    "            pmi = math.log10(pxy / (px * py))\n",
    "            \n",
    "        pmis.append(pmi)\n",
    "        \n",
    "    pmis = pd.DataFrame(data = {'pmi' + gt: pmis}, index = vectorizer.get_feature_names())\n",
    "    pmis.to_csv(gt+'_'+uni_bi, sep = ';')\n",
    "    return pmis.sort_values('pmi' + gt, ascending=False)"
   ]
  },
  {
   "cell_type": "markdown",
   "metadata": {},
   "source": [
    "From the table above, we can see the word, 'dirty', has negatively correlated with 'positive' label because the pmi value for 'positive' label is the smallest value (-0.69) among the four values."
   ]
  },
  {
   "cell_type": "code",
   "execution_count": 26,
   "metadata": {},
   "outputs": [
    {
     "ename": "MemoryError",
     "evalue": "",
     "output_type": "error",
     "traceback": [
      "\u001b[0;31m---------------------------------------------------------------------------\u001b[0m",
      "\u001b[0;31mMemoryError\u001b[0m                               Traceback (most recent call last)",
      "\u001b[0;32m<ipython-input-26-8415f4411fa4>\u001b[0m in \u001b[0;36m<module>\u001b[0;34m\u001b[0m\n\u001b[0;32m----> 1\u001b[0;31m \u001b[0mpmiPos_unigram\u001b[0m \u001b[0;34m=\u001b[0m \u001b[0mgetPMI_ngram\u001b[0m\u001b[0;34m(\u001b[0m\u001b[0mhotelDf\u001b[0m\u001b[0;34m,\u001b[0m \u001b[0;34m'positive'\u001b[0m\u001b[0;34m,\u001b[0m \u001b[0;34m'unigrams'\u001b[0m\u001b[0;34m)\u001b[0m\u001b[0;34m\u001b[0m\u001b[0;34m\u001b[0m\u001b[0m\n\u001b[0m",
      "\u001b[0;32m<ipython-input-25-95cce5e8556e>\u001b[0m in \u001b[0;36mgetPMI_ngram\u001b[0;34m(df, gt, uni_bi, ngram_range, max_features)\u001b[0m\n\u001b[1;32m      1\u001b[0m \u001b[0;32mdef\u001b[0m \u001b[0mgetPMI_ngram\u001b[0m\u001b[0;34m(\u001b[0m\u001b[0mdf\u001b[0m\u001b[0;34m,\u001b[0m \u001b[0mgt\u001b[0m\u001b[0;34m,\u001b[0m \u001b[0muni_bi\u001b[0m\u001b[0;34m,\u001b[0m \u001b[0mngram_range\u001b[0m\u001b[0;34m=\u001b[0m\u001b[0;34m(\u001b[0m\u001b[0;36m1\u001b[0m\u001b[0;34m,\u001b[0m\u001b[0;36m1\u001b[0m\u001b[0;34m)\u001b[0m\u001b[0;34m,\u001b[0m \u001b[0mmax_features\u001b[0m\u001b[0;34m=\u001b[0m\u001b[0;36m500\u001b[0m\u001b[0;34m)\u001b[0m\u001b[0;34m:\u001b[0m\u001b[0;34m\u001b[0m\u001b[0;34m\u001b[0m\u001b[0m\n\u001b[1;32m      2\u001b[0m     \u001b[0mvectorizer\u001b[0m \u001b[0;34m=\u001b[0m \u001b[0mCountVectorizer\u001b[0m\u001b[0;34m(\u001b[0m\u001b[0mngram_range\u001b[0m\u001b[0;34m=\u001b[0m\u001b[0mngram_range\u001b[0m\u001b[0;34m,\u001b[0m \u001b[0mstop_words\u001b[0m\u001b[0;34m=\u001b[0m\u001b[0;34m'english'\u001b[0m\u001b[0;34m,\u001b[0m \u001b[0mmax_features\u001b[0m\u001b[0;34m=\u001b[0m\u001b[0mmax_features\u001b[0m\u001b[0;34m)\u001b[0m\u001b[0;34m\u001b[0m\u001b[0;34m\u001b[0m\u001b[0m\n\u001b[0;32m----> 3\u001b[0;31m     \u001b[0mcountvector\u001b[0m \u001b[0;34m=\u001b[0m \u001b[0mvectorizer\u001b[0m\u001b[0;34m.\u001b[0m\u001b[0mfit_transform\u001b[0m\u001b[0;34m(\u001b[0m\u001b[0mhotelDf\u001b[0m\u001b[0;34m[\u001b[0m\u001b[0;34m'text'\u001b[0m\u001b[0;34m]\u001b[0m\u001b[0;34m)\u001b[0m\u001b[0;34m\u001b[0m\u001b[0;34m\u001b[0m\u001b[0m\n\u001b[0m\u001b[1;32m      4\u001b[0m     \u001b[0mdensevector\u001b[0m \u001b[0;34m=\u001b[0m \u001b[0mnp\u001b[0m\u001b[0;34m.\u001b[0m\u001b[0marray\u001b[0m\u001b[0;34m(\u001b[0m\u001b[0mcountvector\u001b[0m\u001b[0;34m.\u001b[0m\u001b[0mtodense\u001b[0m\u001b[0;34m(\u001b[0m\u001b[0;34m)\u001b[0m\u001b[0;34m)\u001b[0m\u001b[0;34m\u001b[0m\u001b[0;34m\u001b[0m\u001b[0m\n\u001b[1;32m      5\u001b[0m \u001b[0;34m\u001b[0m\u001b[0m\n",
      "\u001b[0;32m~/.anaconda3/lib/python3.7/site-packages/sklearn/feature_extraction/text.py\u001b[0m in \u001b[0;36mfit_transform\u001b[0;34m(self, raw_documents, y)\u001b[0m\n\u001b[1;32m   1036\u001b[0m \u001b[0;34m\u001b[0m\u001b[0m\n\u001b[1;32m   1037\u001b[0m         \u001b[0;32mif\u001b[0m \u001b[0;32mnot\u001b[0m \u001b[0mself\u001b[0m\u001b[0;34m.\u001b[0m\u001b[0mfixed_vocabulary_\u001b[0m\u001b[0;34m:\u001b[0m\u001b[0;34m\u001b[0m\u001b[0;34m\u001b[0m\u001b[0m\n\u001b[0;32m-> 1038\u001b[0;31m             \u001b[0mX\u001b[0m \u001b[0;34m=\u001b[0m \u001b[0mself\u001b[0m\u001b[0;34m.\u001b[0m\u001b[0m_sort_features\u001b[0m\u001b[0;34m(\u001b[0m\u001b[0mX\u001b[0m\u001b[0;34m,\u001b[0m \u001b[0mvocabulary\u001b[0m\u001b[0;34m)\u001b[0m\u001b[0;34m\u001b[0m\u001b[0;34m\u001b[0m\u001b[0m\n\u001b[0m\u001b[1;32m   1039\u001b[0m \u001b[0;34m\u001b[0m\u001b[0m\n\u001b[1;32m   1040\u001b[0m             \u001b[0mn_doc\u001b[0m \u001b[0;34m=\u001b[0m \u001b[0mX\u001b[0m\u001b[0;34m.\u001b[0m\u001b[0mshape\u001b[0m\u001b[0;34m[\u001b[0m\u001b[0;36m0\u001b[0m\u001b[0;34m]\u001b[0m\u001b[0;34m\u001b[0m\u001b[0;34m\u001b[0m\u001b[0m\n",
      "\u001b[0;32m~/.anaconda3/lib/python3.7/site-packages/sklearn/feature_extraction/text.py\u001b[0m in \u001b[0;36m_sort_features\u001b[0;34m(self, X, vocabulary)\u001b[0m\n\u001b[1;32m    878\u001b[0m             \u001b[0mmap_index\u001b[0m\u001b[0;34m[\u001b[0m\u001b[0mold_val\u001b[0m\u001b[0;34m]\u001b[0m \u001b[0;34m=\u001b[0m \u001b[0mnew_val\u001b[0m\u001b[0;34m\u001b[0m\u001b[0;34m\u001b[0m\u001b[0m\n\u001b[1;32m    879\u001b[0m \u001b[0;34m\u001b[0m\u001b[0m\n\u001b[0;32m--> 880\u001b[0;31m         \u001b[0mX\u001b[0m\u001b[0;34m.\u001b[0m\u001b[0mindices\u001b[0m \u001b[0;34m=\u001b[0m \u001b[0mmap_index\u001b[0m\u001b[0;34m.\u001b[0m\u001b[0mtake\u001b[0m\u001b[0;34m(\u001b[0m\u001b[0mX\u001b[0m\u001b[0;34m.\u001b[0m\u001b[0mindices\u001b[0m\u001b[0;34m,\u001b[0m \u001b[0mmode\u001b[0m\u001b[0;34m=\u001b[0m\u001b[0;34m'clip'\u001b[0m\u001b[0;34m)\u001b[0m\u001b[0;34m\u001b[0m\u001b[0;34m\u001b[0m\u001b[0m\n\u001b[0m\u001b[1;32m    881\u001b[0m         \u001b[0;32mreturn\u001b[0m \u001b[0mX\u001b[0m\u001b[0;34m\u001b[0m\u001b[0;34m\u001b[0m\u001b[0m\n\u001b[1;32m    882\u001b[0m \u001b[0;34m\u001b[0m\u001b[0m\n",
      "\u001b[0;31mMemoryError\u001b[0m: "
     ]
    }
   ],
   "source": [
    "pmiPos_unigram = getPMI_ngram(hotelDf, 'positive', 'unigrams')"
   ]
  },
  {
   "cell_type": "code",
   "execution_count": null,
   "metadata": {},
   "outputs": [],
   "source": [
    "pmiNeg_unigram = getPMI_ngram(hotelDf, 'negative', 'unigrams')"
   ]
  },
  {
   "cell_type": "code",
   "execution_count": null,
   "metadata": {},
   "outputs": [],
   "source": [
    "pmiPos_bigram = getPMI_ngram(hotelDf, 'positive', 'bigrams', ngram_range=(2,2))"
   ]
  },
  {
   "cell_type": "code",
   "execution_count": null,
   "metadata": {},
   "outputs": [],
   "source": [
    "pmiNeg_bigram = getPMI_ngram(hotelDf, 'negative', 'bigrams', ngram_range=(2,2))"
   ]
  },
  {
   "cell_type": "markdown",
   "metadata": {},
   "source": [
    "### Let's see what PMI values tell us about the reviews"
   ]
  },
  {
   "cell_type": "code",
   "execution_count": 23,
   "metadata": {},
   "outputs": [
    {
     "name": "stdout",
     "output_type": "stream",
     "text": [
      "PMI for positive reviews - Unigram\n"
     ]
    },
    {
     "data": {
      "text/html": [
       "<div>\n",
       "<style>\n",
       "    .dataframe thead tr:only-child th {\n",
       "        text-align: right;\n",
       "    }\n",
       "\n",
       "    .dataframe thead th {\n",
       "        text-align: left;\n",
       "    }\n",
       "\n",
       "    .dataframe tbody tr th {\n",
       "        vertical-align: top;\n",
       "    }\n",
       "</style>\n",
       "<table border=\"1\" class=\"dataframe\">\n",
       "  <thead>\n",
       "    <tr style=\"text-align: right;\">\n",
       "      <th></th>\n",
       "      <th>pmipositive</th>\n",
       "    </tr>\n",
       "  </thead>\n",
       "  <tbody>\n",
       "    <tr>\n",
       "      <th>highly</th>\n",
       "      <td>0.144365</td>\n",
       "    </tr>\n",
       "    <tr>\n",
       "      <th>delicious</th>\n",
       "      <td>0.128718</td>\n",
       "    </tr>\n",
       "    <tr>\n",
       "      <th>excellent</th>\n",
       "      <td>0.123130</td>\n",
       "    </tr>\n",
       "    <tr>\n",
       "      <th>thanks</th>\n",
       "      <td>0.122366</td>\n",
       "    </tr>\n",
       "    <tr>\n",
       "      <th>courteous</th>\n",
       "      <td>0.121178</td>\n",
       "    </tr>\n",
       "    <tr>\n",
       "      <th>awesome</th>\n",
       "      <td>0.121066</td>\n",
       "    </tr>\n",
       "    <tr>\n",
       "      <th>efficient</th>\n",
       "      <td>0.119493</td>\n",
       "    </tr>\n",
       "    <tr>\n",
       "      <th>fantastic</th>\n",
       "      <td>0.118174</td>\n",
       "    </tr>\n",
       "    <tr>\n",
       "      <th>hampton</th>\n",
       "      <td>0.117840</td>\n",
       "    </tr>\n",
       "    <tr>\n",
       "      <th>relaxing</th>\n",
       "      <td>0.116927</td>\n",
       "    </tr>\n",
       "  </tbody>\n",
       "</table>\n",
       "</div>"
      ],
      "text/plain": [
       "           pmipositive\n",
       "highly        0.144365\n",
       "delicious     0.128718\n",
       "excellent     0.123130\n",
       "thanks        0.122366\n",
       "courteous     0.121178\n",
       "awesome       0.121066\n",
       "efficient     0.119493\n",
       "fantastic     0.118174\n",
       "hampton       0.117840\n",
       "relaxing      0.116927"
      ]
     },
     "execution_count": 23,
     "metadata": {},
     "output_type": "execute_result"
    }
   ],
   "source": [
    "print('PMI for positive reviews - Unigram')\n",
    "pmiPos_unigram.head(10)"
   ]
  },
  {
   "cell_type": "code",
   "execution_count": 24,
   "metadata": {},
   "outputs": [
    {
     "name": "stdout",
     "output_type": "stream",
     "text": [
      "PMI for positive reviews - Bigram\n"
     ]
    },
    {
     "data": {
      "text/html": [
       "<div>\n",
       "<style>\n",
       "    .dataframe thead tr:only-child th {\n",
       "        text-align: right;\n",
       "    }\n",
       "\n",
       "    .dataframe thead th {\n",
       "        text-align: left;\n",
       "    }\n",
       "\n",
       "    .dataframe tbody tr th {\n",
       "        vertical-align: top;\n",
       "    }\n",
       "</style>\n",
       "<table border=\"1\" class=\"dataframe\">\n",
       "  <thead>\n",
       "    <tr style=\"text-align: right;\">\n",
       "      <th></th>\n",
       "      <th>pmipositive</th>\n",
       "    </tr>\n",
       "  </thead>\n",
       "  <tbody>\n",
       "    <tr>\n",
       "      <th>definitely return</th>\n",
       "      <td>0.166145</td>\n",
       "    </tr>\n",
       "    <tr>\n",
       "      <th>highly recommended</th>\n",
       "      <td>0.166145</td>\n",
       "    </tr>\n",
       "    <tr>\n",
       "      <th>best hotel</th>\n",
       "      <td>0.166145</td>\n",
       "    </tr>\n",
       "    <tr>\n",
       "      <th>definitely stay</th>\n",
       "      <td>0.162684</td>\n",
       "    </tr>\n",
       "    <tr>\n",
       "      <th>definitely recommend</th>\n",
       "      <td>0.160071</td>\n",
       "    </tr>\n",
       "    <tr>\n",
       "      <th>highly recommend</th>\n",
       "      <td>0.155763</td>\n",
       "    </tr>\n",
       "    <tr>\n",
       "      <th>stayed super</th>\n",
       "      <td>0.152781</td>\n",
       "    </tr>\n",
       "    <tr>\n",
       "      <th>excellent service</th>\n",
       "      <td>0.152357</td>\n",
       "    </tr>\n",
       "    <tr>\n",
       "      <th>clean great</th>\n",
       "      <td>0.151422</td>\n",
       "    </tr>\n",
       "    <tr>\n",
       "      <th>stay super</th>\n",
       "      <td>0.150905</td>\n",
       "    </tr>\n",
       "  </tbody>\n",
       "</table>\n",
       "</div>"
      ],
      "text/plain": [
       "                      pmipositive\n",
       "definitely return        0.166145\n",
       "highly recommended       0.166145\n",
       "best hotel               0.166145\n",
       "definitely stay          0.162684\n",
       "definitely recommend     0.160071\n",
       "highly recommend         0.155763\n",
       "stayed super             0.152781\n",
       "excellent service        0.152357\n",
       "clean great              0.151422\n",
       "stay super               0.150905"
      ]
     },
     "execution_count": 24,
     "metadata": {},
     "output_type": "execute_result"
    }
   ],
   "source": [
    "print('PMI for positive reviews - Bigram')\n",
    "pmiPos_bigram.head(10)"
   ]
  },
  {
   "cell_type": "code",
   "execution_count": 25,
   "metadata": {},
   "outputs": [
    {
     "name": "stdout",
     "output_type": "stream",
     "text": [
      "PMI for negative reviews - Unigram\n"
     ]
    },
    {
     "data": {
      "text/html": [
       "<div>\n",
       "<style>\n",
       "    .dataframe thead tr:only-child th {\n",
       "        text-align: right;\n",
       "    }\n",
       "\n",
       "    .dataframe thead th {\n",
       "        text-align: left;\n",
       "    }\n",
       "\n",
       "    .dataframe tbody tr th {\n",
       "        vertical-align: top;\n",
       "    }\n",
       "</style>\n",
       "<table border=\"1\" class=\"dataframe\">\n",
       "  <thead>\n",
       "    <tr style=\"text-align: right;\">\n",
       "      <th></th>\n",
       "      <th>pminegative</th>\n",
       "    </tr>\n",
       "  </thead>\n",
       "  <tbody>\n",
       "    <tr>\n",
       "      <th>dirty</th>\n",
       "      <td>0.420243</td>\n",
       "    </tr>\n",
       "    <tr>\n",
       "      <th>poor</th>\n",
       "      <td>0.412481</td>\n",
       "    </tr>\n",
       "    <tr>\n",
       "      <th>rude</th>\n",
       "      <td>0.398191</td>\n",
       "    </tr>\n",
       "    <tr>\n",
       "      <th>terrible</th>\n",
       "      <td>0.387419</td>\n",
       "    </tr>\n",
       "    <tr>\n",
       "      <th>smoke</th>\n",
       "      <td>0.384685</td>\n",
       "    </tr>\n",
       "    <tr>\n",
       "      <th>sheets</th>\n",
       "      <td>0.379035</td>\n",
       "    </tr>\n",
       "    <tr>\n",
       "      <th>carpet</th>\n",
       "      <td>0.377151</td>\n",
       "    </tr>\n",
       "    <tr>\n",
       "      <th>non</th>\n",
       "      <td>0.363026</td>\n",
       "    </tr>\n",
       "    <tr>\n",
       "      <th>finally</th>\n",
       "      <td>0.360436</td>\n",
       "    </tr>\n",
       "    <tr>\n",
       "      <th>hair</th>\n",
       "      <td>0.358227</td>\n",
       "    </tr>\n",
       "  </tbody>\n",
       "</table>\n",
       "</div>"
      ],
      "text/plain": [
       "          pminegative\n",
       "dirty        0.420243\n",
       "poor         0.412481\n",
       "rude         0.398191\n",
       "terrible     0.387419\n",
       "smoke        0.384685\n",
       "sheets       0.379035\n",
       "carpet       0.377151\n",
       "non          0.363026\n",
       "finally      0.360436\n",
       "hair         0.358227"
      ]
     },
     "execution_count": 25,
     "metadata": {},
     "output_type": "execute_result"
    }
   ],
   "source": [
    "print('PMI for negative reviews - Unigram')\n",
    "pmiNeg_unigram.head(10)"
   ]
  },
  {
   "cell_type": "code",
   "execution_count": 26,
   "metadata": {},
   "outputs": [
    {
     "name": "stdout",
     "output_type": "stream",
     "text": [
      "PMI for negative reviews - Bigram\n"
     ]
    },
    {
     "data": {
      "text/html": [
       "<div>\n",
       "<style>\n",
       "    .dataframe thead tr:only-child th {\n",
       "        text-align: right;\n",
       "    }\n",
       "\n",
       "    .dataframe thead th {\n",
       "        text-align: left;\n",
       "    }\n",
       "\n",
       "    .dataframe tbody tr th {\n",
       "        vertical-align: top;\n",
       "    }\n",
       "</style>\n",
       "<table border=\"1\" class=\"dataframe\">\n",
       "  <thead>\n",
       "    <tr style=\"text-align: right;\">\n",
       "      <th></th>\n",
       "      <th>pminegative</th>\n",
       "    </tr>\n",
       "  </thead>\n",
       "  <tbody>\n",
       "    <tr>\n",
       "      <th>desk told</th>\n",
       "      <td>0.482485</td>\n",
       "    </tr>\n",
       "    <tr>\n",
       "      <th>told room</th>\n",
       "      <td>0.481334</td>\n",
       "    </tr>\n",
       "    <tr>\n",
       "      <th>desk said</th>\n",
       "      <td>0.439733</td>\n",
       "    </tr>\n",
       "    <tr>\n",
       "      <th>needless say</th>\n",
       "      <td>0.418544</td>\n",
       "    </tr>\n",
       "    <tr>\n",
       "      <th>did work</th>\n",
       "      <td>0.412714</td>\n",
       "    </tr>\n",
       "    <tr>\n",
       "      <th>room cleaned</th>\n",
       "      <td>0.412295</td>\n",
       "    </tr>\n",
       "    <tr>\n",
       "      <th>smoking room</th>\n",
       "      <td>0.408784</td>\n",
       "    </tr>\n",
       "    <tr>\n",
       "      <th>didn work</th>\n",
       "      <td>0.408114</td>\n",
       "    </tr>\n",
       "    <tr>\n",
       "      <th>non smoking</th>\n",
       "      <td>0.402457</td>\n",
       "    </tr>\n",
       "    <tr>\n",
       "      <th>called desk</th>\n",
       "      <td>0.397830</td>\n",
       "    </tr>\n",
       "  </tbody>\n",
       "</table>\n",
       "</div>"
      ],
      "text/plain": [
       "              pminegative\n",
       "desk told        0.482485\n",
       "told room        0.481334\n",
       "desk said        0.439733\n",
       "needless say     0.418544\n",
       "did work         0.412714\n",
       "room cleaned     0.412295\n",
       "smoking room     0.408784\n",
       "didn work        0.408114\n",
       "non smoking      0.402457\n",
       "called desk      0.397830"
      ]
     },
     "execution_count": 26,
     "metadata": {},
     "output_type": "execute_result"
    }
   ],
   "source": [
    "print('PMI for negative reviews - Bigram')\n",
    "pmiNeg_bigram.head(10)"
   ]
  },
  {
   "cell_type": "code",
   "execution_count": 27,
   "metadata": {},
   "outputs": [
    {
     "data": {
      "image/png": "[encoded data removed]",
      "text/plain": [
       "<Figure size 432x288 with 1 Axes>"
      ]
     },
     "metadata": {},
     "output_type": "display_data"
    },
    {
     "data": {
      "image/png": "[encoded data removed]",
      "text/plain": [
       "<Figure size 432x288 with 1 Axes>"
      ]
     },
     "metadata": {},
     "output_type": "display_data"
    }
   ],
   "source": [
    "pmiPos_unigram.head(10).plot.bar(rot=40, color='b',\n",
    "                                 title='Top 10 words in Positive Reviews based on PMI scores')\n",
    "pmiNeg_unigram.head(10).plot.bar(rot=40, color='r',\n",
    "                                 title='Top 10 words in Negative Reviews based on PMI scores')\n",
    "plt.show()"
   ]
  },
  {
   "cell_type": "code",
   "execution_count": 28,
   "metadata": {},
   "outputs": [
    {
     "data": {
      "image/png": "[encoded data removed]",
      "text/plain": [
       "<Figure size 432x288 with 1 Axes>"
      ]
     },
     "metadata": {},
     "output_type": "display_data"
    },
    {
     "data": {
      "image/png": "[encoded data removed]",
      "text/plain": [
       "<Figure size 432x288 with 1 Axes>"
      ]
     },
     "metadata": {},
     "output_type": "display_data"
    }
   ],
   "source": [
    "pmiPos_bigram.head(10).plot.bar(rot=40, color='b',\n",
    "                                 title='Top 10 words in Positive Reviews based on PMI scores')\n",
    "pmiNeg_bigram.head(10).plot.bar(rot=40, color='r',\n",
    "                                 title='Top 10 words in Negative Reviews based on PMI scores')\n",
    "plt.show()"
   ]
  },
  {
   "cell_type": "markdown",
   "metadata": {},
   "source": [
    "### Pointwise Mutual Information seems like a good metric to summarize the reviews in n-gram tokens!\n",
    "### By reading the n-gram tokens with high PMI scores for target variable, we can get a sense how much the reviewer did or didn't like the hotels. "
   ]
  },
  {
   "cell_type": "markdown",
   "metadata": {},
   "source": [
    "# Visualization\n",
    "Sometimes, we can learn a lot about the data by visualizing."
   ]
  },
  {
   "cell_type": "markdown",
   "metadata": {},
   "source": [
    "## Historgrams"
   ]
  },
  {
   "cell_type": "code",
   "execution_count": 4,
   "metadata": {},
   "outputs": [
    {
     "data": {
      "image/png": "[encoded data removed]",
      "text/plain": [
       "<Figure size 432x288 with 1 Axes>"
      ]
     },
     "metadata": {
      "needs_background": "light"
     },
     "output_type": "display_data"
    }
   ],
   "source": [
    "plt.xlabel('Rating Score')\n",
    "hotelDf['overall_rating'].plot(kind='hist', title='Histogram - Rating Scores',\n",
    "                            bins=np.arange(1,7)-0.5)\n",
    "plt.show()"
   ]
  },
  {
   "cell_type": "code",
   "execution_count": null,
   "metadata": {},
   "outputs": [],
   "source": [
    "plt.xlabel('Vader Sentiment Score')\n",
    "hotelDf['vaderScore'].plot(kind='hist', title='Histogram - Vader Scores', \n",
    "                           xticks=[-1.0, -0.5, 0.0, 0.5, 1.0])\n",
    "plt.show()"
   ]
  },
  {
   "cell_type": "code",
   "execution_count": null,
   "metadata": {},
   "outputs": [],
   "source": [
    "#Overlayed Histogram for GT rating and VD score\n",
    "#Just for demonstrating, I am dividing the rating score by 5\n",
    "x = [hotelDf['overall_rating'].as_matrix() / 5]\n",
    "y = [(hotelDf['vaderScore'].as_matrix() + 1 )/ 2]\n",
    "bins = np.linspace(0, 1, 100)\n",
    "plt.hist(x, bins, label='Rescaled True Ratings')\n",
    "plt.hist(y, bins, label='Rescaled Vader Scores')\n",
    "plt.title('Histogram - Rescaled')\n",
    "plt.xlabel('Score')\n",
    "plt.ylabel('Frequency')\n",
    "plt.legend(loc='upper left')\n",
    "plt.show()"
   ]
  },
  {
   "cell_type": "markdown",
   "metadata": {},
   "source": [
    "## Boxplots"
   ]
  },
  {
   "cell_type": "code",
   "execution_count": 34,
   "metadata": {
    "collapsed": true,
    "jupyter": {
     "outputs_hidden": true
    }
   },
   "outputs": [],
   "source": [
    "#Plot top 5 side-by-side boxplot for top 5 ground truth rated hotel\n",
    "tp5gthotel = ratingByHotel.sort_values('overall_rating', ascending=False).head(5).hotel_id.as_matrix()\n",
    "\n",
    "tempdf = hotelDf[(hotelDf.hotel_id == tp5gthotel[0]) | (hotelDf.hotel_id == tp5gthotel[1]) | \n",
    "         (hotelDf.hotel_id == tp5gthotel[2]) | (hotelDf.hotel_id == tp5gthotel[3]) | \n",
    "         (hotelDf.hotel_id == tp5gthotel[4])]"
   ]
  },
  {
   "cell_type": "code",
   "execution_count": null,
   "metadata": {},
   "outputs": [],
   "source": [
    "g = sns.factorplot(kind='box',        # Boxplot\n",
    "               y='ratingScore',       # Y-axis - values for boxplot\n",
    "               x='hotelID',        # X-axis - first factor\n",
    "               data=tempdf,        # Dataframe \n",
    "               size=6,            # Figure size (x100px)      \n",
    "               aspect=1.5,        # Width = size * aspect \n",
    "               legend_out=False)  # Make legend inside the plot\n",
    "\n",
    "for ax in g.axes.flat:\n",
    "    labels = ax.get_xticklabels() # get x labels\n",
    "    ax.set_xticklabels(labels, rotation=30) # set new labels\n",
    "    \n",
    "plt.show()"
   ]
  },
  {
   "cell_type": "code",
   "execution_count": null,
   "metadata": {},
   "outputs": [],
   "source": [
    "g = sns.factorplot(kind='box',        # Boxplot\n",
    "               y='vaderScore',       # Y-axis - values for boxplot\n",
    "               x='hotelID',        # X-axis - first factor\n",
    "               data=tempdf,        # Dataframe \n",
    "               size=6,            # Figure size (x100px)      \n",
    "               aspect=1.5,        # Width = size * aspect \n",
    "               legend_out=False)  # Make legend inside the plot\n",
    "\n",
    "for ax in g.axes.flat:\n",
    "    labels = ax.get_xticklabels() # get x labels\n",
    "    ax.set_xticklabels(labels, rotation=30) # set new labels\n",
    "    \n",
    "plt.show()"
   ]
  },
  {
   "cell_type": "markdown",
   "metadata": {},
   "source": [
    "## Scatterplots"
   ]
  },
  {
   "cell_type": "code",
   "execution_count": 37,
   "metadata": {},
   "outputs": [
    {
     "data": {
      "image/png": "[encoded data removed]",
      "text/plain": [
       "<matplotlib.figure.Figure at 0x11c6d6390>"
      ]
     },
     "metadata": {},
     "output_type": "display_data"
    }
   ],
   "source": [
    "y = hotelDf['overall_rating'].as_matrix()\n",
    "x = hotelDf['vaderScore'].as_matrix()\n",
    "plt.title('Vader score vs. True Ratings')\n",
    "plt.xlabel('Vader Scores')\n",
    "plt.ylabel('True Ratings')\n",
    "plt.xticks([-1, -0.5, 0, 0.5, 1])\n",
    "plt.yticks([1,2,3,4,5])\n",
    "plt.plot(x, y, \"o\", ms=3, color='b')\n",
    "plt.show()"
   ]
  },
  {
   "cell_type": "code",
   "execution_count": null,
   "metadata": {
    "collapsed": true,
    "jupyter": {
     "outputs_hidden": true
    }
   },
   "outputs": [],
   "source": []
  }
 ],
 "metadata": {
  "anaconda-cloud": {},
  "kernelspec": {
   "display_name": "Python 3",
   "language": "python",
   "name": "python3"
  },
  "language_info": {
   "codemirror_mode": {
    "name": "ipython",
    "version": 3
   },
   "file_extension": ".py",
   "mimetype": "text/x-python",
   "name": "python",
   "nbconvert_exporter": "python",
   "pygments_lexer": "ipython3",
   "version": "3.7.4"
  },
  "varInspector": {
   "cols": {
    "lenName": 16,
    "lenType": 16,
    "lenVar": 40
   },
   "kernels_config": {
    "python": {
     "delete_cmd_postfix": "",
     "delete_cmd_prefix": "del ",
     "library": "var_list.py",
     "varRefreshCmd": "print(var_dic_list())"
    },
    "r": {
     "delete_cmd_postfix": ") ",
     "delete_cmd_prefix": "rm(",
     "library": "var_list.r",
     "varRefreshCmd": "cat(var_dic_list()) "
    }
   },
   "types_to_exclude": [
    "module",
    "function",
    "builtin_function_or_method",
    "instance",
    "_Feature"
   ],
   "window_display": false
  }
 },
 "nbformat": 4,
 "nbformat_minor": 4
}
