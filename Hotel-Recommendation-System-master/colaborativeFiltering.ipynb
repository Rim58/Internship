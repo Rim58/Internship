{
 "cells": [
  {
   "cell_type": "markdown",
   "metadata": {},
   "source": [
    "building recommendations upon other users ratings, who have similar ratings with the user to whom we want to recommend.\n",
    "Using Matrix factorization"
   ]
  },
  {
   "cell_type": "code",
   "execution_count": 1,
   "metadata": {},
   "outputs": [],
   "source": [
    "import numpy as np\n",
    "import pandas as pd\n",
    "import tensorflow as tf\n",
    "from sklearn.preprocessing import MinMaxScaler\n",
    "import re"
   ]
  },
  {
   "cell_type": "markdown",
   "metadata": {},
   "source": [
    "## pre-processing steps of the data<br>\n",
    "-use usernames, hotelids and ratings<br>\n",
    "-filter hotelids (remove ';' from the id)<br>\n",
    "-filter hotels that have had at least 20 ratings from users<br>\n",
    "-filter users that have given at least 30 ratings. Because collaborative filtering algorithms requires user's active participation.\n"
   ]
  },
  {
   "cell_type": "code",
   "execution_count": 2,
   "metadata": {},
   "outputs": [],
   "source": [
    "hotel_rating_df = pd.read_csv('dataset.csv', sep=\";\",index_col=0, low_memory=False, dtype={'hotel_id':object})[['username','hotel_id','overall_rating']]"
   ]
  },
  {
   "cell_type": "code",
   "execution_count": 3,
   "metadata": {},
   "outputs": [],
   "source": [
    "# hotelDf.username=hotelDf.username.fillna(\"missing\")"
   ]
  },
  {
   "cell_type": "code",
   "execution_count": 4,
   "metadata": {},
   "outputs": [],
   "source": [
    "hotel_rating_df.hotel_id=hotel_rating_df.hotel_id.map(lambda x: str(x).replace(';',''))"
   ]
  },
  {
   "cell_type": "code",
   "execution_count": 5,
   "metadata": {},
   "outputs": [
    {
     "data": {
      "text/plain": [
       "(878533, 3)"
      ]
     },
     "execution_count": 5,
     "metadata": {},
     "output_type": "execute_result"
    }
   ],
   "source": [
    "hotel_rating_df.shape"
   ]
  },
  {
   "cell_type": "code",
   "execution_count": 6,
   "metadata": {},
   "outputs": [
    {
     "data": {
      "text/plain": [
       "3946"
      ]
     },
     "execution_count": 6,
     "metadata": {},
     "output_type": "execute_result"
    }
   ],
   "source": [
    "# checking how many hotels do we have in the data\n",
    "len(hotel_rating_df.hotel_id.unique())"
   ]
  },
  {
   "cell_type": "code",
   "execution_count": 7,
   "metadata": {},
   "outputs": [],
   "source": [
    "# count the number of ratings each hotel have had\n",
    "rating_count_df = (hotel_rating_df.\n",
    "     groupby(by = ['hotel_id'])['overall_rating'].\n",
    "     count().\n",
    "     reset_index().\n",
    "     rename(columns = {'overall_rating': 'RatingCount_hotel'})\n",
    "     [['hotel_id', 'RatingCount_hotel']]\n",
    "    )"
   ]
  },
  {
   "cell_type": "code",
   "execution_count": 8,
   "metadata": {},
   "outputs": [
    {
     "data": {
      "text/html": [
       "<div>\n",
       "<style scoped>\n",
       "    .dataframe tbody tr th:only-of-type {\n",
       "        vertical-align: middle;\n",
       "    }\n",
       "\n",
       "    .dataframe tbody tr th {\n",
       "        vertical-align: top;\n",
       "    }\n",
       "\n",
       "    .dataframe thead th {\n",
       "        text-align: right;\n",
       "    }\n",
       "</style>\n",
       "<table border=\"1\" class=\"dataframe\">\n",
       "  <thead>\n",
       "    <tr style=\"text-align: right;\">\n",
       "      <th></th>\n",
       "      <th>hotel_id</th>\n",
       "      <th>RatingCount_hotel</th>\n",
       "    </tr>\n",
       "  </thead>\n",
       "  <tbody>\n",
       "    <tr>\n",
       "      <th>0</th>\n",
       "      <td>100407</td>\n",
       "      <td>64</td>\n",
       "    </tr>\n",
       "    <tr>\n",
       "      <th>1</th>\n",
       "      <td>100504</td>\n",
       "      <td>739</td>\n",
       "    </tr>\n",
       "    <tr>\n",
       "      <th>2</th>\n",
       "      <td>100505</td>\n",
       "      <td>644</td>\n",
       "    </tr>\n",
       "    <tr>\n",
       "      <th>3</th>\n",
       "      <td>100506</td>\n",
       "      <td>88</td>\n",
       "    </tr>\n",
       "    <tr>\n",
       "      <th>4</th>\n",
       "      <td>100507</td>\n",
       "      <td>1049</td>\n",
       "    </tr>\n",
       "  </tbody>\n",
       "</table>\n",
       "</div>"
      ],
      "text/plain": [
       "  hotel_id  RatingCount_hotel\n",
       "0   100407                 64\n",
       "1   100504                739\n",
       "2   100505                644\n",
       "3   100506                 88\n",
       "4   100507               1049"
      ]
     },
     "execution_count": 8,
     "metadata": {},
     "output_type": "execute_result"
    }
   ],
   "source": [
    "rating_count_df.head()"
   ]
  },
  {
   "cell_type": "code",
   "execution_count": 9,
   "metadata": {},
   "outputs": [
    {
     "data": {
      "text/plain": [
       "(3946, 2)"
      ]
     },
     "execution_count": 9,
     "metadata": {},
     "output_type": "execute_result"
    }
   ],
   "source": [
    "rating_count_df.shape"
   ]
  },
  {
   "cell_type": "code",
   "execution_count": 10,
   "metadata": {},
   "outputs": [],
   "source": [
    "# setting the threshold to 30 to filter the hotels that have had at least 20 \n",
    "# ratings from users\n",
    "threshold=30\n",
    "rating_count_df=rating_count_df.query('RatingCount_hotel >= @threshold')"
   ]
  },
  {
   "cell_type": "code",
   "execution_count": 11,
   "metadata": {},
   "outputs": [
    {
     "data": {
      "text/plain": [
       "(2737, 2)"
      ]
     },
     "execution_count": 11,
     "metadata": {},
     "output_type": "execute_result"
    }
   ],
   "source": [
    "# checking how many hotels did we get after  applying the filter\n",
    "rating_count_df.shape\n",
    "# from 3946-> 3003"
   ]
  },
  {
   "cell_type": "code",
   "execution_count": 12,
   "metadata": {},
   "outputs": [],
   "source": [
    "user_rating_df= pd.merge(rating_count_df, hotel_rating_df, left_on='hotel_id', right_on='hotel_id', how='left')"
   ]
  },
  {
   "cell_type": "code",
   "execution_count": 13,
   "metadata": {},
   "outputs": [
    {
     "data": {
      "text/html": [
       "<div>\n",
       "<style scoped>\n",
       "    .dataframe tbody tr th:only-of-type {\n",
       "        vertical-align: middle;\n",
       "    }\n",
       "\n",
       "    .dataframe tbody tr th {\n",
       "        vertical-align: top;\n",
       "    }\n",
       "\n",
       "    .dataframe thead th {\n",
       "        text-align: right;\n",
       "    }\n",
       "</style>\n",
       "<table border=\"1\" class=\"dataframe\">\n",
       "  <thead>\n",
       "    <tr style=\"text-align: right;\">\n",
       "      <th></th>\n",
       "      <th>hotel_id</th>\n",
       "      <th>RatingCount_hotel</th>\n",
       "      <th>username</th>\n",
       "      <th>overall_rating</th>\n",
       "    </tr>\n",
       "  </thead>\n",
       "  <tbody>\n",
       "    <tr>\n",
       "      <th>0</th>\n",
       "      <td>100407</td>\n",
       "      <td>64</td>\n",
       "      <td>johnb6597</td>\n",
       "      <td>5.0</td>\n",
       "    </tr>\n",
       "    <tr>\n",
       "      <th>1</th>\n",
       "      <td>100407</td>\n",
       "      <td>64</td>\n",
       "      <td>John K</td>\n",
       "      <td>5.0</td>\n",
       "    </tr>\n",
       "    <tr>\n",
       "      <th>2</th>\n",
       "      <td>100407</td>\n",
       "      <td>64</td>\n",
       "      <td>AlowishusCPMc</td>\n",
       "      <td>4.0</td>\n",
       "    </tr>\n",
       "    <tr>\n",
       "      <th>3</th>\n",
       "      <td>100407</td>\n",
       "      <td>64</td>\n",
       "      <td>plasmid</td>\n",
       "      <td>5.0</td>\n",
       "    </tr>\n",
       "    <tr>\n",
       "      <th>4</th>\n",
       "      <td>100407</td>\n",
       "      <td>64</td>\n",
       "      <td>tyramjer</td>\n",
       "      <td>4.0</td>\n",
       "    </tr>\n",
       "  </tbody>\n",
       "</table>\n",
       "</div>"
      ],
      "text/plain": [
       "  hotel_id  RatingCount_hotel       username  overall_rating\n",
       "0   100407                 64      johnb6597             5.0\n",
       "1   100407                 64         John K             5.0\n",
       "2   100407                 64  AlowishusCPMc             4.0\n",
       "3   100407                 64        plasmid             5.0\n",
       "4   100407                 64       tyramjer             4.0"
      ]
     },
     "execution_count": 13,
     "metadata": {},
     "output_type": "execute_result"
    }
   ],
   "source": [
    "user_rating_df.head()"
   ]
  },
  {
   "cell_type": "code",
   "execution_count": 14,
   "metadata": {},
   "outputs": [
    {
     "data": {
      "text/html": [
       "<div>\n",
       "<style scoped>\n",
       "    .dataframe tbody tr th:only-of-type {\n",
       "        vertical-align: middle;\n",
       "    }\n",
       "\n",
       "    .dataframe tbody tr th {\n",
       "        vertical-align: top;\n",
       "    }\n",
       "\n",
       "    .dataframe thead th {\n",
       "        text-align: right;\n",
       "    }\n",
       "</style>\n",
       "<table border=\"1\" class=\"dataframe\">\n",
       "  <thead>\n",
       "    <tr style=\"text-align: right;\">\n",
       "      <th></th>\n",
       "      <th>username</th>\n",
       "      <th>RatingCount_user</th>\n",
       "    </tr>\n",
       "  </thead>\n",
       "  <tbody>\n",
       "    <tr>\n",
       "      <th>0</th>\n",
       "      <td>!!</td>\n",
       "      <td>2</td>\n",
       "    </tr>\n",
       "    <tr>\n",
       "      <th>1</th>\n",
       "      <td>!!!!!!?</td>\n",
       "      <td>1</td>\n",
       "    </tr>\n",
       "    <tr>\n",
       "      <th>2</th>\n",
       "      <td>!_1234</td>\n",
       "      <td>1</td>\n",
       "    </tr>\n",
       "    <tr>\n",
       "      <th>3</th>\n",
       "      <td>#1Cubsfan</td>\n",
       "      <td>2</td>\n",
       "    </tr>\n",
       "    <tr>\n",
       "      <th>4</th>\n",
       "      <td>#1ElvisFan</td>\n",
       "      <td>1</td>\n",
       "    </tr>\n",
       "  </tbody>\n",
       "</table>\n",
       "</div>"
      ],
      "text/plain": [
       "     username  RatingCount_user\n",
       "0          !!                 2\n",
       "1     !!!!!!?                 1\n",
       "2      !_1234                 1\n",
       "3   #1Cubsfan                 2\n",
       "4  #1ElvisFan                 1"
      ]
     },
     "execution_count": 14,
     "metadata": {},
     "output_type": "execute_result"
    }
   ],
   "source": [
    "# count the number of hotels each user rated\n",
    "user_count_df = (user_rating_df.\n",
    "     groupby(by = ['username'])['overall_rating'].\n",
    "     count().\n",
    "     reset_index().\n",
    "     rename(columns = {'overall_rating': 'RatingCount_user'})\n",
    "     [['username', 'RatingCount_user']]\n",
    "    )\n",
    "user_count_df.head()"
   ]
  },
  {
   "cell_type": "code",
   "execution_count": 15,
   "metadata": {},
   "outputs": [
    {
     "data": {
      "text/plain": [
       "(529341, 2)"
      ]
     },
     "execution_count": 15,
     "metadata": {},
     "output_type": "execute_result"
    }
   ],
   "source": [
    "user_count_df.shape\n",
    "# there is 532767 users"
   ]
  },
  {
   "cell_type": "code",
   "execution_count": 16,
   "metadata": {},
   "outputs": [
    {
     "data": {
      "text/html": [
       "<div>\n",
       "<style scoped>\n",
       "    .dataframe tbody tr th:only-of-type {\n",
       "        vertical-align: middle;\n",
       "    }\n",
       "\n",
       "    .dataframe tbody tr th {\n",
       "        vertical-align: top;\n",
       "    }\n",
       "\n",
       "    .dataframe thead th {\n",
       "        text-align: right;\n",
       "    }\n",
       "</style>\n",
       "<table border=\"1\" class=\"dataframe\">\n",
       "  <thead>\n",
       "    <tr style=\"text-align: right;\">\n",
       "      <th></th>\n",
       "      <th>username</th>\n",
       "      <th>RatingCount_user</th>\n",
       "    </tr>\n",
       "  </thead>\n",
       "  <tbody>\n",
       "    <tr>\n",
       "      <th>1620</th>\n",
       "      <td>1NicePerson</td>\n",
       "      <td>26</td>\n",
       "    </tr>\n",
       "    <tr>\n",
       "      <th>2867</th>\n",
       "      <td>2Midwest</td>\n",
       "      <td>41</td>\n",
       "    </tr>\n",
       "    <tr>\n",
       "      <th>6939</th>\n",
       "      <td>A B</td>\n",
       "      <td>24</td>\n",
       "    </tr>\n",
       "    <tr>\n",
       "      <th>6940</th>\n",
       "      <td>A C</td>\n",
       "      <td>20</td>\n",
       "    </tr>\n",
       "    <tr>\n",
       "      <th>6953</th>\n",
       "      <td>A K</td>\n",
       "      <td>21</td>\n",
       "    </tr>\n",
       "  </tbody>\n",
       "</table>\n",
       "</div>"
      ],
      "text/plain": [
       "         username  RatingCount_user\n",
       "1620  1NicePerson                26\n",
       "2867     2Midwest                41\n",
       "6939          A B                24\n",
       "6940          A C                20\n",
       "6953          A K                21"
      ]
     },
     "execution_count": 16,
     "metadata": {},
     "output_type": "execute_result"
    }
   ],
   "source": [
    "threshold = 20\n",
    "user_count_df = user_count_df.query('RatingCount_user >= @threshold')\n",
    "user_count_df.head()"
   ]
  },
  {
   "cell_type": "code",
   "execution_count": 17,
   "metadata": {},
   "outputs": [
    {
     "data": {
      "text/plain": [
       "(525, 2)"
      ]
     },
     "execution_count": 17,
     "metadata": {},
     "output_type": "execute_result"
    }
   ],
   "source": [
    "user_count_df.shape\n",
    "# from 532767 users to 537 active users!"
   ]
  },
  {
   "cell_type": "code",
   "execution_count": 18,
   "metadata": {},
   "outputs": [],
   "source": [
    "combined_df= user_rating_df.merge(user_count_df, left_on = 'username', right_on = 'username', how = 'inner')"
   ]
  },
  {
   "cell_type": "code",
   "execution_count": 36,
   "metadata": {},
   "outputs": [
    {
     "data": {
      "text/html": [
       "<div>\n",
       "<style scoped>\n",
       "    .dataframe tbody tr th:only-of-type {\n",
       "        vertical-align: middle;\n",
       "    }\n",
       "\n",
       "    .dataframe tbody tr th {\n",
       "        vertical-align: top;\n",
       "    }\n",
       "\n",
       "    .dataframe thead th {\n",
       "        text-align: right;\n",
       "    }\n",
       "</style>\n",
       "<table border=\"1\" class=\"dataframe\">\n",
       "  <thead>\n",
       "    <tr style=\"text-align: right;\">\n",
       "      <th></th>\n",
       "      <th>hotel_id</th>\n",
       "      <th>RatingCount_hotel</th>\n",
       "      <th>username</th>\n",
       "      <th>overall_rating</th>\n",
       "      <th>RatingCount_user</th>\n",
       "    </tr>\n",
       "  </thead>\n",
       "  <tbody>\n",
       "    <tr>\n",
       "      <th>15897</th>\n",
       "      <td>80806</td>\n",
       "      <td>286</td>\n",
       "      <td>Umailop</td>\n",
       "      <td>0.8</td>\n",
       "      <td>21</td>\n",
       "    </tr>\n",
       "    <tr>\n",
       "      <th>15898</th>\n",
       "      <td>80836</td>\n",
       "      <td>341</td>\n",
       "      <td>Umailop</td>\n",
       "      <td>1.0</td>\n",
       "      <td>21</td>\n",
       "    </tr>\n",
       "    <tr>\n",
       "      <th>15899</th>\n",
       "      <td>81022</td>\n",
       "      <td>525</td>\n",
       "      <td>Umailop</td>\n",
       "      <td>0.8</td>\n",
       "      <td>21</td>\n",
       "    </tr>\n",
       "    <tr>\n",
       "      <th>15900</th>\n",
       "      <td>81215</td>\n",
       "      <td>549</td>\n",
       "      <td>Umailop</td>\n",
       "      <td>0.2</td>\n",
       "      <td>21</td>\n",
       "    </tr>\n",
       "    <tr>\n",
       "      <th>15901</th>\n",
       "      <td>81246</td>\n",
       "      <td>133</td>\n",
       "      <td>Umailop</td>\n",
       "      <td>0.6</td>\n",
       "      <td>21</td>\n",
       "    </tr>\n",
       "  </tbody>\n",
       "</table>\n",
       "</div>"
      ],
      "text/plain": [
       "      hotel_id  RatingCount_hotel username  overall_rating  RatingCount_user\n",
       "15897    80806                286  Umailop             0.8                21\n",
       "15898    80836                341  Umailop             1.0                21\n",
       "15899    81022                525  Umailop             0.8                21\n",
       "15900    81215                549  Umailop             0.2                21\n",
       "15901    81246                133  Umailop             0.6                21"
      ]
     },
     "execution_count": 36,
     "metadata": {},
     "output_type": "execute_result"
    }
   ],
   "source": [
    "combined_df.tail()"
   ]
  },
  {
   "cell_type": "code",
   "execution_count": 20,
   "metadata": {},
   "outputs": [
    {
     "data": {
      "text/plain": [
       "(15902, 5)"
      ]
     },
     "execution_count": 20,
     "metadata": {},
     "output_type": "execute_result"
    }
   ],
   "source": [
    "combined_df.shape"
   ]
  },
  {
   "cell_type": "code",
   "execution_count": 21,
   "metadata": {},
   "outputs": [
    {
     "name": "stdout",
     "output_type": "stream",
     "text": [
      "Number of unique hotels:  2340\n",
      "Number of unique users:  525\n"
     ]
    }
   ],
   "source": [
    "print('Number of unique hotels: ', combined_df['hotel_id'].nunique())\n",
    "print('Number of unique users: ', combined_df['username'].nunique())"
   ]
  },
  {
   "cell_type": "markdown",
   "metadata": {},
   "source": [
    "So, our final dataset contains 537 users for 2462 hotels. And each user has given at least 20 ratings and each hotel has received at least 20 ratings. \n",
    "This is a good size in our case because we do not have a GPU."
   ]
  },
  {
   "cell_type": "markdown",
   "metadata": {},
   "source": [
    "The focus is on finding users who have given similar ratings to the same hotels. That is, create a link between users, to whom hotels that were reviewed in a positive way, will be suggested to them.\n",
    "Thus we don't look for associations between hotels, but between users.\n",
    "Therefore, to make recommendations in collaborative filtering, it relies only on observed user behavior — no content data or profile data is necessary."
   ]
  },
  {
   "cell_type": "markdown",
   "metadata": {},
   "source": [
    "The main observations that we will focus on are: <br>\n",
    "Users who rate hotels in a similar manner share one or more hidden preferences. And the Users with shared preferences are likely to give ratings in the same way to the same hotels."
   ]
  },
  {
   "cell_type": "code",
   "execution_count": 22,
   "metadata": {},
   "outputs": [
    {
     "data": {
      "text/html": [
       "<div>\n",
       "<style scoped>\n",
       "    .dataframe tbody tr th:only-of-type {\n",
       "        vertical-align: middle;\n",
       "    }\n",
       "\n",
       "    .dataframe tbody tr th {\n",
       "        vertical-align: top;\n",
       "    }\n",
       "\n",
       "    .dataframe thead th {\n",
       "        text-align: right;\n",
       "    }\n",
       "</style>\n",
       "<table border=\"1\" class=\"dataframe\">\n",
       "  <thead>\n",
       "    <tr style=\"text-align: right;\">\n",
       "      <th></th>\n",
       "      <th>hotel_id</th>\n",
       "      <th>RatingCount_hotel</th>\n",
       "      <th>username</th>\n",
       "      <th>overall_rating</th>\n",
       "      <th>RatingCount_user</th>\n",
       "    </tr>\n",
       "  </thead>\n",
       "  <tbody>\n",
       "    <tr>\n",
       "      <th>0</th>\n",
       "      <td>100407</td>\n",
       "      <td>64</td>\n",
       "      <td>John K</td>\n",
       "      <td>1.0</td>\n",
       "      <td>63</td>\n",
       "    </tr>\n",
       "    <tr>\n",
       "      <th>1</th>\n",
       "      <td>100597</td>\n",
       "      <td>637</td>\n",
       "      <td>John K</td>\n",
       "      <td>1.0</td>\n",
       "      <td>63</td>\n",
       "    </tr>\n",
       "    <tr>\n",
       "      <th>2</th>\n",
       "      <td>1007816</td>\n",
       "      <td>210</td>\n",
       "      <td>John K</td>\n",
       "      <td>0.2</td>\n",
       "      <td>63</td>\n",
       "    </tr>\n",
       "    <tr>\n",
       "      <th>3</th>\n",
       "      <td>109454</td>\n",
       "      <td>183</td>\n",
       "      <td>John K</td>\n",
       "      <td>0.2</td>\n",
       "      <td>63</td>\n",
       "    </tr>\n",
       "    <tr>\n",
       "      <th>4</th>\n",
       "      <td>1113787</td>\n",
       "      <td>397</td>\n",
       "      <td>John K</td>\n",
       "      <td>1.0</td>\n",
       "      <td>63</td>\n",
       "    </tr>\n",
       "  </tbody>\n",
       "</table>\n",
       "</div>"
      ],
      "text/plain": [
       "  hotel_id  RatingCount_hotel username  overall_rating  RatingCount_user\n",
       "0   100407                 64   John K             1.0                63\n",
       "1   100597                637   John K             1.0                63\n",
       "2  1007816                210   John K             0.2                63\n",
       "3   109454                183   John K             0.2                63\n",
       "4  1113787                397   John K             1.0                63"
      ]
     },
     "execution_count": 22,
     "metadata": {},
     "output_type": "execute_result"
    }
   ],
   "source": [
    "# normalize the ratings \n",
    "scaler = MinMaxScaler()\n",
    "combined_df['overall_rating'] = combined_df['overall_rating'].values.astype(float)\n",
    "rating_scaled_df= pd.DataFrame(scaler.fit_transform(combined_df['overall_rating'].values.reshape(-1,1)))\n",
    "combined_df['overall_rating'] = rating_scaled_df\n",
    "combined_df.head()"
   ]
  },
  {
   "cell_type": "code",
   "execution_count": 23,
   "metadata": {},
   "outputs": [
    {
     "name": "stderr",
     "output_type": "stream",
     "text": [
      "/home/maria/anaconda3/envs/nlp/lib/python3.6/site-packages/ipykernel_launcher.py:7: FutureWarning: Method .as_matrix will be removed in a future version. Use .values instead.\n",
      "  import sys\n"
     ]
    }
   ],
   "source": [
    "#  building the user hotel matrix \n",
    "combined_df= combined_df.drop_duplicates(['username', 'hotel_id'])\n",
    "user_hotel_matrix = combined_df.pivot(index='username', columns='hotel_id', values='overall_rating')\n",
    "user_hotel_matrix.fillna(0, inplace=True)\n",
    "users = user_hotel_matrix.index.tolist()\n",
    "hotels = user_hotel_matrix.columns.tolist()\n",
    "user_hotel_matrix = user_hotel_matrix.as_matrix()"
   ]
  },
  {
   "cell_type": "code",
   "execution_count": 24,
   "metadata": {},
   "outputs": [
    {
     "data": {
      "text/plain": [
       "array([[0. , 0. , 0.4, ..., 0. , 0. , 0.8],\n",
       "       [0. , 0. , 0. , ..., 0. , 0. , 0. ],\n",
       "       [0. , 0. , 0. , ..., 0. , 0. , 0. ],\n",
       "       ...,\n",
       "       [0. , 0. , 0. , ..., 0. , 0.8, 0. ],\n",
       "       [0. , 0. , 0. , ..., 0. , 0. , 0. ],\n",
       "       [0. , 0. , 0. , ..., 0. , 0. , 0. ]])"
      ]
     },
     "execution_count": 24,
     "metadata": {},
     "output_type": "execute_result"
    }
   ],
   "source": [
    "user_hotel_matrix"
   ]
  },
  {
   "cell_type": "code",
   "execution_count": 25,
   "metadata": {},
   "outputs": [
    {
     "name": "stdout",
     "output_type": "stream",
     "text": [
      "WARNING:tensorflow:From /home/maria/anaconda3/envs/nlp/lib/python3.6/site-packages/tensorflow_core/python/compat/v2_compat.py:65: disable_resource_variables (from tensorflow.python.ops.variable_scope) is deprecated and will be removed in a future version.\n",
      "Instructions for updating:\n",
      "non-resource variables are not supported in the long term\n"
     ]
    }
   ],
   "source": [
    "import tensorflow.compat.v1 as tf\n",
    "tf.disable_v2_behavior()"
   ]
  },
  {
   "cell_type": "code",
   "execution_count": 26,
   "metadata": {},
   "outputs": [],
   "source": [
    "# setting up the network parameters: the dimension of each hidden layer\n",
    "num_input = combined_df['hotel_id'].nunique()\n",
    "num_hidden_1 = 10\n",
    "num_hidden_2 = 5\n",
    "\n",
    "# initialize tenserflow placeholder\n",
    "X = tf.placeholder(tf.float64, [None, num_input])\n",
    "\n",
    "#  randomly initialize the weights ans biases\n",
    "\n",
    "weights = {\n",
    "    'encoder_h1': tf.Variable(tf.random_normal([num_input, num_hidden_1], dtype=tf.float64)),\n",
    "    'encoder_h2': tf.Variable(tf.random_normal([num_hidden_1, num_hidden_2], dtype=tf.float64)),\n",
    "    'decoder_h1': tf.Variable(tf.random_normal([num_hidden_2, num_hidden_1], dtype=tf.float64)),\n",
    "    'decoder_h2': tf.Variable(tf.random_normal([num_hidden_1, num_input], dtype=tf.float64)),\n",
    "}\n",
    "\n",
    "biases = {\n",
    "    'encoder_b1': tf.Variable(tf.random_normal([num_hidden_1], dtype=tf.float64)),\n",
    "    'encoder_b2': tf.Variable(tf.random_normal([num_hidden_2], dtype=tf.float64)),\n",
    "    'decoder_b1': tf.Variable(tf.random_normal([num_hidden_1], dtype=tf.float64)),\n",
    "    'decoder_b2': tf.Variable(tf.random_normal([num_input], dtype=tf.float64)),\n",
    "}"
   ]
  },
  {
   "cell_type": "code",
   "execution_count": 27,
   "metadata": {},
   "outputs": [],
   "source": [
    "# build the encoder and decoder model\n",
    "def encoder(x):\n",
    "    layer_1 = tf.nn.sigmoid(tf.add(tf.matmul(x, weights['encoder_h1']), biases['encoder_b1']))\n",
    "    layer_2 = tf.nn.sigmoid(tf.add(tf.matmul(layer_1, weights['encoder_h2']), biases['encoder_b2']))\n",
    "    return layer_2\n",
    "\n",
    "def decoder(x):\n",
    "    layer_1 = tf.nn.sigmoid(tf.add(tf.matmul(x, weights['decoder_h1']), biases['decoder_b1']))\n",
    "    layer_2 = tf.nn.sigmoid(tf.add(tf.matmul(layer_1, weights['decoder_h2']), biases['decoder_b2']))\n",
    "    return layer_2"
   ]
  },
  {
   "cell_type": "code",
   "execution_count": 28,
   "metadata": {},
   "outputs": [],
   "source": [
    "# construct the model and the predictions\n",
    "encoder_op = encoder(X)\n",
    "decoder_op = decoder(encoder_op)\n",
    "y_pred = decoder_op\n",
    "y_true = X"
   ]
  },
  {
   "cell_type": "code",
   "execution_count": 29,
   "metadata": {},
   "outputs": [
    {
     "name": "stdout",
     "output_type": "stream",
     "text": [
      "WARNING:tensorflow:From /home/maria/anaconda3/envs/nlp/lib/python3.6/site-packages/tensorflow_core/python/training/rmsprop.py:119: calling Ones.__init__ (from tensorflow.python.ops.init_ops) with dtype is deprecated and will be removed in a future version.\n",
      "Instructions for updating:\n",
      "Call initializer instance with the dtype argument instead of passing it to the constructor\n",
      "WARNING:tensorflow:From /home/maria/anaconda3/envs/nlp/lib/python3.6/site-packages/tensorflow_core/python/ops/metrics_impl.py:2026: div (from tensorflow.python.ops.math_ops) is deprecated and will be removed in a future version.\n",
      "Instructions for updating:\n",
      "Deprecated in favor of operator or tf.math.divide.\n"
     ]
    }
   ],
   "source": [
    "# define loss function and optimizer\n",
    "# minimize the squared error and define the evaluation metrics\n",
    "loss = tf.losses.mean_squared_error(y_true, y_pred)\n",
    "optimizer = tf.train.RMSPropOptimizer(0.03).minimize(loss)\n",
    "eval_x = tf.placeholder(tf.int32, )\n",
    "eval_y = tf.placeholder(tf.int32, )\n",
    "pre, pre_op = tf.metrics.precision(labels=eval_x, predictions=eval_y)"
   ]
  },
  {
   "cell_type": "code",
   "execution_count": 30,
   "metadata": {},
   "outputs": [],
   "source": [
    "# initilaze placeholders ans variables before they have values\n",
    "# create empty data frame to store the result table which will be the top 10 \n",
    "# recommendations for every user\n",
    "init = tf.global_variables_initializer()\n",
    "local_init = tf.local_variables_initializer()\n",
    "pred_data = pd.DataFrame()"
   ]
  },
  {
   "cell_type": "markdown",
   "metadata": {},
   "source": [
    "## Train the model"
   ]
  },
  {
   "cell_type": "code",
   "execution_count": 31,
   "metadata": {},
   "outputs": [],
   "source": [
    "# split training data into batches -> then feed the network with them\n",
    "# train the model with vectors of user ratings (each vector represents a user and \n",
    "# each column represents a hotel , the entries are ratings that the user gave to the hotel)\n",
    "# we should not recommend hotels to a user who have already rated them.\n",
    "with tf.Session() as session:\n",
    "    epochs = 100\n",
    "    batch_size = 35\n",
    "\n",
    "    session.run(init)\n",
    "    session.run(local_init)\n",
    "\n",
    "    num_batches = int(user_hotel_matrix.shape[0] / batch_size)\n",
    "    user_hotel_matrix = np.array_split(user_hotel_matrix, num_batches)\n",
    "    \n",
    "    for i in range(epochs):\n",
    "\n",
    "        avg_cost = 0\n",
    "        for batch in user_hotel_matrix:\n",
    "            _, l = session.run([optimizer, loss], feed_dict={X: batch})\n",
    "            avg_cost += l\n",
    "\n",
    "        avg_cost /= num_batches\n",
    "\n",
    "#         print(\"epoch: {} Loss: {}\".format(i + 1, avg_cost))\n",
    "\n",
    "    user_hotel_matrix = np.concatenate(user_hotel_matrix, axis=0)\n",
    "\n",
    "    preds = session.run(decoder_op, feed_dict={X: user_hotel_matrix})\n",
    "\n",
    "    pred_data = pred_data.append(pd.DataFrame(preds))\n",
    "\n",
    "    pred_data = pred_data.stack().reset_index(name='overall_rating')\n",
    "    pred_data.columns = ['username', 'hotel_id', 'overall_rating']\n",
    "    pred_data['username'] = pred_data['username'].map(lambda value: users[value])\n",
    "    pred_data['hotel_id'] = pred_data['hotel_id'].map(lambda value: hotels[value])\n",
    "    \n",
    "    keys = ['username', 'hotel_id']\n",
    "    index_1 = pred_data.set_index(keys).index\n",
    "    index_2 = combined_df.set_index(keys).index\n",
    "\n",
    "    top_ten_ranked = pred_data[~index_1.isin(index_2)]\n",
    "    top_ten_ranked = top_ten_ranked.sort_values(['username', 'overall_rating'], ascending=[True, False])\n",
    "    top_ten_ranked = top_ten_ranked.groupby('username').head(10)"
   ]
  },
  {
   "cell_type": "code",
   "execution_count": 33,
   "metadata": {},
   "outputs": [],
   "source": [
    "import pickle\n",
    "pickle.dump(top_ten_ranked,open(\"top_ten_ranked.p\",\"wb\"))"
   ]
  },
  {
   "cell_type": "code",
   "execution_count": 34,
   "metadata": {},
   "outputs": [
    {
     "data": {
      "text/html": [
       "<div>\n",
       "<style scoped>\n",
       "    .dataframe tbody tr th:only-of-type {\n",
       "        vertical-align: middle;\n",
       "    }\n",
       "\n",
       "    .dataframe tbody tr th {\n",
       "        vertical-align: top;\n",
       "    }\n",
       "\n",
       "    .dataframe thead th {\n",
       "        text-align: right;\n",
       "    }\n",
       "</style>\n",
       "<table border=\"1\" class=\"dataframe\">\n",
       "  <thead>\n",
       "    <tr style=\"text-align: right;\">\n",
       "      <th></th>\n",
       "      <th>username</th>\n",
       "      <th>hotel_id</th>\n",
       "      <th>overall_rating</th>\n",
       "    </tr>\n",
       "  </thead>\n",
       "  <tbody>\n",
       "    <tr>\n",
       "      <th>480807</th>\n",
       "      <td>John K</td>\n",
       "      <td>258705</td>\n",
       "      <td>0.113190</td>\n",
       "    </tr>\n",
       "    <tr>\n",
       "      <th>481750</th>\n",
       "      <td>John K</td>\n",
       "      <td>93454</td>\n",
       "      <td>0.088896</td>\n",
       "    </tr>\n",
       "    <tr>\n",
       "      <th>481605</th>\n",
       "      <td>John K</td>\n",
       "      <td>87638</td>\n",
       "      <td>0.085385</td>\n",
       "    </tr>\n",
       "    <tr>\n",
       "      <th>481753</th>\n",
       "      <td>John K</td>\n",
       "      <td>93464</td>\n",
       "      <td>0.078889</td>\n",
       "    </tr>\n",
       "    <tr>\n",
       "      <th>481761</th>\n",
       "      <td>John K</td>\n",
       "      <td>93507</td>\n",
       "      <td>0.076928</td>\n",
       "    </tr>\n",
       "    <tr>\n",
       "      <th>480124</th>\n",
       "      <td>John K</td>\n",
       "      <td>119728</td>\n",
       "      <td>0.066861</td>\n",
       "    </tr>\n",
       "    <tr>\n",
       "      <th>481296</th>\n",
       "      <td>John K</td>\n",
       "      <td>80602</td>\n",
       "      <td>0.064206</td>\n",
       "    </tr>\n",
       "    <tr>\n",
       "      <th>481359</th>\n",
       "      <td>John K</td>\n",
       "      <td>81192</td>\n",
       "      <td>0.062267</td>\n",
       "    </tr>\n",
       "    <tr>\n",
       "      <th>480459</th>\n",
       "      <td>John K</td>\n",
       "      <td>2079052</td>\n",
       "      <td>0.061800</td>\n",
       "    </tr>\n",
       "    <tr>\n",
       "      <th>481672</th>\n",
       "      <td>John K</td>\n",
       "      <td>89617</td>\n",
       "      <td>0.060563</td>\n",
       "    </tr>\n",
       "  </tbody>\n",
       "</table>\n",
       "</div>"
      ],
      "text/plain": [
       "       username hotel_id  overall_rating\n",
       "480807   John K   258705        0.113190\n",
       "481750   John K    93454        0.088896\n",
       "481605   John K    87638        0.085385\n",
       "481753   John K    93464        0.078889\n",
       "481761   John K    93507        0.076928\n",
       "480124   John K   119728        0.066861\n",
       "481296   John K    80602        0.064206\n",
       "481359   John K    81192        0.062267\n",
       "480459   John K  2079052        0.061800\n",
       "481672   John K    89617        0.060563"
      ]
     },
     "execution_count": 34,
     "metadata": {},
     "output_type": "execute_result"
    }
   ],
   "source": [
    "# selected a user, to see which hotels we should recommended sorted by the normalized predicted ratings\n",
    "top_ten_ranked.loc[top_ten_ranked['username'] == 'John K']"
   ]
  },
  {
   "cell_type": "code",
   "execution_count": 35,
   "metadata": {},
   "outputs": [
    {
     "data": {
      "text/html": [
       "<div>\n",
       "<style scoped>\n",
       "    .dataframe tbody tr th:only-of-type {\n",
       "        vertical-align: middle;\n",
       "    }\n",
       "\n",
       "    .dataframe tbody tr th {\n",
       "        vertical-align: top;\n",
       "    }\n",
       "\n",
       "    .dataframe thead th {\n",
       "        text-align: right;\n",
       "    }\n",
       "</style>\n",
       "<table border=\"1\" class=\"dataframe\">\n",
       "  <thead>\n",
       "    <tr style=\"text-align: right;\">\n",
       "      <th></th>\n",
       "      <th>username</th>\n",
       "      <th>hotel_id</th>\n",
       "      <th>overall_rating</th>\n",
       "    </tr>\n",
       "  </thead>\n",
       "  <tbody>\n",
       "    <tr>\n",
       "      <th>1190</th>\n",
       "      <td>John K</td>\n",
       "      <td>282699</td>\n",
       "      <td>5.0</td>\n",
       "    </tr>\n",
       "    <tr>\n",
       "      <th>498129</th>\n",
       "      <td>John K</td>\n",
       "      <td>781627</td>\n",
       "      <td>5.0</td>\n",
       "    </tr>\n",
       "    <tr>\n",
       "      <th>328653</th>\n",
       "      <td>John K</td>\n",
       "      <td>114591</td>\n",
       "      <td>5.0</td>\n",
       "    </tr>\n",
       "    <tr>\n",
       "      <th>362946</th>\n",
       "      <td>John K</td>\n",
       "      <td>76442</td>\n",
       "      <td>5.0</td>\n",
       "    </tr>\n",
       "    <tr>\n",
       "      <th>378107</th>\n",
       "      <td>John K</td>\n",
       "      <td>274223</td>\n",
       "      <td>5.0</td>\n",
       "    </tr>\n",
       "    <tr>\n",
       "      <th>...</th>\n",
       "      <td>...</td>\n",
       "      <td>...</td>\n",
       "      <td>...</td>\n",
       "    </tr>\n",
       "    <tr>\n",
       "      <th>530073</th>\n",
       "      <td>John K</td>\n",
       "      <td>109454</td>\n",
       "      <td>1.0</td>\n",
       "    </tr>\n",
       "    <tr>\n",
       "      <th>679808</th>\n",
       "      <td>John K</td>\n",
       "      <td>121917</td>\n",
       "      <td>1.0</td>\n",
       "    </tr>\n",
       "    <tr>\n",
       "      <th>82565</th>\n",
       "      <td>John K</td>\n",
       "      <td>93625</td>\n",
       "      <td>1.0</td>\n",
       "    </tr>\n",
       "    <tr>\n",
       "      <th>242573</th>\n",
       "      <td>John K</td>\n",
       "      <td>113300</td>\n",
       "      <td>1.0</td>\n",
       "    </tr>\n",
       "    <tr>\n",
       "      <th>802749</th>\n",
       "      <td>John K</td>\n",
       "      <td>1007816</td>\n",
       "      <td>1.0</td>\n",
       "    </tr>\n",
       "  </tbody>\n",
       "</table>\n",
       "<p>64 rows × 3 columns</p>\n",
       "</div>"
      ],
      "text/plain": [
       "       username hotel_id  overall_rating\n",
       "1190     John K   282699             5.0\n",
       "498129   John K   781627             5.0\n",
       "328653   John K   114591             5.0\n",
       "362946   John K    76442             5.0\n",
       "378107   John K   274223             5.0\n",
       "...         ...      ...             ...\n",
       "530073   John K   109454             1.0\n",
       "679808   John K   121917             1.0\n",
       "82565    John K    93625             1.0\n",
       "242573   John K   113300             1.0\n",
       "802749   John K  1007816             1.0\n",
       "\n",
       "[64 rows x 3 columns]"
      ]
     },
     "execution_count": 35,
     "metadata": {},
     "output_type": "execute_result"
    }
   ],
   "source": [
    "# lets see the hotels , the user selected has rated them sorted by ratings\n",
    "hotel_rating_df.loc[hotel_rating_df['username'] == 'John K'].sort_values(by=['overall_rating'], ascending=False)"
   ]
  },
  {
   "cell_type": "code",
   "execution_count": null,
   "metadata": {},
   "outputs": [],
   "source": []
  },
  {
   "cell_type": "code",
   "execution_count": null,
   "metadata": {},
   "outputs": [],
   "source": []
  }
 ],
 "metadata": {
  "kernelspec": {
   "display_name": "Python 3",
   "language": "python",
   "name": "python3"
  },
  "language_info": {
   "codemirror_mode": {
    "name": "ipython",
    "version": 3
   },
   "file_extension": ".py",
   "mimetype": "text/x-python",
   "name": "python",
   "nbconvert_exporter": "python",
   "pygments_lexer": "ipython3",
   "version": "3.6.9"
  }
 },
 "nbformat": 4,
 "nbformat_minor": 4
}
